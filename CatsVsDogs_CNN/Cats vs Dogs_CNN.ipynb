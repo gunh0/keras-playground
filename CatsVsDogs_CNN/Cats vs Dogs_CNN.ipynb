{
 "cells": [
  {
   "cell_type": "code",
   "execution_count": 1,
   "metadata": {},
   "outputs": [],
   "source": [
    "import os, shutil\n",
    "\n",
    "# 원본 데이터셋을 압축 해제한 디렉터리 경로\n",
    "original_dataset_dir = './datasets/dogs-vs-cats'\n",
    "\n",
    "# 소규모 데이터셋을 저장할 디렉터리\n",
    "base_dir = './datasets'\n",
    "#if os.path.exists(base_dir):  # 반복적인 실행을 위해 디렉토리를 삭제합니다.\n",
    "#    shutil.rmtree(base_dir)   # 이 코드는 책에 포함되어 있지 않습니다.\n",
    "#os.mkdir(base_dir)\n",
    "\n",
    "# 훈련, 검증, 테스트 분할을 위한 디렉터리\n",
    "train_dir = os.path.join(base_dir, 'train')\n",
    "os.mkdir(train_dir)\n",
    "validation_dir = os.path.join(base_dir, 'validation')\n",
    "os.mkdir(validation_dir)\n",
    "test_dir = os.path.join(base_dir, 'test')\n",
    "os.mkdir(test_dir)\n",
    "\n",
    "# 훈련용 고양이 사진 디렉터리\n",
    "train_cats_dir = os.path.join(train_dir, 'cats')\n",
    "os.mkdir(train_cats_dir)\n",
    "\n",
    "# 훈련용 강아지 사진 디렉터리\n",
    "train_dogs_dir = os.path.join(train_dir, 'dogs')\n",
    "os.mkdir(train_dogs_dir)\n",
    "\n",
    "# 검증용 고양이 사진 디렉터리\n",
    "validation_cats_dir = os.path.join(validation_dir, 'cats')\n",
    "os.mkdir(validation_cats_dir)\n",
    "\n",
    "# 검증용 강아지 사진 디렉터리\n",
    "validation_dogs_dir = os.path.join(validation_dir, 'dogs')\n",
    "os.mkdir(validation_dogs_dir)\n",
    "\n",
    "# 테스트용 고양이 사진 디렉터리\n",
    "test_cats_dir = os.path.join(test_dir, 'cats')\n",
    "os.mkdir(test_cats_dir)\n",
    "\n",
    "# 테스트용 강아지 사진 디렉터리\n",
    "test_dogs_dir = os.path.join(test_dir, 'dogs')\n",
    "os.mkdir(test_dogs_dir)\n",
    "\n",
    "# 처음 1,000개의 고양이 이미지를 train_cats_dir에 복사합니다\n",
    "fnames = ['cat.{}.jpg'.format(i) for i in range(1000)]\n",
    "for fname in fnames:\n",
    "    src = os.path.join(original_dataset_dir, fname)\n",
    "    dst = os.path.join(train_cats_dir, fname)\n",
    "    shutil.copyfile(src, dst)\n",
    "\n",
    "# 다음 500개 고양이 이미지를 validation_cats_dir에 복사합니다\n",
    "fnames = ['cat.{}.jpg'.format(i) for i in range(1000, 1500)]\n",
    "for fname in fnames:\n",
    "    src = os.path.join(original_dataset_dir, fname)\n",
    "    dst = os.path.join(validation_cats_dir, fname)\n",
    "    shutil.copyfile(src, dst)\n",
    "\n",
    "# 다음 500개 고양이 이미지를 test_cats_dir에 복사합니다\n",
    "fnames = ['cat.{}.jpg'.format(i) for i in range(1500, 2000)]\n",
    "for fname in fnames:\n",
    "    src = os.path.join(original_dataset_dir, fname)\n",
    "    dst = os.path.join(test_cats_dir, fname)\n",
    "    shutil.copyfile(src, dst)\n",
    "\n",
    "# 처음 1,000개의 강아지 이미지를 train_dogs_dir에 복사합니다\n",
    "fnames = ['dog.{}.jpg'.format(i) for i in range(1000)]\n",
    "for fname in fnames:\n",
    "    src = os.path.join(original_dataset_dir, fname)\n",
    "    dst = os.path.join(train_dogs_dir, fname)\n",
    "    shutil.copyfile(src, dst)\n",
    "\n",
    "# 다음 500개 강아지 이미지를 validation_dogs_dir에 복사합니다\n",
    "fnames = ['dog.{}.jpg'.format(i) for i in range(1000, 1500)]\n",
    "for fname in fnames:\n",
    "    src = os.path.join(original_dataset_dir, fname)\n",
    "    dst = os.path.join(validation_dogs_dir, fname)\n",
    "    shutil.copyfile(src, dst)\n",
    "\n",
    "# 다음 500개 강아지 이미지를 test_dogs_dir에 복사합니다\n",
    "fnames = ['dog.{}.jpg'.format(i) for i in range(1500, 2000)]\n",
    "for fname in fnames:\n",
    "    src = os.path.join(original_dataset_dir, fname)\n",
    "    dst = os.path.join(test_dogs_dir, fname)\n",
    "    shutil.copyfile(src, dst)"
   ]
  },
  {
   "cell_type": "code",
   "execution_count": 2,
   "metadata": {},
   "outputs": [
    {
     "name": "stderr",
     "output_type": "stream",
     "text": [
      "Using TensorFlow backend.\n"
     ]
    },
    {
     "name": "stdout",
     "output_type": "stream",
     "text": [
      "WARNING:tensorflow:From D:\\Anaconda3\\lib\\site-packages\\tensorflow\\python\\framework\\op_def_library.py:263: colocate_with (from tensorflow.python.framework.ops) is deprecated and will be removed in a future version.\n",
      "Instructions for updating:\n",
      "Colocations handled automatically by placer.\n"
     ]
    }
   ],
   "source": [
    "# 코드 5-5 강아지 vs. 고양이 분류를 위한 소규모 컨브넷 만들기\n",
    "from keras import layers\n",
    "from keras import models\n",
    "\n",
    "model = models.Sequential()\n",
    "model.add(layers.Conv2D(32, (3, 3), activation='relu',\n",
    "                        input_shape=(150, 150, 3)))\n",
    "model.add(layers.MaxPooling2D((2, 2)))\n",
    "model.add(layers.Conv2D(64, (3, 3), activation='relu'))\n",
    "model.add(layers.MaxPooling2D((2, 2)))\n",
    "model.add(layers.Conv2D(128, (3, 3), activation='relu'))\n",
    "model.add(layers.MaxPooling2D((2, 2)))\n",
    "model.add(layers.Conv2D(128, (3, 3), activation='relu'))\n",
    "model.add(layers.MaxPooling2D((2, 2)))\n",
    "model.add(layers.Flatten())\n",
    "model.add(layers.Dense(512, activation='relu'))\n",
    "model.add(layers.Dense(1, activation='sigmoid'))"
   ]
  },
  {
   "cell_type": "code",
   "execution_count": 3,
   "metadata": {},
   "outputs": [
    {
     "name": "stdout",
     "output_type": "stream",
     "text": [
      "_________________________________________________________________\n",
      "Layer (type)                 Output Shape              Param #   \n",
      "=================================================================\n",
      "conv2d_1 (Conv2D)            (None, 148, 148, 32)      896       \n",
      "_________________________________________________________________\n",
      "max_pooling2d_1 (MaxPooling2 (None, 74, 74, 32)        0         \n",
      "_________________________________________________________________\n",
      "conv2d_2 (Conv2D)            (None, 72, 72, 64)        18496     \n",
      "_________________________________________________________________\n",
      "max_pooling2d_2 (MaxPooling2 (None, 36, 36, 64)        0         \n",
      "_________________________________________________________________\n",
      "conv2d_3 (Conv2D)            (None, 34, 34, 128)       73856     \n",
      "_________________________________________________________________\n",
      "max_pooling2d_3 (MaxPooling2 (None, 17, 17, 128)       0         \n",
      "_________________________________________________________________\n",
      "conv2d_4 (Conv2D)            (None, 15, 15, 128)       147584    \n",
      "_________________________________________________________________\n",
      "max_pooling2d_4 (MaxPooling2 (None, 7, 7, 128)         0         \n",
      "_________________________________________________________________\n",
      "flatten_1 (Flatten)          (None, 6272)              0         \n",
      "_________________________________________________________________\n",
      "dense_1 (Dense)              (None, 512)               3211776   \n",
      "_________________________________________________________________\n",
      "dense_2 (Dense)              (None, 1)                 513       \n",
      "=================================================================\n",
      "Total params: 3,453,121\n",
      "Trainable params: 3,453,121\n",
      "Non-trainable params: 0\n",
      "_________________________________________________________________\n"
     ]
    }
   ],
   "source": [
    "model.summary()"
   ]
  },
  {
   "cell_type": "code",
   "execution_count": 4,
   "metadata": {},
   "outputs": [],
   "source": [
    "# 코드 5-6 모델의 훈련 설정하기\n",
    "from keras import optimizers\n",
    "\n",
    "model.compile(loss='binary_crossentropy',\n",
    "              optimizer=optimizers.RMSprop(lr=1e-4),\n",
    "              metrics=['acc'])"
   ]
  },
  {
   "cell_type": "markdown",
   "metadata": {},
   "source": [
    "데이터는 네트워크에 주입되기 전에 부동 소수의 타입의 텐서로 적절하게 전처리되어 있어야 합니다. JPEG파일이므로 다음과 같은 과정으로 전처리 합니다.\n",
    "\n",
    "사진 파일을 읽습니다.\n",
    "JPEG 콘텐츠를 RGB 픽셀 값으로 디코딩합니다.\n",
    "그다음 부동 소수 타입의 텐서로 변환합니다.\n",
    "픽셀 값(0~255의 정수값)의 스케일을 [0, 1] 사이로 조정합니다.\n",
    "케라스에서는 이런 단계를 자동으로 처리하는 유틸리티가 있습니다. 케라스에는 keras.preprocessing.image 와 같이 이미지 처리를 위한 헬퍼 도구들도 있습니다. ImageDataGenerator 클래스는 디스크에 있는 이미지 파일을 전처리된 배치 텐서로 자동으로 바꾸어 주는 파이썬 제너레이터를 만들어 줍니다."
   ]
  },
  {
   "cell_type": "code",
   "execution_count": 5,
   "metadata": {},
   "outputs": [
    {
     "name": "stdout",
     "output_type": "stream",
     "text": [
      "Found 2000 images belonging to 2 classes.\n",
      "Found 1000 images belonging to 2 classes.\n"
     ]
    }
   ],
   "source": [
    "# 코드 5-7 ImageDataGenerator를 사용하여 디렉터리에서 이미지 읽기\n",
    "from keras.preprocessing.image import ImageDataGenerator\n",
    "\n",
    "# 모든 이미지를 1/255로 스케일을 조정합니다\n",
    "train_datagen = ImageDataGenerator(rescale=1./255)\n",
    "test_datagen = ImageDataGenerator(rescale=1./255)\n",
    "\n",
    "train_generator = train_datagen.flow_from_directory(\n",
    "        # 타깃 디렉터리\n",
    "        train_dir,\n",
    "        # 모든 이미지를 150 × 150 크기로 바꿉니다\n",
    "        target_size=(150, 150),\n",
    "        batch_size=20,\n",
    "        # binary_crossentropy 손실을 사용하기 때문에 이진 레이블이 필요합니다\n",
    "        class_mode='binary')\n",
    "\n",
    "validation_generator = test_datagen.flow_from_directory(\n",
    "        validation_dir,\n",
    "        target_size=(150, 150),\n",
    "        batch_size=20,\n",
    "        class_mode='binary')"
   ]
  },
  {
   "cell_type": "code",
   "execution_count": 6,
   "metadata": {},
   "outputs": [
    {
     "name": "stdout",
     "output_type": "stream",
     "text": [
      "WARNING:tensorflow:From D:\\Anaconda3\\lib\\site-packages\\tensorflow\\python\\ops\\math_ops.py:3066: to_int32 (from tensorflow.python.ops.math_ops) is deprecated and will be removed in a future version.\n",
      "Instructions for updating:\n",
      "Use tf.cast instead.\n",
      "Epoch 1/30\n",
      "100/100 [==============================] - 20s 198ms/step - loss: 0.6900 - acc: 0.5200 - val_loss: 0.6802 - val_acc: 0.5080\n",
      "Epoch 2/30\n",
      "100/100 [==============================] - 9s 94ms/step - loss: 0.6616 - acc: 0.6060 - val_loss: 0.6452 - val_acc: 0.6190\n",
      "Epoch 3/30\n",
      "100/100 [==============================] - 9s 94ms/step - loss: 0.6091 - acc: 0.6625 - val_loss: 0.6071 - val_acc: 0.6670\n",
      "Epoch 4/30\n",
      "100/100 [==============================] - 10s 96ms/step - loss: 0.5667 - acc: 0.7050 - val_loss: 0.6241 - val_acc: 0.6360\n",
      "Epoch 5/30\n",
      "100/100 [==============================] - 10s 98ms/step - loss: 0.5404 - acc: 0.7165 - val_loss: 0.5922 - val_acc: 0.6770\n",
      "Epoch 6/30\n",
      "100/100 [==============================] - 10s 99ms/step - loss: 0.5049 - acc: 0.7360 - val_loss: 0.6714 - val_acc: 0.6470\n",
      "Epoch 7/30\n",
      "100/100 [==============================] - 10s 102ms/step - loss: 0.4885 - acc: 0.7590 - val_loss: 0.6030 - val_acc: 0.6750\n",
      "Epoch 8/30\n",
      "100/100 [==============================] - 10s 102ms/step - loss: 0.4497 - acc: 0.7880 - val_loss: 0.5877 - val_acc: 0.6900\n",
      "Epoch 9/30\n",
      "100/100 [==============================] - 11s 105ms/step - loss: 0.4297 - acc: 0.8040 - val_loss: 0.5954 - val_acc: 0.6900\n",
      "Epoch 10/30\n",
      "100/100 [==============================] - 11s 106ms/step - loss: 0.4025 - acc: 0.8220 - val_loss: 0.5471 - val_acc: 0.7100\n",
      "Epoch 11/30\n",
      "100/100 [==============================] - 11s 107ms/step - loss: 0.3833 - acc: 0.8360 - val_loss: 0.5540 - val_acc: 0.7460\n",
      "Epoch 12/30\n",
      "100/100 [==============================] - 11s 114ms/step - loss: 0.3573 - acc: 0.8460 - val_loss: 0.5924 - val_acc: 0.7120\n",
      "Epoch 13/30\n",
      "100/100 [==============================] - 12s 118ms/step - loss: 0.3346 - acc: 0.8555 - val_loss: 0.5411 - val_acc: 0.7370\n",
      "Epoch 14/30\n",
      "100/100 [==============================] - 12s 123ms/step - loss: 0.3144 - acc: 0.8735 - val_loss: 0.5612 - val_acc: 0.7380\n",
      "Epoch 15/30\n",
      "100/100 [==============================] - 13s 127ms/step - loss: 0.2977 - acc: 0.8755 - val_loss: 0.5549 - val_acc: 0.7330\n",
      "Epoch 16/30\n",
      "100/100 [==============================] - 13s 127ms/step - loss: 0.2718 - acc: 0.8920 - val_loss: 0.6082 - val_acc: 0.7330\n",
      "Epoch 17/30\n",
      "100/100 [==============================] - 14s 136ms/step - loss: 0.2471 - acc: 0.9045 - val_loss: 0.5836 - val_acc: 0.7330\n",
      "Epoch 18/30\n",
      "100/100 [==============================] - 14s 135ms/step - loss: 0.2324 - acc: 0.9105 - val_loss: 0.6090 - val_acc: 0.7380\n",
      "Epoch 19/30\n",
      "100/100 [==============================] - 14s 136ms/step - loss: 0.1989 - acc: 0.9265 - val_loss: 0.6433 - val_acc: 0.7370\n",
      "Epoch 20/30\n",
      "100/100 [==============================] - 14s 136ms/step - loss: 0.1849 - acc: 0.9340 - val_loss: 0.6406 - val_acc: 0.7420\n",
      "Epoch 21/30\n",
      "100/100 [==============================] - 14s 136ms/step - loss: 0.1654 - acc: 0.9375 - val_loss: 0.6708 - val_acc: 0.7390\n",
      "Epoch 22/30\n",
      "100/100 [==============================] - 16s 164ms/step - loss: 0.1430 - acc: 0.9535 - val_loss: 0.7343 - val_acc: 0.7420\n",
      "Epoch 23/30\n",
      "100/100 [==============================] - 16s 164ms/step - loss: 0.1266 - acc: 0.9575 - val_loss: 0.7351 - val_acc: 0.7430\n",
      "Epoch 24/30\n",
      "100/100 [==============================] - 16s 165ms/step - loss: 0.1091 - acc: 0.9630 - val_loss: 0.7297 - val_acc: 0.7500\n",
      "Epoch 25/30\n",
      "100/100 [==============================] - 16s 165ms/step - loss: 0.0970 - acc: 0.9685 - val_loss: 0.8278 - val_acc: 0.7270\n",
      "Epoch 26/30\n",
      "100/100 [==============================] - 16s 165ms/step - loss: 0.0860 - acc: 0.9765 - val_loss: 0.7951 - val_acc: 0.7430\n",
      "Epoch 27/30\n",
      "100/100 [==============================] - 16s 164ms/step - loss: 0.0767 - acc: 0.9795 - val_loss: 0.8263 - val_acc: 0.7380\n",
      "Epoch 28/30\n",
      "100/100 [==============================] - 16s 165ms/step - loss: 0.0586 - acc: 0.9840 - val_loss: 0.8890 - val_acc: 0.7520\n",
      "Epoch 29/30\n",
      "100/100 [==============================] - 16s 164ms/step - loss: 0.0565 - acc: 0.9845 - val_loss: 0.8802 - val_acc: 0.7370\n",
      "Epoch 30/30\n",
      "100/100 [==============================] - 16s 165ms/step - loss: 0.0466 - acc: 0.9885 - val_loss: 1.4089 - val_acc: 0.6940\n"
     ]
    }
   ],
   "source": [
    "# 코드 5-8 배치 제너레이터를 사용하여 모델 훈련하기\n",
    "history = model.fit_generator(\n",
    "      train_generator,\n",
    "      steps_per_epoch=100,\n",
    "      epochs=30,\n",
    "      validation_data=validation_generator,\n",
    "      validation_steps=50)"
   ]
  },
  {
   "cell_type": "code",
   "execution_count": 7,
   "metadata": {},
   "outputs": [],
   "source": [
    "# 코드 5-9 데이터 저장하기\n",
    "model.save('cats_and_dogs_small_1.h5')"
   ]
  },
  {
   "cell_type": "code",
   "execution_count": 9,
   "metadata": {},
   "outputs": [
    {
     "data": {
      "image/png": "[encoded data removed]",
      "text/plain": [
       "<Figure size 432x288 with 1 Axes>"
      ]
     },
     "metadata": {
      "needs_background": "light"
     },
     "output_type": "display_data"
    },
    {
     "data": {
      "image/png": "[encoded data removed]",
      "text/plain": [
       "<Figure size 432x288 with 1 Axes>"
      ]
     },
     "metadata": {
      "needs_background": "light"
     },
     "output_type": "display_data"
    }
   ],
   "source": [
    "# 코드 5-10 훈련의 정확도와 손실 그래프 그리기\n",
    "import matplotlib.pyplot as plt\n",
    "acc = history.history['acc']\n",
    "val_acc = history.history['val_acc']\n",
    "loss = history.history['loss']\n",
    "val_loss = history.history['val_loss']\n",
    "\n",
    "epochs = range(len(acc))\n",
    "\n",
    "plt.plot(epochs, acc, 'bo', label='Training acc')\n",
    "plt.plot(epochs, val_acc, 'b', label='Validation acc')\n",
    "plt.title('Training and validation accuracy')\n",
    "plt.legend()\n",
    "\n",
    "plt.figure()\n",
    "\n",
    "plt.plot(epochs, loss, 'bo', label='Training loss')\n",
    "plt.plot(epochs, val_loss, 'b', label='Validation loss')\n",
    "plt.title('Training and validation loss')\n",
    "plt.legend()\n",
    "\n",
    "plt.show()"
   ]
  }
 ],
 "metadata": {
  "kernelspec": {
   "display_name": "Python 3",
   "language": "python",
   "name": "python3"
  },
  "language_info": {
   "codemirror_mode": {
    "name": "ipython",
    "version": 3
   },
   "file_extension": ".py",
   "mimetype": "text/x-python",
   "name": "python",
   "nbconvert_exporter": "python",
   "pygments_lexer": "ipython3",
   "version": "3.7.3"
  }
 },
 "nbformat": 4,
 "nbformat_minor": 2
}
