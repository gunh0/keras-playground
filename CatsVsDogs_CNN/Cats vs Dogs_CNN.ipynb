{
 "cells": [
  {
   "cell_type": "code",
   "execution_count": 1,
   "metadata": {},
   "outputs": [
    {
     "name": "stdout",
     "output_type": "stream",
     "text": [
      "[name: \"/device:CPU:0\"\n",
      "device_type: \"CPU\"\n",
      "memory_limit: 268435456\n",
      "locality {\n",
      "}\n",
      "incarnation: 11349926601578221121\n",
      ", name: \"/device:GPU:0\"\n",
      "device_type: \"GPU\"\n",
      "memory_limit: 3198956339\n",
      "locality {\n",
      "  bus_id: 1\n",
      "  links {\n",
      "  }\n",
      "}\n",
      "incarnation: 12144705732727983847\n",
      "physical_device_desc: \"device: 0, name: GeForce GTX 960M, pci bus id: 0000:01:00.0, compute capability: 5.0\"\n",
      "]\n"
     ]
    }
   ],
   "source": [
    "from tensorflow.python.client import device_lib\n",
    "print(device_lib.list_local_devices())"
   ]
  },
  {
   "cell_type": "code",
   "execution_count": 2,
   "metadata": {},
   "outputs": [],
   "source": [
    "import os, shutil\n",
    "\n",
    "# 원본 데이터셋을 압축 해제한 디렉터리 경로\n",
    "original_dataset_dir = './datasets/dogs-vs-cats'\n",
    "\n",
    "# 소규모 데이터셋을 저장할 디렉터리\n",
    "base_dir = './datasets'\n",
    "\n",
    "# 훈련, 검증, 테스트 분할을 위한 디렉터리\n",
    "train_dir = os.path.join(base_dir, 'train')\n",
    "os.mkdir(train_dir)\n",
    "validation_dir = os.path.join(base_dir, 'validation')\n",
    "os.mkdir(validation_dir)\n",
    "test_dir = os.path.join(base_dir, 'test')\n",
    "os.mkdir(test_dir)\n",
    "\n",
    "# 훈련용 고양이 사진 디렉터리\n",
    "train_cats_dir = os.path.join(train_dir, 'cats')\n",
    "os.mkdir(train_cats_dir)\n",
    "\n",
    "# 훈련용 강아지 사진 디렉터리\n",
    "train_dogs_dir = os.path.join(train_dir, 'dogs')\n",
    "os.mkdir(train_dogs_dir)\n",
    "\n",
    "# 검증용 고양이 사진 디렉터리\n",
    "validation_cats_dir = os.path.join(validation_dir, 'cats')\n",
    "os.mkdir(validation_cats_dir)\n",
    "\n",
    "# 검증용 강아지 사진 디렉터리\n",
    "validation_dogs_dir = os.path.join(validation_dir, 'dogs')\n",
    "os.mkdir(validation_dogs_dir)\n",
    "\n",
    "# 테스트용 고양이 사진 디렉터리\n",
    "test_cats_dir = os.path.join(test_dir, 'cats')\n",
    "os.mkdir(test_cats_dir)\n",
    "\n",
    "# 테스트용 강아지 사진 디렉터리\n",
    "test_dogs_dir = os.path.join(test_dir, 'dogs')\n",
    "os.mkdir(test_dogs_dir)\n",
    "\n",
    "# 처음 1,000개의 고양이 이미지를 train_cats_dir에 복사\n",
    "fnames = ['cat.{}.jpg'.format(i) for i in range(1000)]\n",
    "for fname in fnames:\n",
    "    src = os.path.join(original_dataset_dir, fname)\n",
    "    dst = os.path.join(train_cats_dir, fname)\n",
    "    shutil.copyfile(src, dst)\n",
    "\n",
    "# 다음 500개 고양이 이미지를 validation_cats_dir에 복사\n",
    "fnames = ['cat.{}.jpg'.format(i) for i in range(1000, 1500)]\n",
    "for fname in fnames:\n",
    "    src = os.path.join(original_dataset_dir, fname)\n",
    "    dst = os.path.join(validation_cats_dir, fname)\n",
    "    shutil.copyfile(src, dst)\n",
    "\n",
    "# 다음 500개 고양이 이미지를 test_cats_dir에 복사\n",
    "fnames = ['cat.{}.jpg'.format(i) for i in range(1500, 2000)]\n",
    "for fname in fnames:\n",
    "    src = os.path.join(original_dataset_dir, fname)\n",
    "    dst = os.path.join(test_cats_dir, fname)\n",
    "    shutil.copyfile(src, dst)\n",
    "\n",
    "# 처음 1,000개의 강아지 이미지를 train_dogs_dir에 복사\n",
    "fnames = ['dog.{}.jpg'.format(i) for i in range(1000)]\n",
    "for fname in fnames:\n",
    "    src = os.path.join(original_dataset_dir, fname)\n",
    "    dst = os.path.join(train_dogs_dir, fname)\n",
    "    shutil.copyfile(src, dst)\n",
    "\n",
    "# 다음 500개 강아지 이미지를 validation_dogs_dir에 복사\n",
    "fnames = ['dog.{}.jpg'.format(i) for i in range(1000, 1500)]\n",
    "for fname in fnames:\n",
    "    src = os.path.join(original_dataset_dir, fname)\n",
    "    dst = os.path.join(validation_dogs_dir, fname)\n",
    "    shutil.copyfile(src, dst)\n",
    "\n",
    "# 다음 500개 강아지 이미지를 test_dogs_dir에 복사\n",
    "fnames = ['dog.{}.jpg'.format(i) for i in range(1500, 2000)]\n",
    "for fname in fnames:\n",
    "    src = os.path.join(original_dataset_dir, fname)\n",
    "    dst = os.path.join(test_dogs_dir, fname)\n",
    "    shutil.copyfile(src, dst)"
   ]
  },
  {
   "cell_type": "code",
   "execution_count": 3,
   "metadata": {},
   "outputs": [
    {
     "name": "stdout",
     "output_type": "stream",
     "text": [
      "WARNING:tensorflow:From D:\\Anaconda3\\lib\\site-packages\\tensorflow\\python\\framework\\op_def_library.py:263: colocate_with (from tensorflow.python.framework.ops) is deprecated and will be removed in a future version.\n",
      "Instructions for updating:\n",
      "Colocations handled automatically by placer.\n"
     ]
    },
    {
     "name": "stderr",
     "output_type": "stream",
     "text": [
      "Using TensorFlow backend.\n"
     ]
    }
   ],
   "source": [
    "# 강아지 vs. 고양이 분류를 위한 소규모 컨브넷 만들기\n",
    "from keras import layers\n",
    "from keras import models\n",
    "\n",
    "model = models.Sequential()\n",
    "model.add(layers.Conv2D(32, (3, 3), activation='relu',\n",
    "                        input_shape=(150, 150, 3)))\n",
    "model.add(layers.MaxPooling2D((2, 2)))\n",
    "model.add(layers.Conv2D(64, (3, 3), activation='relu'))\n",
    "model.add(layers.MaxPooling2D((2, 2)))\n",
    "model.add(layers.Conv2D(128, (3, 3), activation='relu'))\n",
    "model.add(layers.MaxPooling2D((2, 2)))\n",
    "model.add(layers.Conv2D(128, (3, 3), activation='relu'))\n",
    "model.add(layers.MaxPooling2D((2, 2)))\n",
    "model.add(layers.Flatten())\n",
    "model.add(layers.Dense(512, activation='relu'))\n",
    "model.add(layers.Dense(1, activation='sigmoid'))"
   ]
  },
  {
   "cell_type": "code",
   "execution_count": 4,
   "metadata": {},
   "outputs": [
    {
     "name": "stdout",
     "output_type": "stream",
     "text": [
      "_________________________________________________________________\n",
      "Layer (type)                 Output Shape              Param #   \n",
      "=================================================================\n",
      "conv2d_1 (Conv2D)            (None, 148, 148, 32)      896       \n",
      "_________________________________________________________________\n",
      "max_pooling2d_1 (MaxPooling2 (None, 74, 74, 32)        0         \n",
      "_________________________________________________________________\n",
      "conv2d_2 (Conv2D)            (None, 72, 72, 64)        18496     \n",
      "_________________________________________________________________\n",
      "max_pooling2d_2 (MaxPooling2 (None, 36, 36, 64)        0         \n",
      "_________________________________________________________________\n",
      "conv2d_3 (Conv2D)            (None, 34, 34, 128)       73856     \n",
      "_________________________________________________________________\n",
      "max_pooling2d_3 (MaxPooling2 (None, 17, 17, 128)       0         \n",
      "_________________________________________________________________\n",
      "conv2d_4 (Conv2D)            (None, 15, 15, 128)       147584    \n",
      "_________________________________________________________________\n",
      "max_pooling2d_4 (MaxPooling2 (None, 7, 7, 128)         0         \n",
      "_________________________________________________________________\n",
      "flatten_1 (Flatten)          (None, 6272)              0         \n",
      "_________________________________________________________________\n",
      "dense_1 (Dense)              (None, 512)               3211776   \n",
      "_________________________________________________________________\n",
      "dense_2 (Dense)              (None, 1)                 513       \n",
      "=================================================================\n",
      "Total params: 3,453,121\n",
      "Trainable params: 3,453,121\n",
      "Non-trainable params: 0\n",
      "_________________________________________________________________\n"
     ]
    }
   ],
   "source": [
    "model.summary()"
   ]
  },
  {
   "cell_type": "code",
   "execution_count": 5,
   "metadata": {},
   "outputs": [],
   "source": [
    "# 모델의 훈련 설정하기\n",
    "from keras import optimizers\n",
    "\n",
    "model.compile(loss='binary_crossentropy',\n",
    "              optimizer=optimizers.RMSprop(lr=1e-4),\n",
    "              metrics=['acc'])"
   ]
  },
  {
   "cell_type": "markdown",
   "metadata": {},
   "source": [
    "**데이터는 네트워크에 주입되기 전에 부동 소수의 타입의 텐서로 적절하게 전처리되어 있어야 한다.**\n",
    "\n",
    "JPEG파일이므로 다음과 같은 과정으로 전처리 한다.\n",
    "\n",
    "- 사진 파일을 읽는다.\n",
    "\n",
    "- JPEG 콘텐츠를 RGB 픽셀 값으로 디코딩\n",
    "\n",
    "- 그다음 부동 소수 타입의 텐서로 변환\n",
    "\n",
    "- 픽셀 값(0~255의 정수값)의 스케일을 [0, 1] 사이로 조정\n",
    "\n",
    "\n",
    "케라스에서는 이런 단계를 자동으로 처리하는 유틸리티가 있다.\n",
    "\n",
    "케라스에는 keras.preprocessing.image 와 같이 이미지 처리를 위한 helper 도구들도 있다.\n",
    "\n",
    "ImageDataGenerator 클래스는 디스크에 있는 이미지 파일을 전처리된 배치 텐서로 자동으로 바꾸어 주는 파이썬 제너레이터를 만들어 준다."
   ]
  },
  {
   "cell_type": "code",
   "execution_count": 6,
   "metadata": {},
   "outputs": [
    {
     "name": "stdout",
     "output_type": "stream",
     "text": [
      "Found 2000 images belonging to 2 classes.\n",
      "Found 1000 images belonging to 2 classes.\n"
     ]
    }
   ],
   "source": [
    "# ImageDataGenerator를 사용하여 디렉터리에서 이미지 읽기\n",
    "from keras.preprocessing.image import ImageDataGenerator\n",
    "\n",
    "# 모든 이미지를 1/255로 스케일을 조정\n",
    "train_datagen = ImageDataGenerator(rescale=1./255)\n",
    "test_datagen = ImageDataGenerator(rescale=1./255)\n",
    "\n",
    "train_generator = train_datagen.flow_from_directory(\n",
    "        # 타깃 디렉터리\n",
    "        train_dir,\n",
    "        # 모든 이미지를 150 × 150 크기로 바꾼다.\n",
    "        target_size=(150, 150),\n",
    "        batch_size=20,\n",
    "        # binary_crossentropy 손실을 사용하기 때문에 이진 레이블이 필요\n",
    "        class_mode='binary')\n",
    "\n",
    "validation_generator = test_datagen.flow_from_directory(\n",
    "        validation_dir,\n",
    "        target_size=(150, 150),\n",
    "        batch_size=20,\n",
    "        class_mode='binary')"
   ]
  },
  {
   "cell_type": "code",
   "execution_count": 7,
   "metadata": {},
   "outputs": [
    {
     "name": "stdout",
     "output_type": "stream",
     "text": [
      "WARNING:tensorflow:From D:\\Anaconda3\\lib\\site-packages\\tensorflow\\python\\ops\\math_ops.py:3066: to_int32 (from tensorflow.python.ops.math_ops) is deprecated and will be removed in a future version.\n",
      "Instructions for updating:\n",
      "Use tf.cast instead.\n",
      "Epoch 1/30\n",
      "100/100 [==============================] - 13s 126ms/step - loss: 0.6922 - acc: 0.5445 - val_loss: 0.6755 - val_acc: 0.5440\n",
      "Epoch 2/30\n",
      "100/100 [==============================] - 9s 90ms/step - loss: 0.6542 - acc: 0.6155 - val_loss: 0.6653 - val_acc: 0.5910\n",
      "Epoch 3/30\n",
      "100/100 [==============================] - 9s 90ms/step - loss: 0.6045 - acc: 0.6845 - val_loss: 0.6134 - val_acc: 0.6540\n",
      "Epoch 4/30\n",
      "100/100 [==============================] - 9s 92ms/step - loss: 0.5646 - acc: 0.7035 - val_loss: 0.5996 - val_acc: 0.6600\n",
      "Epoch 5/30\n",
      "100/100 [==============================] - 9s 92ms/step - loss: 0.5344 - acc: 0.7330 - val_loss: 0.5929 - val_acc: 0.6810\n",
      "Epoch 6/30\n",
      "100/100 [==============================] - 9s 92ms/step - loss: 0.4986 - acc: 0.7525 - val_loss: 0.5724 - val_acc: 0.6940\n",
      "Epoch 7/30\n",
      "100/100 [==============================] - 9s 92ms/step - loss: 0.4773 - acc: 0.7620 - val_loss: 0.5636 - val_acc: 0.7060\n",
      "Epoch 8/30\n",
      "100/100 [==============================] - 9s 92ms/step - loss: 0.4546 - acc: 0.7740 - val_loss: 0.6653 - val_acc: 0.6530\n",
      "Epoch 9/30\n",
      "100/100 [==============================] - 9s 93ms/step - loss: 0.4231 - acc: 0.8030 - val_loss: 0.5718 - val_acc: 0.7020\n",
      "Epoch 10/30\n",
      "100/100 [==============================] - 9s 93ms/step - loss: 0.3954 - acc: 0.8155 - val_loss: 0.5809 - val_acc: 0.7040\n",
      "Epoch 11/30\n",
      "100/100 [==============================] - 9s 94ms/step - loss: 0.3653 - acc: 0.8320 - val_loss: 0.5920 - val_acc: 0.7100\n",
      "Epoch 12/30\n",
      "100/100 [==============================] - 9s 95ms/step - loss: 0.3442 - acc: 0.8570 - val_loss: 0.5754 - val_acc: 0.7240\n",
      "Epoch 13/30\n",
      "100/100 [==============================] - 9s 95ms/step - loss: 0.3161 - acc: 0.8680 - val_loss: 0.5870 - val_acc: 0.7260\n",
      "Epoch 14/30\n",
      "100/100 [==============================] - 9s 95ms/step - loss: 0.2953 - acc: 0.8880 - val_loss: 0.6162 - val_acc: 0.7260\n",
      "Epoch 15/30\n",
      "100/100 [==============================] - 10s 96ms/step - loss: 0.2606 - acc: 0.8910 - val_loss: 0.6075 - val_acc: 0.7250\n",
      "Epoch 16/30\n",
      "100/100 [==============================] - 10s 98ms/step - loss: 0.2420 - acc: 0.9105 - val_loss: 0.6303 - val_acc: 0.7310\n",
      "Epoch 17/30\n",
      "100/100 [==============================] - 10s 96ms/step - loss: 0.2243 - acc: 0.9190 - val_loss: 0.6692 - val_acc: 0.7200\n",
      "Epoch 18/30\n",
      "100/100 [==============================] - 10s 96ms/step - loss: 0.2039 - acc: 0.9220 - val_loss: 0.6728 - val_acc: 0.7210\n",
      "Epoch 19/30\n",
      "100/100 [==============================] - 10s 97ms/step - loss: 0.1730 - acc: 0.9330 - val_loss: 0.6563 - val_acc: 0.7430\n",
      "Epoch 20/30\n",
      "100/100 [==============================] - 10s 97ms/step - loss: 0.1625 - acc: 0.9370 - val_loss: 0.7695 - val_acc: 0.7070\n",
      "Epoch 21/30\n",
      "100/100 [==============================] - 10s 97ms/step - loss: 0.1403 - acc: 0.9535 - val_loss: 0.7070 - val_acc: 0.7390\n",
      "Epoch 22/30\n",
      "100/100 [==============================] - 10s 98ms/step - loss: 0.1205 - acc: 0.9645 - val_loss: 0.7837 - val_acc: 0.7220\n",
      "Epoch 23/30\n",
      "100/100 [==============================] - 10s 97ms/step - loss: 0.1073 - acc: 0.9625 - val_loss: 0.8119 - val_acc: 0.7290\n",
      "Epoch 24/30\n",
      "100/100 [==============================] - 10s 97ms/step - loss: 0.0898 - acc: 0.9730 - val_loss: 0.8841 - val_acc: 0.7260\n",
      "Epoch 25/30\n",
      "100/100 [==============================] - 10s 97ms/step - loss: 0.0760 - acc: 0.9810 - val_loss: 0.9290 - val_acc: 0.7270\n",
      "Epoch 26/30\n",
      "100/100 [==============================] - 10s 97ms/step - loss: 0.0651 - acc: 0.9815 - val_loss: 0.8948 - val_acc: 0.7190\n",
      "Epoch 27/30\n",
      "100/100 [==============================] - 10s 97ms/step - loss: 0.0592 - acc: 0.9810 - val_loss: 1.0276 - val_acc: 0.7140\n",
      "Epoch 28/30\n",
      "100/100 [==============================] - 10s 98ms/step - loss: 0.0487 - acc: 0.9890 - val_loss: 0.9795 - val_acc: 0.7350\n",
      "Epoch 29/30\n",
      "100/100 [==============================] - 10s 98ms/step - loss: 0.0405 - acc: 0.9880 - val_loss: 1.0329 - val_acc: 0.7260\n",
      "Epoch 30/30\n",
      "100/100 [==============================] - 10s 98ms/step - loss: 0.0402 - acc: 0.9890 - val_loss: 1.2893 - val_acc: 0.7140\n"
     ]
    }
   ],
   "source": [
    "# 배치 제너레이터를 사용하여 모델 훈련\n",
    "history = model.fit_generator(\n",
    "      train_generator,\n",
    "      steps_per_epoch=100,\n",
    "      epochs=30,\n",
    "      validation_data=validation_generator,\n",
    "      validation_steps=50)"
   ]
  },
  {
   "cell_type": "code",
   "execution_count": 8,
   "metadata": {},
   "outputs": [],
   "source": [
    "# 데이터 저장\n",
    "model.save('cats_and_dogs_small_1.h5')"
   ]
  },
  {
   "cell_type": "code",
   "execution_count": 10,
   "metadata": {},
   "outputs": [
    {
     "data": {
      "image/png": "[encoded data removed]",
      "text/plain": [
       "<Figure size 432x288 with 1 Axes>"
      ]
     },
     "metadata": {
      "needs_background": "light"
     },
     "output_type": "display_data"
    },
    {
     "data": {
      "image/png": "[encoded data removed]",
      "text/plain": [
       "<Figure size 432x288 with 1 Axes>"
      ]
     },
     "metadata": {
      "needs_background": "light"
     },
     "output_type": "display_data"
    }
   ],
   "source": [
    "# 훈련의 정확도와 손실 그래프 그리기\n",
    "import matplotlib.pyplot as plt\n",
    "acc = history.history['acc']\n",
    "val_acc = history.history['val_acc']\n",
    "loss = history.history['loss']\n",
    "val_loss = history.history['val_loss']\n",
    "\n",
    "epochs = range(len(acc))\n",
    "\n",
    "plt.plot(epochs, acc, 'bo', label='Training acc')\n",
    "plt.plot(epochs, val_acc, 'b', label='Validation acc')\n",
    "plt.title('Training and validation accuracy')\n",
    "plt.legend()\n",
    "\n",
    "plt.figure()\n",
    "\n",
    "plt.plot(epochs, loss, 'bo', label='Training loss')\n",
    "plt.plot(epochs, val_loss, 'b', label='Validation loss')\n",
    "plt.title('Training and validation loss')\n",
    "plt.legend()\n",
    "\n",
    "plt.show()"
   ]
  }
 ],
 "metadata": {
  "kernelspec": {
   "display_name": "Python 3",
   "language": "python",
   "name": "python3"
  },
  "language_info": {
   "codemirror_mode": {
    "name": "ipython",
    "version": 3
   },
   "file_extension": ".py",
   "mimetype": "text/x-python",
   "name": "python",
   "nbconvert_exporter": "python",
   "pygments_lexer": "ipython3",
   "version": "3.7.3"
  }
 },
 "nbformat": 4,
 "nbformat_minor": 2
}
