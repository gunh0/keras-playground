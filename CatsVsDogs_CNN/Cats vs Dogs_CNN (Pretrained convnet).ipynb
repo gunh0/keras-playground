{
 "cells": [
  {
   "cell_type": "code",
   "execution_count": 1,
   "metadata": {},
   "outputs": [
    {
     "name": "stdout",
     "output_type": "stream",
     "text": [
      "[name: \"/device:CPU:0\"\n",
      "device_type: \"CPU\"\n",
      "memory_limit: 268435456\n",
      "locality {\n",
      "}\n",
      "incarnation: 8220060879848654687\n",
      ", name: \"/device:GPU:0\"\n",
      "device_type: \"GPU\"\n",
      "memory_limit: 3198956339\n",
      "locality {\n",
      "  bus_id: 1\n",
      "  links {\n",
      "  }\n",
      "}\n",
      "incarnation: 10570918209059107344\n",
      "physical_device_desc: \"device: 0, name: GeForce GTX 960M, pci bus id: 0000:01:00.0, compute capability: 5.0\"\n",
      "]\n"
     ]
    }
   ],
   "source": [
    "from tensorflow.python.client import device_lib\n",
    "print(device_lib.list_local_devices())"
   ]
  },
  {
   "cell_type": "code",
   "execution_count": 2,
   "metadata": {},
   "outputs": [],
   "source": [
    "import os, shutil\n",
    "\n",
    "# 원본 데이터셋을 압축 해제한 디렉터리 경로\n",
    "original_dataset_dir = './datasets/dogs-vs-cats'\n",
    "\n",
    "# 소규모 데이터셋을 저장할 디렉터리\n",
    "base_dir = './datasets'\n",
    "\n",
    "# 훈련, 검증, 테스트 분할을 위한 디렉터리\n",
    "train_dir = os.path.join(base_dir, 'train')\n",
    "os.mkdir(train_dir)\n",
    "validation_dir = os.path.join(base_dir, 'validation')\n",
    "os.mkdir(validation_dir)\n",
    "test_dir = os.path.join(base_dir, 'test')\n",
    "os.mkdir(test_dir)\n",
    "\n",
    "# 훈련용 고양이 사진 디렉터리\n",
    "train_cats_dir = os.path.join(train_dir, 'cats')\n",
    "os.mkdir(train_cats_dir)\n",
    "\n",
    "# 훈련용 강아지 사진 디렉터리\n",
    "train_dogs_dir = os.path.join(train_dir, 'dogs')\n",
    "os.mkdir(train_dogs_dir)\n",
    "\n",
    "# 검증용 고양이 사진 디렉터리\n",
    "validation_cats_dir = os.path.join(validation_dir, 'cats')\n",
    "os.mkdir(validation_cats_dir)\n",
    "\n",
    "# 검증용 강아지 사진 디렉터리\n",
    "validation_dogs_dir = os.path.join(validation_dir, 'dogs')\n",
    "os.mkdir(validation_dogs_dir)\n",
    "\n",
    "# 테스트용 고양이 사진 디렉터리\n",
    "test_cats_dir = os.path.join(test_dir, 'cats')\n",
    "os.mkdir(test_cats_dir)\n",
    "\n",
    "# 테스트용 강아지 사진 디렉터리\n",
    "test_dogs_dir = os.path.join(test_dir, 'dogs')\n",
    "os.mkdir(test_dogs_dir)\n",
    "\n",
    "# 처음 1,000개의 고양이 이미지를 train_cats_dir에 복사\n",
    "fnames = ['cat.{}.jpg'.format(i) for i in range(1000)]\n",
    "for fname in fnames:\n",
    "    src = os.path.join(original_dataset_dir, fname)\n",
    "    dst = os.path.join(train_cats_dir, fname)\n",
    "    shutil.copyfile(src, dst)\n",
    "\n",
    "# 다음 500개 고양이 이미지를 validation_cats_dir에 복사\n",
    "fnames = ['cat.{}.jpg'.format(i) for i in range(1000, 1500)]\n",
    "for fname in fnames:\n",
    "    src = os.path.join(original_dataset_dir, fname)\n",
    "    dst = os.path.join(validation_cats_dir, fname)\n",
    "    shutil.copyfile(src, dst)\n",
    "\n",
    "# 다음 500개 고양이 이미지를 test_cats_dir에 복사\n",
    "fnames = ['cat.{}.jpg'.format(i) for i in range(1500, 2000)]\n",
    "for fname in fnames:\n",
    "    src = os.path.join(original_dataset_dir, fname)\n",
    "    dst = os.path.join(test_cats_dir, fname)\n",
    "    shutil.copyfile(src, dst)\n",
    "\n",
    "# 처음 1,000개의 강아지 이미지를 train_dogs_dir에 복사\n",
    "fnames = ['dog.{}.jpg'.format(i) for i in range(1000)]\n",
    "for fname in fnames:\n",
    "    src = os.path.join(original_dataset_dir, fname)\n",
    "    dst = os.path.join(train_dogs_dir, fname)\n",
    "    shutil.copyfile(src, dst)\n",
    "\n",
    "# 다음 500개 강아지 이미지를 validation_dogs_dir에 복사\n",
    "fnames = ['dog.{}.jpg'.format(i) for i in range(1000, 1500)]\n",
    "for fname in fnames:\n",
    "    src = os.path.join(original_dataset_dir, fname)\n",
    "    dst = os.path.join(validation_dogs_dir, fname)\n",
    "    shutil.copyfile(src, dst)\n",
    "\n",
    "# 다음 500개 강아지 이미지를 test_dogs_dir에 복사\n",
    "fnames = ['dog.{}.jpg'.format(i) for i in range(1500, 2000)]\n",
    "for fname in fnames:\n",
    "    src = os.path.join(original_dataset_dir, fname)\n",
    "    dst = os.path.join(test_dogs_dir, fname)\n",
    "    shutil.copyfile(src, dst)"
   ]
  },
  {
   "cell_type": "markdown",
   "metadata": {},
   "source": [
    "작은 이미지 데이터셋에 딥러닝을 적용하는 일반적이고 매우 효과적인 방법은 사전 훈련된 네트워크를 사용하는 것이다.\n",
    "\n",
    "사전 훈련된 네트워크는 일반적으로 대규모 이미지 분류 문제를 위해 대량의 데이터셋에서 미리 훈련되어 저장된 네트워크이다.\n",
    "\n",
    "원본 데이터셋이 충분히 크고 일반적이라면 사전 훈련된 네트워크에 의해 학습된 특성의 계층 구조는 실제 세상에 대한 일반적인 모델로 효율적인 역할을 할 수 있다.\n",
    "\n",
    "새로운 문제가 원래 작업과 완전히 다른 클래스에 대한 것이더라도 이런 특성은 많은 컴퓨터 비전 문제에 유용하다."
   ]
  },
  {
   "cell_type": "markdown",
   "metadata": {},
   "source": [
    "### 특성 추출\n",
    "\n",
    "특성 추출은 사전에 학습된 네트워크의 표현을 사용해 새로운 샘플에서 흥미로운 특성을 뽑아내는 것이다.\n",
    "\n",
    "이런 특성을 사용하여 새로운 분류기를 처음부터 훈련한다."
   ]
  },
  {
   "cell_type": "code",
   "execution_count": 3,
   "metadata": {},
   "outputs": [
    {
     "name": "stdout",
     "output_type": "stream",
     "text": [
      "WARNING:tensorflow:From D:\\Anaconda3\\lib\\site-packages\\tensorflow\\python\\framework\\op_def_library.py:263: colocate_with (from tensorflow.python.framework.ops) is deprecated and will be removed in a future version.\n",
      "Instructions for updating:\n",
      "Colocations handled automatically by placer.\n"
     ]
    },
    {
     "name": "stderr",
     "output_type": "stream",
     "text": [
      "Using TensorFlow backend.\n"
     ]
    }
   ],
   "source": [
    "from keras.applications import VGG16\n",
    "\n",
    "conv_base = VGG16(weights='imagenet',\n",
    "                  include_top=False,\n",
    "                  input_shape=(150, 150, 3))"
   ]
  },
  {
   "cell_type": "code",
   "execution_count": 4,
   "metadata": {},
   "outputs": [
    {
     "name": "stdout",
     "output_type": "stream",
     "text": [
      "_________________________________________________________________\n",
      "Layer (type)                 Output Shape              Param #   \n",
      "=================================================================\n",
      "input_1 (InputLayer)         (None, 150, 150, 3)       0         \n",
      "_________________________________________________________________\n",
      "block1_conv1 (Conv2D)        (None, 150, 150, 64)      1792      \n",
      "_________________________________________________________________\n",
      "block1_conv2 (Conv2D)        (None, 150, 150, 64)      36928     \n",
      "_________________________________________________________________\n",
      "block1_pool (MaxPooling2D)   (None, 75, 75, 64)        0         \n",
      "_________________________________________________________________\n",
      "block2_conv1 (Conv2D)        (None, 75, 75, 128)       73856     \n",
      "_________________________________________________________________\n",
      "block2_conv2 (Conv2D)        (None, 75, 75, 128)       147584    \n",
      "_________________________________________________________________\n",
      "block2_pool (MaxPooling2D)   (None, 37, 37, 128)       0         \n",
      "_________________________________________________________________\n",
      "block3_conv1 (Conv2D)        (None, 37, 37, 256)       295168    \n",
      "_________________________________________________________________\n",
      "block3_conv2 (Conv2D)        (None, 37, 37, 256)       590080    \n",
      "_________________________________________________________________\n",
      "block3_conv3 (Conv2D)        (None, 37, 37, 256)       590080    \n",
      "_________________________________________________________________\n",
      "block3_pool (MaxPooling2D)   (None, 18, 18, 256)       0         \n",
      "_________________________________________________________________\n",
      "block4_conv1 (Conv2D)        (None, 18, 18, 512)       1180160   \n",
      "_________________________________________________________________\n",
      "block4_conv2 (Conv2D)        (None, 18, 18, 512)       2359808   \n",
      "_________________________________________________________________\n",
      "block4_conv3 (Conv2D)        (None, 18, 18, 512)       2359808   \n",
      "_________________________________________________________________\n",
      "block4_pool (MaxPooling2D)   (None, 9, 9, 512)         0         \n",
      "_________________________________________________________________\n",
      "block5_conv1 (Conv2D)        (None, 9, 9, 512)         2359808   \n",
      "_________________________________________________________________\n",
      "block5_conv2 (Conv2D)        (None, 9, 9, 512)         2359808   \n",
      "_________________________________________________________________\n",
      "block5_conv3 (Conv2D)        (None, 9, 9, 512)         2359808   \n",
      "_________________________________________________________________\n",
      "block5_pool (MaxPooling2D)   (None, 4, 4, 512)         0         \n",
      "=================================================================\n",
      "Total params: 14,714,688\n",
      "Trainable params: 14,714,688\n",
      "Non-trainable params: 0\n",
      "_________________________________________________________________\n"
     ]
    }
   ],
   "source": [
    "conv_base.summary()"
   ]
  },
  {
   "cell_type": "code",
   "execution_count": 5,
   "metadata": {},
   "outputs": [
    {
     "name": "stdout",
     "output_type": "stream",
     "text": [
      "Found 2000 images belonging to 2 classes.\n",
      "Found 1000 images belonging to 2 classes.\n",
      "Found 1000 images belonging to 2 classes.\n"
     ]
    }
   ],
   "source": [
    "import os\n",
    "import numpy as np\n",
    "from keras.preprocessing.image import ImageDataGenerator\n",
    "\n",
    "base_dir = './datasets'\n",
    "\n",
    "train_dir = os.path.join(base_dir, 'train')\n",
    "validation_dir = os.path.join(base_dir, 'validation')\n",
    "test_dir = os.path.join(base_dir, 'test')\n",
    "\n",
    "datagen = ImageDataGenerator(rescale=1./255)\n",
    "batch_size = 20\n",
    "\n",
    "def extract_features(directory, sample_count):\n",
    "    features = np.zeros(shape=(sample_count, 4, 4, 512))\n",
    "    labels = np.zeros(shape=(sample_count))\n",
    "    generator = datagen.flow_from_directory(\n",
    "        directory,\n",
    "        target_size=(150, 150),\n",
    "        batch_size=batch_size,\n",
    "        class_mode='binary')\n",
    "    i = 0\n",
    "    for inputs_batch, labels_batch in generator:\n",
    "        features_batch = conv_base.predict(inputs_batch)\n",
    "        features[i * batch_size : (i + 1) * batch_size] = features_batch\n",
    "        labels[i * batch_size : (i + 1) * batch_size] = labels_batch\n",
    "        i += 1\n",
    "        if i * batch_size >= sample_count:\n",
    "            break\n",
    "    return features, labels\n",
    "\n",
    "train_features, train_labels = extract_features(train_dir, 2000)\n",
    "validation_features, validation_labels = extract_features(validation_dir, 1000)\n",
    "test_features, test_labels = extract_features(test_dir, 1000)"
   ]
  },
  {
   "cell_type": "markdown",
   "metadata": {},
   "source": [
    "추출된 특성의 크기는 (samples, 4, 4, 512)이다.\n",
    "\n",
    "완전 연결 분류기에 주입하기 위해서 먼저 (samples, 8192) 크기로 펼친다."
   ]
  },
  {
   "cell_type": "code",
   "execution_count": 6,
   "metadata": {},
   "outputs": [],
   "source": [
    "train_features = np.reshape(train_features, (2000, 4 * 4 * 512))\n",
    "validation_features = np.reshape(validation_features, (1000, 4 * 4 * 512))\n",
    "test_features = np.reshape(test_features, (1000, 4 * 4 * 512))"
   ]
  },
  {
   "cell_type": "markdown",
   "metadata": {},
   "source": [
    "그러고 나서 완전 연결 분류기를 정의하고(규제를 위해 드롭아웃을 사용합니다)\n",
    "\n",
    "저장된 데이터와 레이블을 사용해 훈련한다."
   ]
  },
  {
   "cell_type": "code",
   "execution_count": 7,
   "metadata": {},
   "outputs": [
    {
     "name": "stdout",
     "output_type": "stream",
     "text": [
      "WARNING:tensorflow:From D:\\Anaconda3\\lib\\site-packages\\keras\\backend\\tensorflow_backend.py:3445: calling dropout (from tensorflow.python.ops.nn_ops) with keep_prob is deprecated and will be removed in a future version.\n",
      "Instructions for updating:\n",
      "Please use `rate` instead of `keep_prob`. Rate should be set to `rate = 1 - keep_prob`.\n",
      "WARNING:tensorflow:From D:\\Anaconda3\\lib\\site-packages\\tensorflow\\python\\ops\\math_ops.py:3066: to_int32 (from tensorflow.python.ops.math_ops) is deprecated and will be removed in a future version.\n",
      "Instructions for updating:\n",
      "Use tf.cast instead.\n",
      "Train on 2000 samples, validate on 1000 samples\n",
      "Epoch 1/30\n",
      "2000/2000 [==============================] - 2s 1ms/step - loss: 0.6044 - acc: 0.6605 - val_loss: 0.4645 - val_acc: 0.8150\n",
      "Epoch 2/30\n",
      "2000/2000 [==============================] - 1s 522us/step - loss: 0.4410 - acc: 0.8050 - val_loss: 0.3884 - val_acc: 0.8350\n",
      "Epoch 3/30\n",
      "2000/2000 [==============================] - 1s 526us/step - loss: 0.3635 - acc: 0.8505 - val_loss: 0.3367 - val_acc: 0.8700\n",
      "Epoch 4/30\n",
      "2000/2000 [==============================] - 1s 514us/step - loss: 0.3312 - acc: 0.8575 - val_loss: 0.3092 - val_acc: 0.8770\n",
      "Epoch 5/30\n",
      "2000/2000 [==============================] - 1s 518us/step - loss: 0.2913 - acc: 0.8835 - val_loss: 0.2953 - val_acc: 0.8820\n",
      "Epoch 6/30\n",
      "2000/2000 [==============================] - 1s 524us/step - loss: 0.2703 - acc: 0.8935 - val_loss: 0.2805 - val_acc: 0.8900\n",
      "Epoch 7/30\n",
      "2000/2000 [==============================] - 1s 515us/step - loss: 0.2563 - acc: 0.8985 - val_loss: 0.2711 - val_acc: 0.8900\n",
      "Epoch 8/30\n",
      "2000/2000 [==============================] - 1s 528us/step - loss: 0.2372 - acc: 0.9075 - val_loss: 0.2641 - val_acc: 0.8940\n",
      "Epoch 9/30\n",
      "2000/2000 [==============================] - 1s 518us/step - loss: 0.2280 - acc: 0.9215 - val_loss: 0.2602 - val_acc: 0.8940\n",
      "Epoch 10/30\n",
      "2000/2000 [==============================] - 1s 527us/step - loss: 0.2094 - acc: 0.9205 - val_loss: 0.2740 - val_acc: 0.8830\n",
      "Epoch 11/30\n",
      "2000/2000 [==============================] - 1s 516us/step - loss: 0.2063 - acc: 0.9250 - val_loss: 0.2635 - val_acc: 0.8910\n",
      "Epoch 12/30\n",
      "2000/2000 [==============================] - 1s 522us/step - loss: 0.1978 - acc: 0.9290 - val_loss: 0.2481 - val_acc: 0.9000\n",
      "Epoch 13/30\n",
      "2000/2000 [==============================] - 1s 521us/step - loss: 0.1873 - acc: 0.9355 - val_loss: 0.2466 - val_acc: 0.8980\n",
      "Epoch 14/30\n",
      "2000/2000 [==============================] - 1s 518us/step - loss: 0.1827 - acc: 0.9315 - val_loss: 0.2421 - val_acc: 0.9080\n",
      "Epoch 15/30\n",
      "2000/2000 [==============================] - 1s 516us/step - loss: 0.1710 - acc: 0.9415 - val_loss: 0.2402 - val_acc: 0.9060\n",
      "Epoch 16/30\n",
      "2000/2000 [==============================] - 1s 521us/step - loss: 0.1674 - acc: 0.9400 - val_loss: 0.2401 - val_acc: 0.9060\n",
      "Epoch 17/30\n",
      "2000/2000 [==============================] - 1s 513us/step - loss: 0.1592 - acc: 0.9425 - val_loss: 0.2433 - val_acc: 0.9030\n",
      "Epoch 18/30\n",
      "2000/2000 [==============================] - 1s 524us/step - loss: 0.1485 - acc: 0.9460 - val_loss: 0.2388 - val_acc: 0.9040\n",
      "Epoch 19/30\n",
      "2000/2000 [==============================] - 1s 516us/step - loss: 0.1492 - acc: 0.9435 - val_loss: 0.2366 - val_acc: 0.9040\n",
      "Epoch 20/30\n",
      "2000/2000 [==============================] - 1s 520us/step - loss: 0.1459 - acc: 0.9485 - val_loss: 0.2418 - val_acc: 0.9030\n",
      "Epoch 21/30\n",
      "2000/2000 [==============================] - 1s 522us/step - loss: 0.1364 - acc: 0.9535 - val_loss: 0.2354 - val_acc: 0.9030\n",
      "Epoch 22/30\n",
      "2000/2000 [==============================] - 1s 511us/step - loss: 0.1229 - acc: 0.9605 - val_loss: 0.2398 - val_acc: 0.9060\n",
      "Epoch 23/30\n",
      "2000/2000 [==============================] - 1s 515us/step - loss: 0.1264 - acc: 0.9565 - val_loss: 0.2419 - val_acc: 0.9040\n",
      "Epoch 24/30\n",
      "2000/2000 [==============================] - 1s 516us/step - loss: 0.1202 - acc: 0.9600 - val_loss: 0.2359 - val_acc: 0.9050\n",
      "Epoch 25/30\n",
      "2000/2000 [==============================] - 1s 525us/step - loss: 0.1162 - acc: 0.9630 - val_loss: 0.2368 - val_acc: 0.9080\n",
      "Epoch 26/30\n",
      "2000/2000 [==============================] - 1s 517us/step - loss: 0.1146 - acc: 0.9605 - val_loss: 0.2409 - val_acc: 0.9080\n",
      "Epoch 27/30\n",
      "2000/2000 [==============================] - 1s 524us/step - loss: 0.1099 - acc: 0.9710 - val_loss: 0.2588 - val_acc: 0.9040\n",
      "Epoch 28/30\n",
      "2000/2000 [==============================] - 1s 514us/step - loss: 0.1051 - acc: 0.9665 - val_loss: 0.2373 - val_acc: 0.9040\n",
      "Epoch 29/30\n",
      "2000/2000 [==============================] - 1s 526us/step - loss: 0.0987 - acc: 0.9685 - val_loss: 0.2362 - val_acc: 0.9030\n",
      "Epoch 30/30\n",
      "2000/2000 [==============================] - 1s 527us/step - loss: 0.0932 - acc: 0.9690 - val_loss: 0.2375 - val_acc: 0.9010\n"
     ]
    }
   ],
   "source": [
    "from keras import models\n",
    "from keras import layers\n",
    "from keras import optimizers\n",
    "\n",
    "model = models.Sequential()\n",
    "model.add(layers.Dense(256, activation='relu', input_dim=4 * 4 * 512))\n",
    "model.add(layers.Dropout(0.5))\n",
    "model.add(layers.Dense(1, activation='sigmoid'))\n",
    "\n",
    "model.compile(optimizer=optimizers.RMSprop(lr=2e-5),\n",
    "              loss='binary_crossentropy',\n",
    "              metrics=['acc'])\n",
    "\n",
    "history = model.fit(train_features, train_labels,\n",
    "                    epochs=30,\n",
    "                    batch_size=20,\n",
    "                    validation_data=(validation_features, validation_labels))"
   ]
  },
  {
   "cell_type": "code",
   "execution_count": 8,
   "metadata": {},
   "outputs": [],
   "source": [
    "# 훈련 손실과 정확도 곡선 확인\n",
    "import matplotlib.pyplot as plt"
   ]
  },
  {
   "cell_type": "code",
   "execution_count": 9,
   "metadata": {},
   "outputs": [
    {
     "data": {
      "image/png": "[encoded data removed]",
      "text/plain": [
       "<Figure size 432x288 with 1 Axes>"
      ]
     },
     "metadata": {
      "needs_background": "light"
     },
     "output_type": "display_data"
    },
    {
     "data": {
      "image/png": "[encoded data removed]",
      "text/plain": [
       "<Figure size 432x288 with 1 Axes>"
      ]
     },
     "metadata": {
      "needs_background": "light"
     },
     "output_type": "display_data"
    }
   ],
   "source": [
    "acc = history.history['acc']\n",
    "val_acc = history.history['val_acc']\n",
    "loss = history.history['loss']\n",
    "val_loss = history.history['val_loss']\n",
    "\n",
    "epochs = range(len(acc))\n",
    "\n",
    "plt.plot(epochs, acc, 'bo', label='Training acc')\n",
    "plt.plot(epochs, val_acc, 'b', label='Validation acc')\n",
    "plt.title('Training and validation accuracy')\n",
    "plt.legend()\n",
    "\n",
    "plt.figure()\n",
    "\n",
    "plt.plot(epochs, loss, 'bo', label='Training loss')\n",
    "plt.plot(epochs, val_loss, 'b', label='Validation loss')\n",
    "plt.title('Training and validation loss')\n",
    "plt.legend()\n",
    "\n",
    "plt.show()"
   ]
  },
  {
   "cell_type": "markdown",
   "metadata": {},
   "source": [
    "결과는 약 90%의 검증 정확도에 도달한다.\n",
    "\n",
    "처음부터 훈련시킨 작은 모델에서 얻은 것보다 훨씬 좋다.\n",
    "\n",
    "하지만 이 그래프는 많은 비율로 드롭아웃을 사용했음에도 불구하고 훈련이 시작하면서 거의 바로 과대적합되고 있다는 것을 보여준다.\n",
    "\n",
    "작은 이미지 데이터셋에서는 과대적합을 막기 위해 필수적인 데이터 증식을 사용하지 않았기 때문이다."
   ]
  },
  {
   "cell_type": "code",
   "execution_count": 10,
   "metadata": {},
   "outputs": [],
   "source": [
    "from keras import models\n",
    "from keras import layers\n",
    "\n",
    "model = models.Sequential()\n",
    "model.add(conv_base)\n",
    "model.add(layers.Flatten())\n",
    "model.add(layers.Dense(256, activation='relu'))\n",
    "model.add(layers.Dense(1, activation='sigmoid'))"
   ]
  },
  {
   "cell_type": "code",
   "execution_count": 11,
   "metadata": {},
   "outputs": [
    {
     "name": "stdout",
     "output_type": "stream",
     "text": [
      "_________________________________________________________________\n",
      "Layer (type)                 Output Shape              Param #   \n",
      "=================================================================\n",
      "vgg16 (Model)                (None, 4, 4, 512)         14714688  \n",
      "_________________________________________________________________\n",
      "flatten_1 (Flatten)          (None, 8192)              0         \n",
      "_________________________________________________________________\n",
      "dense_3 (Dense)              (None, 256)               2097408   \n",
      "_________________________________________________________________\n",
      "dense_4 (Dense)              (None, 1)                 257       \n",
      "=================================================================\n",
      "Total params: 16,812,353\n",
      "Trainable params: 16,812,353\n",
      "Non-trainable params: 0\n",
      "_________________________________________________________________\n"
     ]
    }
   ],
   "source": [
    "model.summary()"
   ]
  },
  {
   "cell_type": "markdown",
   "metadata": {},
   "source": [
    "여기서 볼 수 있듯이 VGG16의 합성곱 기반층은 14,714,688개의 매우 많은 파라미터를 가지고 있다.\n",
    "\n",
    "합성곱 기반층 위에 추가한 분류기는 2백만 개의 파라미터를 가진다.\n",
    "\n",
    "모델을 컴파일하고 훈련하기 전에 합성곱 기반층을 동결하는 것이 아주 중요하다.\n",
    "\n",
    "하나 이상의 층을 동결한다는 것은 훈련하는 동안 가중치가 업데이트되지 않도록 막는다는 뜻이다.\n",
    "\n",
    "이렇게 하지 않으면 합성곱 기반층에 의해 사전에 학습된 표현이 훈련하는 동안 수정될 것이다.\n",
    "\n",
    "맨 위의 Dense 층은 랜덤하게 초기화되었기 때문에 매우 큰 가중치 업데이트 값이 네트워크에 전파될 것이다.\n",
    "\n",
    "이는 사전에 학습된 표현을 크게 훼손하게 된다.\n",
    "\n",
    "케라스에서는 trainable 속성을 False로 설정하여 네트워크를 동결할 수 있다."
   ]
  },
  {
   "cell_type": "code",
   "execution_count": 12,
   "metadata": {},
   "outputs": [
    {
     "name": "stdout",
     "output_type": "stream",
     "text": [
      "conv_base를 동결하기 전 훈련되는 가중치의 수: 30\n"
     ]
    }
   ],
   "source": [
    "print('conv_base를 동결하기 전 훈련되는 가중치의 수:', \n",
    "      len(model.trainable_weights))"
   ]
  },
  {
   "cell_type": "code",
   "execution_count": 13,
   "metadata": {},
   "outputs": [],
   "source": [
    "conv_base.trainable = False"
   ]
  },
  {
   "cell_type": "code",
   "execution_count": 14,
   "metadata": {},
   "outputs": [
    {
     "name": "stdout",
     "output_type": "stream",
     "text": [
      "conv_base를 동결한 후 훈련되는 가중치의 수: 4\n"
     ]
    }
   ],
   "source": [
    "print('conv_base를 동결한 후 훈련되는 가중치의 수:', \n",
    "      len(model.trainable_weights))"
   ]
  },
  {
   "cell_type": "code",
   "execution_count": 15,
   "metadata": {},
   "outputs": [
    {
     "name": "stdout",
     "output_type": "stream",
     "text": [
      "Found 2000 images belonging to 2 classes.\n",
      "Found 1000 images belonging to 2 classes.\n",
      "Epoch 1/30\n",
      " - 36s - loss: 0.5489 - acc: 0.7380 - val_loss: 0.4099 - val_acc: 0.8520\n",
      "Epoch 2/30\n",
      " - 37s - loss: 0.4069 - acc: 0.8335 - val_loss: 0.3385 - val_acc: 0.8700\n",
      "Epoch 3/30\n",
      " - 38s - loss: 0.3589 - acc: 0.8490 - val_loss: 0.3020 - val_acc: 0.8860\n",
      "Epoch 4/30\n",
      " - 39s - loss: 0.3232 - acc: 0.8670 - val_loss: 0.2848 - val_acc: 0.8870\n",
      "Epoch 5/30\n",
      " - 39s - loss: 0.3088 - acc: 0.8750 - val_loss: 0.2705 - val_acc: 0.8890\n",
      "Epoch 6/30\n",
      " - 39s - loss: 0.2851 - acc: 0.8835 - val_loss: 0.2632 - val_acc: 0.8910\n",
      "Epoch 7/30\n",
      " - 39s - loss: 0.2792 - acc: 0.8870 - val_loss: 0.2549 - val_acc: 0.8960\n",
      "Epoch 8/30\n",
      " - 39s - loss: 0.2713 - acc: 0.8815 - val_loss: 0.2502 - val_acc: 0.8990\n",
      "Epoch 9/30\n",
      " - 39s - loss: 0.2608 - acc: 0.8875 - val_loss: 0.2468 - val_acc: 0.8990\n",
      "Epoch 10/30\n",
      " - 39s - loss: 0.2539 - acc: 0.8975 - val_loss: 0.2448 - val_acc: 0.9000\n",
      "Epoch 11/30\n",
      " - 39s - loss: 0.2481 - acc: 0.9000 - val_loss: 0.2427 - val_acc: 0.9040\n",
      "Epoch 12/30\n",
      " - 39s - loss: 0.2466 - acc: 0.9035 - val_loss: 0.2439 - val_acc: 0.8990\n",
      "Epoch 13/30\n",
      " - 39s - loss: 0.2306 - acc: 0.9090 - val_loss: 0.2463 - val_acc: 0.8940\n",
      "Epoch 14/30\n",
      " - 39s - loss: 0.2337 - acc: 0.9040 - val_loss: 0.2536 - val_acc: 0.8880\n",
      "Epoch 15/30\n",
      " - 39s - loss: 0.2324 - acc: 0.9080 - val_loss: 0.2341 - val_acc: 0.9050\n",
      "Epoch 16/30\n",
      " - 39s - loss: 0.2200 - acc: 0.9105 - val_loss: 0.2362 - val_acc: 0.9070\n",
      "Epoch 17/30\n",
      " - 39s - loss: 0.2182 - acc: 0.9155 - val_loss: 0.2347 - val_acc: 0.9060\n",
      "Epoch 18/30\n",
      " - 39s - loss: 0.2048 - acc: 0.9190 - val_loss: 0.2338 - val_acc: 0.9040\n",
      "Epoch 19/30\n",
      " - 39s - loss: 0.2077 - acc: 0.9180 - val_loss: 0.2397 - val_acc: 0.9010\n",
      "Epoch 20/30\n",
      " - 39s - loss: 0.1974 - acc: 0.9230 - val_loss: 0.2407 - val_acc: 0.8990\n",
      "Epoch 21/30\n",
      " - 39s - loss: 0.2060 - acc: 0.9180 - val_loss: 0.2349 - val_acc: 0.9060\n",
      "Epoch 22/30\n",
      " - 39s - loss: 0.1964 - acc: 0.9240 - val_loss: 0.2334 - val_acc: 0.9090\n",
      "Epoch 23/30\n",
      " - 39s - loss: 0.1997 - acc: 0.9130 - val_loss: 0.2345 - val_acc: 0.9060\n",
      "Epoch 24/30\n",
      " - 39s - loss: 0.1997 - acc: 0.9180 - val_loss: 0.2356 - val_acc: 0.9030\n",
      "Epoch 25/30\n",
      " - 39s - loss: 0.1989 - acc: 0.9235 - val_loss: 0.2316 - val_acc: 0.9120\n",
      "Epoch 26/30\n",
      " - 39s - loss: 0.1940 - acc: 0.9275 - val_loss: 0.2466 - val_acc: 0.8990\n",
      "Epoch 27/30\n",
      " - 39s - loss: 0.1944 - acc: 0.9245 - val_loss: 0.2340 - val_acc: 0.9040\n",
      "Epoch 28/30\n",
      " - 39s - loss: 0.1911 - acc: 0.9205 - val_loss: 0.2340 - val_acc: 0.9060\n",
      "Epoch 29/30\n",
      " - 39s - loss: 0.1937 - acc: 0.9220 - val_loss: 0.2358 - val_acc: 0.9100\n",
      "Epoch 30/30\n",
      " - 39s - loss: 0.1804 - acc: 0.9285 - val_loss: 0.2435 - val_acc: 0.9020\n"
     ]
    }
   ],
   "source": [
    "from keras.preprocessing.image import ImageDataGenerator\n",
    "\n",
    "train_datagen = ImageDataGenerator(\n",
    "      rescale=1./255,\n",
    "      rotation_range=20,\n",
    "      width_shift_range=0.1,\n",
    "      height_shift_range=0.1,\n",
    "      shear_range=0.1,\n",
    "      zoom_range=0.1,\n",
    "      horizontal_flip=True,\n",
    "      fill_mode='nearest')\n",
    "\n",
    "# 검증 데이터는 증식되어서는 안 된다.\n",
    "test_datagen = ImageDataGenerator(rescale=1./255)\n",
    "\n",
    "train_generator = train_datagen.flow_from_directory(\n",
    "        # 타깃 디렉터리\n",
    "        train_dir,\n",
    "        # 모든 이미지의 크기를 150 × 150로 변경\n",
    "        target_size=(150, 150),\n",
    "        batch_size=20,\n",
    "        # binary_crossentropy 손실을 사용하므로 이진 레이블이 필요\n",
    "        class_mode='binary')\n",
    "\n",
    "validation_generator = test_datagen.flow_from_directory(\n",
    "        validation_dir,\n",
    "        target_size=(150, 150),\n",
    "        batch_size=20,\n",
    "        class_mode='binary')\n",
    "\n",
    "model.compile(loss='binary_crossentropy',\n",
    "              optimizer=optimizers.RMSprop(lr=2e-5),\n",
    "              metrics=['acc'])\n",
    "\n",
    "history = model.fit_generator(\n",
    "      train_generator,\n",
    "      steps_per_epoch=100,\n",
    "      epochs=30,\n",
    "      validation_data=validation_generator,\n",
    "      validation_steps=50,\n",
    "      verbose=2)"
   ]
  },
  {
   "cell_type": "code",
   "execution_count": 16,
   "metadata": {},
   "outputs": [],
   "source": [
    "model.save('cats_and_dogs_small_3.h5')"
   ]
  },
  {
   "cell_type": "code",
   "execution_count": 17,
   "metadata": {},
   "outputs": [
    {
     "data": {
      "image/png": "[encoded data removed]",
      "text/plain": [
       "<Figure size 432x288 with 1 Axes>"
      ]
     },
     "metadata": {
      "needs_background": "light"
     },
     "output_type": "display_data"
    },
    {
     "data": {
      "image/png": "[encoded data removed]",
      "text/plain": [
       "<Figure size 432x288 with 1 Axes>"
      ]
     },
     "metadata": {
      "needs_background": "light"
     },
     "output_type": "display_data"
    }
   ],
   "source": [
    "acc = history.history['acc']\n",
    "val_acc = history.history['val_acc']\n",
    "loss = history.history['loss']\n",
    "val_loss = history.history['val_loss']\n",
    "\n",
    "epochs = range(len(acc))\n",
    "\n",
    "plt.plot(epochs, acc, 'bo', label='Training acc')\n",
    "plt.plot(epochs, val_acc, 'b', label='Validation acc')\n",
    "plt.title('Training and validation accuracy')\n",
    "plt.legend()\n",
    "\n",
    "plt.figure()\n",
    "\n",
    "plt.plot(epochs, loss, 'bo', label='Training loss')\n",
    "plt.plot(epochs, val_loss, 'b', label='Validation loss')\n",
    "plt.title('Training and validation loss')\n",
    "plt.legend()\n",
    "\n",
    "plt.show()"
   ]
  },
  {
   "cell_type": "markdown",
   "metadata": {},
   "source": [
    "검증 정확도가 이전과 비슷하지만 처음부터 훈련시킨 소규모 컨브넷보다 과대적합이 줄었다."
   ]
  },
  {
   "cell_type": "markdown",
   "metadata": {},
   "source": [
    "### 미세 조정\n",
    "\n",
    "모델을 재사용하는 데 널리 사용되는 또 하나의 기법은 특성 추출을 보완하는 미세 조정이다.\n",
    "\n",
    "미세 조정은 특성 추출에 사용했던 동결 모델의 상위 층 몇 개를 동결에서 해제하고 모델에 새로 추가한 층(여기서는 완전 연결 분류기)과 함께 훈련하는 것이다.\n",
    "\n",
    "주어진 문제에 조금 더 밀접하게 재사용 모델의 표현을 일부 조정하기 때문에 미세 조정이라고 부른다."
   ]
  },
  {
   "cell_type": "markdown",
   "metadata": {},
   "source": [
    "네트워크를 미세 조정하는 단계는 다음과 같다.\n",
    "\n",
    "- 사전에 훈련된 기반 네트워크 위에 새로운 네트워크를 추가\n",
    "- 기반 네트워크를 동결\n",
    "- 새로 추가한 네트워크를 훈련\n",
    "- 기반 네트워크에서 일부 층의 동결을 해제\n",
    "- 동결을 해제한 층과 새로 추가한 층을 함께 훈련"
   ]
  },
  {
   "cell_type": "code",
   "execution_count": 18,
   "metadata": {},
   "outputs": [
    {
     "name": "stdout",
     "output_type": "stream",
     "text": [
      "_________________________________________________________________\n",
      "Layer (type)                 Output Shape              Param #   \n",
      "=================================================================\n",
      "input_1 (InputLayer)         (None, 150, 150, 3)       0         \n",
      "_________________________________________________________________\n",
      "block1_conv1 (Conv2D)        (None, 150, 150, 64)      1792      \n",
      "_________________________________________________________________\n",
      "block1_conv2 (Conv2D)        (None, 150, 150, 64)      36928     \n",
      "_________________________________________________________________\n",
      "block1_pool (MaxPooling2D)   (None, 75, 75, 64)        0         \n",
      "_________________________________________________________________\n",
      "block2_conv1 (Conv2D)        (None, 75, 75, 128)       73856     \n",
      "_________________________________________________________________\n",
      "block2_conv2 (Conv2D)        (None, 75, 75, 128)       147584    \n",
      "_________________________________________________________________\n",
      "block2_pool (MaxPooling2D)   (None, 37, 37, 128)       0         \n",
      "_________________________________________________________________\n",
      "block3_conv1 (Conv2D)        (None, 37, 37, 256)       295168    \n",
      "_________________________________________________________________\n",
      "block3_conv2 (Conv2D)        (None, 37, 37, 256)       590080    \n",
      "_________________________________________________________________\n",
      "block3_conv3 (Conv2D)        (None, 37, 37, 256)       590080    \n",
      "_________________________________________________________________\n",
      "block3_pool (MaxPooling2D)   (None, 18, 18, 256)       0         \n",
      "_________________________________________________________________\n",
      "block4_conv1 (Conv2D)        (None, 18, 18, 512)       1180160   \n",
      "_________________________________________________________________\n",
      "block4_conv2 (Conv2D)        (None, 18, 18, 512)       2359808   \n",
      "_________________________________________________________________\n",
      "block4_conv3 (Conv2D)        (None, 18, 18, 512)       2359808   \n",
      "_________________________________________________________________\n",
      "block4_pool (MaxPooling2D)   (None, 9, 9, 512)         0         \n",
      "_________________________________________________________________\n",
      "block5_conv1 (Conv2D)        (None, 9, 9, 512)         2359808   \n",
      "_________________________________________________________________\n",
      "block5_conv2 (Conv2D)        (None, 9, 9, 512)         2359808   \n",
      "_________________________________________________________________\n",
      "block5_conv3 (Conv2D)        (None, 9, 9, 512)         2359808   \n",
      "_________________________________________________________________\n",
      "block5_pool (MaxPooling2D)   (None, 4, 4, 512)         0         \n",
      "=================================================================\n",
      "Total params: 14,714,688\n",
      "Trainable params: 0\n",
      "Non-trainable params: 14,714,688\n",
      "_________________________________________________________________\n"
     ]
    }
   ],
   "source": [
    "conv_base.summary()"
   ]
  },
  {
   "cell_type": "markdown",
   "metadata": {},
   "source": [
    "마지막 세 개의 합성곱 층을 미세 조정\n",
    "\n",
    "즉, block4_pool까지 모든 층은 동결되고 block5_conv1, block5_conv2, block5_conv3 층은 학습 대상이 된다."
   ]
  },
  {
   "cell_type": "code",
   "execution_count": 19,
   "metadata": {},
   "outputs": [],
   "source": [
    "# 미세 조정 설정\n",
    "conv_base.trainable = True\n",
    "\n",
    "set_trainable = False\n",
    "for layer in conv_base.layers:\n",
    "    if layer.name == 'block5_conv1':\n",
    "        set_trainable = True\n",
    "    if set_trainable:\n",
    "        layer.trainable = True\n",
    "    else:\n",
    "        layer.trainable = False"
   ]
  },
  {
   "cell_type": "code",
   "execution_count": 20,
   "metadata": {},
   "outputs": [
    {
     "name": "stdout",
     "output_type": "stream",
     "text": [
      "Epoch 1/100\n",
      "100/100 [==============================] - 45s 446ms/step - loss: 0.1998 - acc: 0.9245 - val_loss: 0.2296 - val_acc: 0.9090\n",
      "Epoch 2/100\n",
      "100/100 [==============================] - 45s 448ms/step - loss: 0.1588 - acc: 0.9390 - val_loss: 0.3003 - val_acc: 0.8890\n",
      "Epoch 3/100\n",
      "100/100 [==============================] - 45s 448ms/step - loss: 0.1305 - acc: 0.9460 - val_loss: 0.2637 - val_acc: 0.9100\n",
      "Epoch 4/100\n",
      "100/100 [==============================] - 45s 454ms/step - loss: 0.1329 - acc: 0.9460 - val_loss: 0.2122 - val_acc: 0.9090\n",
      "Epoch 5/100\n",
      "100/100 [==============================] - 47s 467ms/step - loss: 0.1053 - acc: 0.9605 - val_loss: 0.2275 - val_acc: 0.9290\n",
      "Epoch 6/100\n",
      "100/100 [==============================] - 47s 466ms/step - loss: 0.0923 - acc: 0.9660 - val_loss: 0.2251 - val_acc: 0.9200\n",
      "Epoch 7/100\n",
      "100/100 [==============================] - 47s 466ms/step - loss: 0.0788 - acc: 0.9690 - val_loss: 0.2199 - val_acc: 0.9270\n",
      "Epoch 8/100\n",
      "100/100 [==============================] - 47s 466ms/step - loss: 0.0655 - acc: 0.9765 - val_loss: 0.1835 - val_acc: 0.9320\n",
      "Epoch 9/100\n",
      "100/100 [==============================] - 47s 466ms/step - loss: 0.0612 - acc: 0.9795 - val_loss: 0.3011 - val_acc: 0.9090\n",
      "Epoch 10/100\n",
      "100/100 [==============================] - 47s 466ms/step - loss: 0.0644 - acc: 0.9725 - val_loss: 0.2378 - val_acc: 0.9170\n",
      "Epoch 11/100\n",
      "100/100 [==============================] - 47s 466ms/step - loss: 0.0568 - acc: 0.9800 - val_loss: 0.2314 - val_acc: 0.9250\n",
      "Epoch 12/100\n",
      "100/100 [==============================] - 47s 466ms/step - loss: 0.0512 - acc: 0.9830 - val_loss: 0.2328 - val_acc: 0.9130\n",
      "Epoch 13/100\n",
      "100/100 [==============================] - 47s 466ms/step - loss: 0.0469 - acc: 0.9830 - val_loss: 0.2044 - val_acc: 0.9270\n",
      "Epoch 14/100\n",
      "100/100 [==============================] - 47s 466ms/step - loss: 0.0329 - acc: 0.9880 - val_loss: 0.2400 - val_acc: 0.9280\n",
      "Epoch 15/100\n",
      "100/100 [==============================] - 47s 466ms/step - loss: 0.0353 - acc: 0.9880 - val_loss: 0.2360 - val_acc: 0.9350\n",
      "Epoch 16/100\n",
      "100/100 [==============================] - 47s 466ms/step - loss: 0.0262 - acc: 0.9930 - val_loss: 0.2684 - val_acc: 0.9220\n",
      "Epoch 17/100\n",
      "100/100 [==============================] - 47s 466ms/step - loss: 0.0308 - acc: 0.9905 - val_loss: 0.2703 - val_acc: 0.9260\n",
      "Epoch 18/100\n",
      "100/100 [==============================] - 47s 466ms/step - loss: 0.0238 - acc: 0.9925 - val_loss: 0.3060 - val_acc: 0.9220\n",
      "Epoch 19/100\n",
      "100/100 [==============================] - 47s 466ms/step - loss: 0.0239 - acc: 0.9915 - val_loss: 0.2497 - val_acc: 0.9190\n",
      "Epoch 20/100\n",
      "100/100 [==============================] - 47s 466ms/step - loss: 0.0270 - acc: 0.9910 - val_loss: 0.2649 - val_acc: 0.9340\n",
      "Epoch 21/100\n",
      "100/100 [==============================] - 47s 466ms/step - loss: 0.0226 - acc: 0.9935 - val_loss: 0.2324 - val_acc: 0.9330\n",
      "Epoch 22/100\n",
      "100/100 [==============================] - 47s 466ms/step - loss: 0.0194 - acc: 0.9945 - val_loss: 0.2956 - val_acc: 0.9270\n",
      "Epoch 23/100\n",
      "100/100 [==============================] - 47s 466ms/step - loss: 0.0249 - acc: 0.9905 - val_loss: 0.2674 - val_acc: 0.9290\n",
      "Epoch 24/100\n",
      "100/100 [==============================] - 47s 466ms/step - loss: 0.0150 - acc: 0.9950 - val_loss: 0.3101 - val_acc: 0.9310\n",
      "Epoch 25/100\n",
      "100/100 [==============================] - 47s 466ms/step - loss: 0.0126 - acc: 0.9970 - val_loss: 0.3007 - val_acc: 0.9240\n",
      "Epoch 26/100\n",
      "100/100 [==============================] - 47s 466ms/step - loss: 0.0163 - acc: 0.9945 - val_loss: 0.2397 - val_acc: 0.9350\n",
      "Epoch 27/100\n",
      "100/100 [==============================] - 47s 466ms/step - loss: 0.0167 - acc: 0.9945 - val_loss: 0.3384 - val_acc: 0.9230\n",
      "Epoch 28/100\n",
      "100/100 [==============================] - 47s 466ms/step - loss: 0.0165 - acc: 0.9950 - val_loss: 0.2519 - val_acc: 0.9310\n",
      "Epoch 29/100\n",
      "100/100 [==============================] - 47s 466ms/step - loss: 0.0121 - acc: 0.9965 - val_loss: 0.2805 - val_acc: 0.9190\n",
      "Epoch 30/100\n",
      "100/100 [==============================] - 47s 466ms/step - loss: 0.0141 - acc: 0.9955 - val_loss: 0.2709 - val_acc: 0.9300\n",
      "Epoch 31/100\n",
      "100/100 [==============================] - 47s 466ms/step - loss: 0.0100 - acc: 0.9975 - val_loss: 0.2904 - val_acc: 0.9220\n",
      "Epoch 32/100\n",
      "100/100 [==============================] - 47s 466ms/step - loss: 0.0140 - acc: 0.9925 - val_loss: 0.2478 - val_acc: 0.9270\n",
      "Epoch 33/100\n",
      "100/100 [==============================] - 47s 466ms/step - loss: 0.0100 - acc: 0.9970 - val_loss: 0.2918 - val_acc: 0.9250\n",
      "Epoch 34/100\n",
      "100/100 [==============================] - 47s 466ms/step - loss: 0.0078 - acc: 0.9980 - val_loss: 0.2910 - val_acc: 0.9280\n",
      "Epoch 35/100\n",
      "100/100 [==============================] - 47s 466ms/step - loss: 0.0132 - acc: 0.9950 - val_loss: 0.2811 - val_acc: 0.9270\n",
      "Epoch 36/100\n",
      "100/100 [==============================] - 47s 470ms/step - loss: 0.0071 - acc: 0.9975 - val_loss: 0.3142 - val_acc: 0.9250\n",
      "Epoch 37/100\n",
      "100/100 [==============================] - 48s 477ms/step - loss: 0.0088 - acc: 0.9960 - val_loss: 0.3175 - val_acc: 0.9280\n",
      "Epoch 38/100\n",
      "100/100 [==============================] - 48s 477ms/step - loss: 0.0089 - acc: 0.9965 - val_loss: 0.2850 - val_acc: 0.9290\n",
      "Epoch 39/100\n",
      "100/100 [==============================] - 48s 477ms/step - loss: 0.0106 - acc: 0.9960 - val_loss: 0.2811 - val_acc: 0.9240\n",
      "Epoch 40/100\n",
      "100/100 [==============================] - 48s 477ms/step - loss: 0.0045 - acc: 0.9985 - val_loss: 0.2811 - val_acc: 0.9280\n",
      "Epoch 41/100\n",
      "100/100 [==============================] - 48s 477ms/step - loss: 0.0089 - acc: 0.9980 - val_loss: 0.3365 - val_acc: 0.9260\n",
      "Epoch 42/100\n",
      "100/100 [==============================] - 48s 479ms/step - loss: 0.0065 - acc: 0.9980 - val_loss: 0.3771 - val_acc: 0.9170\n",
      "Epoch 43/100\n",
      "100/100 [==============================] - 49s 489ms/step - loss: 0.0070 - acc: 0.9980 - val_loss: 0.3141 - val_acc: 0.9290\n",
      "Epoch 44/100\n",
      "100/100 [==============================] - 49s 489ms/step - loss: 0.0036 - acc: 0.9990 - val_loss: 0.3303 - val_acc: 0.9280\n",
      "Epoch 45/100\n",
      "100/100 [==============================] - 49s 489ms/step - loss: 0.0035 - acc: 0.9995 - val_loss: 0.3014 - val_acc: 0.9390\n",
      "Epoch 46/100\n",
      "100/100 [==============================] - 49s 489ms/step - loss: 0.0027 - acc: 0.9995 - val_loss: 0.3683 - val_acc: 0.9300\n",
      "Epoch 47/100\n",
      "100/100 [==============================] - 49s 494ms/step - loss: 0.0028 - acc: 0.9995 - val_loss: 0.3371 - val_acc: 0.9370\n",
      "Epoch 48/100\n",
      "100/100 [==============================] - 60s 596ms/step - loss: 0.0116 - acc: 0.9965 - val_loss: 0.3330 - val_acc: 0.9330\n",
      "Epoch 49/100\n",
      "100/100 [==============================] - 69s 686ms/step - loss: 0.0066 - acc: 0.9980 - val_loss: 0.3476 - val_acc: 0.9380\n",
      "Epoch 50/100\n",
      "100/100 [==============================] - 69s 685ms/step - loss: 0.0084 - acc: 0.9965 - val_loss: 0.3443 - val_acc: 0.9270\n",
      "Epoch 51/100\n",
      "100/100 [==============================] - 68s 685ms/step - loss: 0.0031 - acc: 0.9990 - val_loss: 0.4108 - val_acc: 0.9230\n",
      "Epoch 52/100\n",
      "100/100 [==============================] - 62s 623ms/step - loss: 0.0045 - acc: 0.9985 - val_loss: 0.2942 - val_acc: 0.9440\n",
      "Epoch 53/100\n",
      "100/100 [==============================] - 59s 589ms/step - loss: 0.0049 - acc: 0.9990 - val_loss: 0.3135 - val_acc: 0.9380\n",
      "Epoch 54/100\n",
      "100/100 [==============================] - 58s 583ms/step - loss: 0.0045 - acc: 0.9975 - val_loss: 0.3257 - val_acc: 0.9290\n",
      "Epoch 55/100\n",
      "100/100 [==============================] - 58s 583ms/step - loss: 0.0014 - acc: 0.9995 - val_loss: 0.3241 - val_acc: 0.9360\n",
      "Epoch 56/100\n",
      "100/100 [==============================] - 58s 583ms/step - loss: 0.0041 - acc: 0.9985 - val_loss: 0.3248 - val_acc: 0.9280\n",
      "Epoch 57/100\n",
      "100/100 [==============================] - 58s 583ms/step - loss: 0.0093 - acc: 0.9985 - val_loss: 0.3481 - val_acc: 0.9350\n",
      "Epoch 58/100\n",
      "100/100 [==============================] - 58s 583ms/step - loss: 0.0031 - acc: 0.9985 - val_loss: 0.7451 - val_acc: 0.8890\n",
      "Epoch 59/100\n",
      "100/100 [==============================] - 58s 583ms/step - loss: 0.0046 - acc: 0.9985 - val_loss: 0.3465 - val_acc: 0.9350\n",
      "Epoch 60/100\n",
      "100/100 [==============================] - 58s 584ms/step - loss: 0.0024 - acc: 0.9990 - val_loss: 0.3643 - val_acc: 0.9310\n"
     ]
    },
    {
     "name": "stdout",
     "output_type": "stream",
     "text": [
      "Epoch 61/100\n",
      "100/100 [==============================] - 58s 583ms/step - loss: 0.0097 - acc: 0.9975 - val_loss: 0.3563 - val_acc: 0.9300\n",
      "Epoch 62/100\n",
      "100/100 [==============================] - 58s 583ms/step - loss: 0.0021 - acc: 0.9995 - val_loss: 0.3549 - val_acc: 0.9310\n",
      "Epoch 63/100\n",
      "100/100 [==============================] - 58s 583ms/step - loss: 0.0049 - acc: 0.9980 - val_loss: 0.6561 - val_acc: 0.8980\n",
      "Epoch 64/100\n",
      "100/100 [==============================] - 58s 584ms/step - loss: 0.0023 - acc: 0.9995 - val_loss: 0.3802 - val_acc: 0.9360\n",
      "Epoch 65/100\n",
      "100/100 [==============================] - 58s 584ms/step - loss: 0.0035 - acc: 0.9990 - val_loss: 0.3691 - val_acc: 0.9300\n",
      "Epoch 66/100\n",
      "100/100 [==============================] - 58s 584ms/step - loss: 0.0049 - acc: 0.9990 - val_loss: 0.3523 - val_acc: 0.9300\n",
      "Epoch 67/100\n",
      "100/100 [==============================] - 58s 583ms/step - loss: 0.0013 - acc: 1.0000 - val_loss: 0.4436 - val_acc: 0.9160\n",
      "Epoch 68/100\n",
      "100/100 [==============================] - 58s 583ms/step - loss: 0.0047 - acc: 0.9985 - val_loss: 0.3512 - val_acc: 0.9250\n",
      "Epoch 69/100\n",
      "100/100 [==============================] - 71s 706ms/step - loss: 0.0038 - acc: 0.9980 - val_loss: 0.3255 - val_acc: 0.9350\n",
      "Epoch 70/100\n",
      "100/100 [==============================] - 90s 898ms/step - loss: 0.0016 - acc: 0.9995 - val_loss: 0.4013 - val_acc: 0.9310\n",
      "Epoch 71/100\n",
      "100/100 [==============================] - 69s 687ms/step - loss: 0.0020 - acc: 0.9990 - val_loss: 0.3719 - val_acc: 0.9360\n",
      "Epoch 72/100\n",
      "100/100 [==============================] - 69s 685ms/step - loss: 0.0038 - acc: 0.9985 - val_loss: 0.4052 - val_acc: 0.9240\n",
      "Epoch 73/100\n",
      "100/100 [==============================] - 69s 686ms/step - loss: 0.0010 - acc: 0.9995 - val_loss: 0.3353 - val_acc: 0.9350\n",
      "Epoch 74/100\n",
      "100/100 [==============================] - 69s 685ms/step - loss: 0.0028 - acc: 0.9985 - val_loss: 0.4058 - val_acc: 0.9320\n",
      "Epoch 75/100\n",
      "100/100 [==============================] - 65s 648ms/step - loss: 7.4929e-04 - acc: 1.0000 - val_loss: 0.4364 - val_acc: 0.9260\n",
      "Epoch 76/100\n",
      "100/100 [==============================] - 65s 646ms/step - loss: 0.0016 - acc: 0.9990 - val_loss: 0.4265 - val_acc: 0.9340\n",
      "Epoch 77/100\n",
      "100/100 [==============================] - 65s 646ms/step - loss: 0.0056 - acc: 0.9990 - val_loss: 0.3909 - val_acc: 0.9320\n",
      "Epoch 78/100\n",
      "100/100 [==============================] - 65s 646ms/step - loss: 0.0061 - acc: 0.9980 - val_loss: 0.4884 - val_acc: 0.9290\n",
      "Epoch 79/100\n",
      "100/100 [==============================] - 65s 646ms/step - loss: 0.0059 - acc: 0.9990 - val_loss: 0.6407 - val_acc: 0.9040\n",
      "Epoch 80/100\n",
      "100/100 [==============================] - 65s 646ms/step - loss: 0.0019 - acc: 0.9995 - val_loss: 0.4133 - val_acc: 0.9290\n",
      "Epoch 81/100\n",
      "100/100 [==============================] - 65s 646ms/step - loss: 0.0065 - acc: 0.9980 - val_loss: 0.3886 - val_acc: 0.9300\n",
      "Epoch 82/100\n",
      "100/100 [==============================] - 65s 646ms/step - loss: 0.0010 - acc: 1.0000 - val_loss: 0.4907 - val_acc: 0.9230\n",
      "Epoch 83/100\n",
      "100/100 [==============================] - 65s 646ms/step - loss: 0.0056 - acc: 0.9985 - val_loss: 0.3507 - val_acc: 0.9360\n",
      "Epoch 84/100\n",
      "100/100 [==============================] - 65s 646ms/step - loss: 0.0015 - acc: 0.9990 - val_loss: 0.3826 - val_acc: 0.9330\n",
      "Epoch 85/100\n",
      "100/100 [==============================] - 65s 646ms/step - loss: 0.0027 - acc: 0.9990 - val_loss: 0.4031 - val_acc: 0.9300\n",
      "Epoch 86/100\n",
      "100/100 [==============================] - 65s 646ms/step - loss: 0.0015 - acc: 0.9990 - val_loss: 0.4232 - val_acc: 0.9280\n",
      "Epoch 87/100\n",
      "100/100 [==============================] - 65s 646ms/step - loss: 0.0031 - acc: 0.9985 - val_loss: 0.3668 - val_acc: 0.9430\n",
      "Epoch 88/100\n",
      "100/100 [==============================] - 65s 646ms/step - loss: 5.1613e-04 - acc: 1.0000 - val_loss: 0.3477 - val_acc: 0.9310\n",
      "Epoch 89/100\n",
      "100/100 [==============================] - 65s 646ms/step - loss: 0.0034 - acc: 0.9990 - val_loss: 0.4105 - val_acc: 0.9350\n",
      "Epoch 90/100\n",
      "100/100 [==============================] - 65s 646ms/step - loss: 0.0042 - acc: 0.9985 - val_loss: 0.3755 - val_acc: 0.9300\n",
      "Epoch 91/100\n",
      "100/100 [==============================] - 65s 646ms/step - loss: 1.9921e-04 - acc: 1.0000 - val_loss: 0.4731 - val_acc: 0.9250\n",
      "Epoch 92/100\n",
      "100/100 [==============================] - 65s 646ms/step - loss: 0.0031 - acc: 0.9980 - val_loss: 0.3688 - val_acc: 0.9350\n",
      "Epoch 93/100\n",
      "100/100 [==============================] - 65s 647ms/step - loss: 0.0063 - acc: 0.9980 - val_loss: 0.4092 - val_acc: 0.9300\n",
      "Epoch 94/100\n",
      "100/100 [==============================] - 65s 646ms/step - loss: 0.0018 - acc: 0.9990 - val_loss: 0.4198 - val_acc: 0.9250\n",
      "Epoch 95/100\n",
      "100/100 [==============================] - 65s 647ms/step - loss: 0.0027 - acc: 0.9985 - val_loss: 0.3571 - val_acc: 0.9360\n",
      "Epoch 96/100\n",
      "100/100 [==============================] - 65s 647ms/step - loss: 0.0012 - acc: 0.9995 - val_loss: 0.3513 - val_acc: 0.9350\n",
      "Epoch 97/100\n",
      "100/100 [==============================] - 65s 646ms/step - loss: 0.0019 - acc: 0.9995 - val_loss: 0.3812 - val_acc: 0.9260\n",
      "Epoch 98/100\n",
      "100/100 [==============================] - 65s 646ms/step - loss: 0.0027 - acc: 0.9985 - val_loss: 0.4344 - val_acc: 0.9340\n",
      "Epoch 99/100\n",
      "100/100 [==============================] - 65s 646ms/step - loss: 0.0096 - acc: 0.9985 - val_loss: 0.3778 - val_acc: 0.9380\n",
      "Epoch 100/100\n",
      "100/100 [==============================] - 65s 646ms/step - loss: 0.0021 - acc: 0.9985 - val_loss: 0.4669 - val_acc: 0.9320\n"
     ]
    }
   ],
   "source": [
    "# 미세 조정 진행\n",
    "model.compile(loss='binary_crossentropy',\n",
    "              optimizer=optimizers.RMSprop(lr=1e-5),\n",
    "              metrics=['acc'])\n",
    "\n",
    "history = model.fit_generator(\n",
    "      train_generator,\n",
    "      steps_per_epoch=100,\n",
    "      epochs=100,\n",
    "      validation_data=validation_generator,\n",
    "      validation_steps=50)"
   ]
  },
  {
   "cell_type": "code",
   "execution_count": 21,
   "metadata": {},
   "outputs": [],
   "source": [
    "model.save('cats_and_dogs_small_4.h5')"
   ]
  },
  {
   "cell_type": "code",
   "execution_count": 22,
   "metadata": {},
   "outputs": [
    {
     "data": {
      "image/png": "[encoded data removed]",
      "text/plain": [
       "<Figure size 432x288 with 1 Axes>"
      ]
     },
     "metadata": {
      "needs_background": "light"
     },
     "output_type": "display_data"
    },
    {
     "data": {
      "image/png": "[encoded data removed]",
      "text/plain": [
       "<Figure size 432x288 with 1 Axes>"
      ]
     },
     "metadata": {
      "needs_background": "light"
     },
     "output_type": "display_data"
    }
   ],
   "source": [
    "acc = history.history['acc']\n",
    "val_acc = history.history['val_acc']\n",
    "loss = history.history['loss']\n",
    "val_loss = history.history['val_loss']\n",
    "\n",
    "epochs = range(len(acc))\n",
    "\n",
    "plt.plot(epochs, acc, 'bo', label='Training acc')\n",
    "plt.plot(epochs, val_acc, 'b', label='Validation acc')\n",
    "plt.title('Training and validation accuracy')\n",
    "plt.legend()\n",
    "\n",
    "plt.figure()\n",
    "\n",
    "plt.plot(epochs, loss, 'bo', label='Training loss')\n",
    "plt.plot(epochs, val_loss, 'b', label='Validation loss')\n",
    "plt.title('Training and validation loss')\n",
    "plt.legend()\n",
    "\n",
    "plt.show()"
   ]
  },
  {
   "cell_type": "markdown",
   "metadata": {},
   "source": [
    "그래프가 불규칙하게 보이기 때문에 그래프를 보기 쉽게하기 위해 지수 이동 평균으로 정확도와 손실 값을 부드럽게 표현한다."
   ]
  },
  {
   "cell_type": "code",
   "execution_count": 23,
   "metadata": {},
   "outputs": [
    {
     "data": {
      "image/png": "[encoded data removed]",
      "text/plain": [
       "<Figure size 432x288 with 1 Axes>"
      ]
     },
     "metadata": {
      "needs_background": "light"
     },
     "output_type": "display_data"
    },
    {
     "data": {
      "image/png": "[encoded data removed]",
      "text/plain": [
       "<Figure size 432x288 with 1 Axes>"
      ]
     },
     "metadata": {
      "needs_background": "light"
     },
     "output_type": "display_data"
    }
   ],
   "source": [
    "# 지수 이동 평균을 구하기 위한 간단한 함수\n",
    "def smooth_curve(points, factor=0.8):\n",
    "  smoothed_points = []\n",
    "  for point in points:\n",
    "    if smoothed_points:\n",
    "      previous = smoothed_points[-1]\n",
    "      smoothed_points.append(previous * factor + point * (1 - factor))\n",
    "    else:\n",
    "      smoothed_points.append(point)\n",
    "  return smoothed_points\n",
    "\n",
    "plt.plot(epochs,\n",
    "         smooth_curve(acc), 'bo', label='Smoothed training acc')\n",
    "plt.plot(epochs,\n",
    "         smooth_curve(val_acc), 'b', label='Smoothed validation acc')\n",
    "plt.title('Training and validation accuracy')\n",
    "plt.legend()\n",
    "\n",
    "plt.figure()\n",
    "\n",
    "plt.plot(epochs,\n",
    "         smooth_curve(loss), 'bo', label='Smoothed training loss')\n",
    "plt.plot(epochs,\n",
    "         smooth_curve(val_loss), 'b', label='Smoothed validation loss')\n",
    "plt.title('Training and validation loss')\n",
    "plt.legend()\n",
    "\n",
    "plt.show()"
   ]
  },
  {
   "cell_type": "code",
   "execution_count": 24,
   "metadata": {},
   "outputs": [
    {
     "name": "stdout",
     "output_type": "stream",
     "text": [
      "Found 1000 images belonging to 2 classes.\n",
      "test acc: 0.9359999942779541\n"
     ]
    }
   ],
   "source": [
    "# 모델 평가\n",
    "test_generator = test_datagen.flow_from_directory(\n",
    "        test_dir,\n",
    "        target_size=(150, 150),\n",
    "        batch_size=20,\n",
    "        class_mode='binary')\n",
    "\n",
    "test_loss, test_acc = model.evaluate_generator(test_generator, steps=50)\n",
    "print('test acc:', test_acc)"
   ]
  }
 ],
 "metadata": {
  "kernelspec": {
   "display_name": "Python 3",
   "language": "python",
   "name": "python3"
  },
  "language_info": {
   "codemirror_mode": {
    "name": "ipython",
    "version": 3
   },
   "file_extension": ".py",
   "mimetype": "text/x-python",
   "name": "python",
   "nbconvert_exporter": "python",
   "pygments_lexer": "ipython3",
   "version": "3.7.3"
  }
 },
 "nbformat": 4,
 "nbformat_minor": 2
}
