{
 "cells": [
  {
   "cell_type": "code",
   "execution_count": 1,
   "metadata": {
    "colab": {
     "base_uri": "https://localhost:8080/",
     "height": 34
    },
    "colab_type": "code",
    "id": "4s7PWjpdr1hT",
    "outputId": "13635cdf-29fd-49b0-967d-e5fca609a289"
   },
   "outputs": [
    {
     "name": "stderr",
     "output_type": "stream",
     "text": [
      "Using TensorFlow backend.\n"
     ]
    }
   ],
   "source": [
    "from keras.datasets import imdb\n",
    "from keras.preprocessing import sequence\n",
    "from keras.models import Sequential\n",
    "from keras.layers import Dense, Embedding\n",
    "from keras.layers import Flatten\n",
    "\n",
    "max_features = 20000\n",
    "text_max_words = 200"
   ]
  },
  {
   "cell_type": "markdown",
   "metadata": {
    "colab_type": "text",
    "id": "DpJZUzYwr1hb"
   },
   "source": [
    "### 데이터셋 생성하기\n",
    "훈련셋과 시험셋 불러오기"
   ]
  },
  {
   "cell_type": "code",
   "execution_count": 2,
   "metadata": {
    "colab": {},
    "colab_type": "code",
    "id": "NHA3g5SMr1hd"
   },
   "outputs": [],
   "source": [
    "import numpy as np\n",
    "\n",
    "np_load_old = np.load\n",
    "\n",
    "np.load = lambda *a,**k: np_load_old(*a, allow_pickle=True, **k)\n",
    "\n",
    "(x_train, y_train), (x_test, y_test) = imdb.load_data(num_words=20000)\n",
    "\n",
    "np.load = np_load_old"
   ]
  },
  {
   "cell_type": "markdown",
   "metadata": {
    "colab_type": "text",
    "id": "chHgoIT6r1hk"
   },
   "source": [
    "훈련셋과 검증셋 분리"
   ]
  },
  {
   "cell_type": "code",
   "execution_count": 3,
   "metadata": {
    "colab": {},
    "colab_type": "code",
    "id": "CXuS83fZr1ho"
   },
   "outputs": [],
   "source": [
    "x_val = x_train[20000:]\n",
    "y_val = y_train[20000:]\n",
    "x_train = x_train[:20000]\n",
    "y_train = y_train[:20000]"
   ]
  },
  {
   "cell_type": "markdown",
   "metadata": {
    "colab_type": "text",
    "id": "oBZ8K0MatKO3"
   },
   "source": [
    "데이터셋 전처리 : 문장 길이 맞추기"
   ]
  },
  {
   "cell_type": "code",
   "execution_count": 4,
   "metadata": {
    "colab": {},
    "colab_type": "code",
    "id": "Fnq61lQUr1iF"
   },
   "outputs": [],
   "source": [
    "x_train = sequence.pad_sequences(x_train, maxlen=text_max_words)\n",
    "x_val = sequence.pad_sequences(x_val, maxlen=text_max_words)\n",
    "x_test = sequence.pad_sequences(x_test, maxlen=text_max_words)"
   ]
  },
  {
   "cell_type": "markdown",
   "metadata": {
    "colab_type": "text",
    "id": "y7iTnQVhr1iL"
   },
   "source": [
    "### 모델 구성하기\n",
    "임베딩(Embedding) 레이어의 인자 의미\n",
    "\n",
    "- 첫번째 인자(input_dim) : 단어 사전의 크기를 말하며 총 20,000개의 단어 종류가 있다는 의미이다. 이 값은 앞서 imdb.load_data() 함수의 num_words 인자값과 동일해야 한다.\n",
    "\n",
    "- 두번째 인자(output_dim) : 단어를 인코딩 한 후 나오는 벡터 크기이다. 이 값이 128이라면 단어를 128차원의 의미론적 기하공간에 나타낸다는 의미이다. 단순하게 빈도수만으로 단어를 표시한다면, 10과 11은 빈도수는 비슷하지만 단어로 볼 때는 전혀 다른 의미를 가지고 있다. 하지만 의미론적 기하공간에서는 거리가 가까운 두 단어는 의미도 유사하다. 즉 임베딩 레이어는 입력되는 단어를 의미론적으로 잘 설계된 공간에 위치시켜 벡터로 수치화 시킨다고 볼 수 있다.\n",
    "\n",
    "- input_length : 단어의 수 즉 문장의 길이를 나타낸다. 임베딩 레이어의 출력 크기는 샘플 수 * output_dim * input_lenth가 된다. 임베딩 레이어 다음에 Flatten 레이어가 온다면 반드시 input_lenth를 지정해야 한다. 플래튼 레이어인 경우 입력 크기가 알아야 이를 1차원으로 만들어서 Dense 레이어에 전달할 수 있기 때문이다."
   ]
  },
  {
   "cell_type": "code",
   "execution_count": 5,
   "metadata": {
    "colab": {
     "base_uri": "https://localhost:8080/",
     "height": 160
    },
    "colab_type": "code",
    "id": "fGx50f-5r1iN",
    "outputId": "78808c02-0b8c-42ae-b10b-0a5dc5215e6d"
   },
   "outputs": [
    {
     "name": "stdout",
     "output_type": "stream",
     "text": [
      "WARNING:tensorflow:From C:\\Anaconda3\\lib\\site-packages\\tensorflow\\python\\framework\\op_def_library.py:263: colocate_with (from tensorflow.python.framework.ops) is deprecated and will be removed in a future version.\n",
      "Instructions for updating:\n",
      "Colocations handled automatically by placer.\n"
     ]
    }
   ],
   "source": [
    "model = Sequential()\n",
    "model.add(Embedding(max_features, 128, input_length=text_max_words))\n",
    "model.add(Flatten())\n",
    "model.add(Dense(256, activation='relu'))\n",
    "model.add(Dense(1, activation='sigmoid'))"
   ]
  },
  {
   "cell_type": "markdown",
   "metadata": {
    "colab_type": "text",
    "id": "G2R6XoaEr1iT"
   },
   "source": [
    "### 모델 학습과정 설정하기"
   ]
  },
  {
   "cell_type": "code",
   "execution_count": 6,
   "metadata": {
    "colab": {
     "base_uri": "https://localhost:8080/",
     "height": 160
    },
    "colab_type": "code",
    "id": "WaBz383Or1iV",
    "outputId": "1fd02b02-724a-4be5-9972-24d05160b96d"
   },
   "outputs": [],
   "source": [
    "model.compile(loss='binary_crossentropy', optimizer='adam', metrics=['accuracy'])"
   ]
  },
  {
   "cell_type": "markdown",
   "metadata": {
    "colab_type": "text",
    "id": "ktzSXLb_r1ib"
   },
   "source": [
    "### 모델 학습시키기"
   ]
  },
  {
   "cell_type": "code",
   "execution_count": 7,
   "metadata": {
    "colab": {
     "base_uri": "https://localhost:8080/",
     "height": 970
    },
    "colab_type": "code",
    "id": "3UEsYejHr1ie",
    "outputId": "8bf6086e-f7af-4fb4-e782-1aef2e6c486f"
   },
   "outputs": [
    {
     "name": "stdout",
     "output_type": "stream",
     "text": [
      "WARNING:tensorflow:From C:\\Anaconda3\\lib\\site-packages\\tensorflow\\python\\ops\\math_ops.py:3066: to_int32 (from tensorflow.python.ops.math_ops) is deprecated and will be removed in a future version.\n",
      "Instructions for updating:\n",
      "Use tf.cast instead.\n",
      "Train on 20000 samples, validate on 5000 samples\n",
      "Epoch 1/25\n",
      "20000/20000 [==============================] - 36s 2ms/step - loss: 0.4156 - acc: 0.7903 - val_loss: 0.3023 - val_acc: 0.8734\n",
      "Epoch 2/25\n",
      "20000/20000 [==============================] - 36s 2ms/step - loss: 0.0508 - acc: 0.9834 - val_loss: 0.4111 - val_acc: 0.8616\n",
      "Epoch 3/25\n",
      "20000/20000 [==============================] - 38s 2ms/step - loss: 0.0032 - acc: 0.9996 - val_loss: 0.5216 - val_acc: 0.8676\n",
      "Epoch 4/25\n",
      "20000/20000 [==============================] - 43s 2ms/step - loss: 2.3715e-04 - acc: 1.0000 - val_loss: 0.5464 - val_acc: 0.8688\n",
      "Epoch 5/25\n",
      "20000/20000 [==============================] - 43s 2ms/step - loss: 9.2801e-05 - acc: 1.0000 - val_loss: 0.5650 - val_acc: 0.8696\n",
      "Epoch 6/25\n",
      "20000/20000 [==============================] - 51s 3ms/step - loss: 5.8713e-05 - acc: 1.0000 - val_loss: 0.5778 - val_acc: 0.8704\n",
      "Epoch 7/25\n",
      "20000/20000 [==============================] - 42s 2ms/step - loss: 4.2133e-05 - acc: 1.0000 - val_loss: 0.5896 - val_acc: 0.8708\n",
      "Epoch 8/25\n",
      "20000/20000 [==============================] - 55s 3ms/step - loss: 3.1519e-05 - acc: 1.0000 - val_loss: 0.6011 - val_acc: 0.8704\n",
      "Epoch 9/25\n",
      "20000/20000 [==============================] - 46s 2ms/step - loss: 2.4198e-05 - acc: 1.0000 - val_loss: 0.6109 - val_acc: 0.8708\n",
      "Epoch 10/25\n",
      "20000/20000 [==============================] - 47s 2ms/step - loss: 1.8954e-05 - acc: 1.0000 - val_loss: 0.6184 - val_acc: 0.8718\n",
      "Epoch 11/25\n",
      "20000/20000 [==============================] - 39s 2ms/step - loss: 1.5124e-05 - acc: 1.0000 - val_loss: 0.6269 - val_acc: 0.8720\n",
      "Epoch 12/25\n",
      "20000/20000 [==============================] - 44s 2ms/step - loss: 1.2157e-05 - acc: 1.0000 - val_loss: 0.6358 - val_acc: 0.8718\n",
      "Epoch 13/25\n",
      "20000/20000 [==============================] - 39s 2ms/step - loss: 9.8698e-06 - acc: 1.0000 - val_loss: 0.6438 - val_acc: 0.8716\n",
      "Epoch 14/25\n",
      "20000/20000 [==============================] - 46s 2ms/step - loss: 8.0573e-06 - acc: 1.0000 - val_loss: 0.6510 - val_acc: 0.8720\n",
      "Epoch 15/25\n",
      "20000/20000 [==============================] - 44s 2ms/step - loss: 6.6351e-06 - acc: 1.0000 - val_loss: 0.6583 - val_acc: 0.8720\n",
      "Epoch 16/25\n",
      "20000/20000 [==============================] - 48s 2ms/step - loss: 5.4482e-06 - acc: 1.0000 - val_loss: 0.6640 - val_acc: 0.8718\n",
      "Epoch 17/25\n",
      "20000/20000 [==============================] - 41s 2ms/step - loss: 4.5634e-06 - acc: 1.0000 - val_loss: 0.6722 - val_acc: 0.8726\n",
      "Epoch 18/25\n",
      "20000/20000 [==============================] - 45s 2ms/step - loss: 3.7777e-06 - acc: 1.0000 - val_loss: 0.6782 - val_acc: 0.8724\n",
      "Epoch 19/25\n",
      "20000/20000 [==============================] - 37s 2ms/step - loss: 3.1582e-06 - acc: 1.0000 - val_loss: 0.6857 - val_acc: 0.8728\n",
      "Epoch 20/25\n",
      "20000/20000 [==============================] - 39s 2ms/step - loss: 2.6541e-06 - acc: 1.0000 - val_loss: 0.6922 - val_acc: 0.8730\n",
      "Epoch 21/25\n",
      "20000/20000 [==============================] - 39s 2ms/step - loss: 2.2244e-06 - acc: 1.0000 - val_loss: 0.6980 - val_acc: 0.8736\n",
      "Epoch 22/25\n",
      "20000/20000 [==============================] - 38s 2ms/step - loss: 1.8762e-06 - acc: 1.0000 - val_loss: 0.7043 - val_acc: 0.8732\n",
      "Epoch 23/25\n",
      "20000/20000 [==============================] - 39s 2ms/step - loss: 1.5827e-06 - acc: 1.0000 - val_loss: 0.7094 - val_acc: 0.8726\n",
      "Epoch 24/25\n",
      "20000/20000 [==============================] - 35s 2ms/step - loss: 1.3421e-06 - acc: 1.0000 - val_loss: 0.7158 - val_acc: 0.8730\n",
      "Epoch 25/25\n",
      "20000/20000 [==============================] - 41s 2ms/step - loss: 1.1384e-06 - acc: 1.0000 - val_loss: 0.7230 - val_acc: 0.8738\n"
     ]
    }
   ],
   "source": [
    "hist = model.fit(x_train,\n",
    "                 y_train,\n",
    "                 epochs=25,\n",
    "                 batch_size=64,\n",
    "                 validation_data=(x_val, y_val))"
   ]
  },
  {
   "cell_type": "markdown",
   "metadata": {
    "colab_type": "text",
    "id": "QPsnH_W5r1im"
   },
   "source": [
    "### 학습과정 확인"
   ]
  },
  {
   "cell_type": "code",
   "execution_count": 8,
   "metadata": {
    "colab": {
     "base_uri": "https://localhost:8080/",
     "height": 283
    },
    "colab_type": "code",
    "id": "19bVBU6Xr1io",
    "outputId": "eaa832dd-58dd-482c-a362-997cbb5e030d"
   },
   "outputs": [
    {
     "data": {
      "image/png": "[encoded data removed]",
      "text/plain": [
       "<Figure size 432x288 with 2 Axes>"
      ]
     },
     "metadata": {
      "needs_background": "light"
     },
     "output_type": "display_data"
    }
   ],
   "source": [
    "%matplotlib inline\n",
    "import matplotlib.pyplot as plt\n",
    "\n",
    "fig, loss_ax = plt.subplots()\n",
    "\n",
    "acc_ax = loss_ax.twinx()\n",
    "\n",
    "loss_ax.plot(hist.history['loss'], 'y', label='train loss')\n",
    "loss_ax.plot(hist.history['val_loss'], 'r', label='val loss')\n",
    "loss_ax.set_ylim([-0.2, 1.2])\n",
    "\n",
    "acc_ax.plot(hist.history['acc'], 'b', label='train acc')\n",
    "acc_ax.plot(hist.history['val_acc'], 'g', label='val acc')\n",
    "acc_ax.set_ylim([-0.2, 1.2])\n",
    "\n",
    "loss_ax.set_xlabel('epoch')\n",
    "loss_ax.set_ylabel('loss')\n",
    "acc_ax.set_ylabel('accuray')\n",
    "\n",
    "loss_ax.legend(loc='upper left')\n",
    "acc_ax.legend(loc='lower left')\n",
    "\n",
    "plt.show()"
   ]
  },
  {
   "cell_type": "markdown",
   "metadata": {
    "colab_type": "text",
    "id": "H0FROyznr1iw"
   },
   "source": [
    "### 모델 평가"
   ]
  },
  {
   "cell_type": "code",
   "execution_count": 9,
   "metadata": {
    "colab": {
     "base_uri": "https://localhost:8080/",
     "height": 70
    },
    "colab_type": "code",
    "id": "BMQolDIMr1iy",
    "outputId": "9b6e8f98-d243-48c6-83f9-38ef465b529b"
   },
   "outputs": [
    {
     "name": "stdout",
     "output_type": "stream",
     "text": [
      "25000/25000 [==============================] - 6s 256us/step\n",
      "## evaluation loss and_metrics ##\n",
      "[0.764113080329895, 0.8618000000190735]\n"
     ]
    }
   ],
   "source": [
    "loss_and_metrics = model.evaluate(x_test, y_test, batch_size=64)\n",
    "print('## evaluation loss and_metrics ##')\n",
    "print(loss_and_metrics)"
   ]
  }
 ],
 "metadata": {
  "accelerator": "GPU",
  "colab": {
   "name": "IMDB_MLP.ipynb",
   "provenance": [],
   "version": "0.3.2"
  },
  "kernelspec": {
   "display_name": "Python 3",
   "language": "python",
   "name": "python3"
  },
  "language_info": {
   "codemirror_mode": {
    "name": "ipython",
    "version": 3
   },
   "file_extension": ".py",
   "mimetype": "text/x-python",
   "name": "python",
   "nbconvert_exporter": "python",
   "pygments_lexer": "ipython3",
   "version": "3.7.3"
  }
 },
 "nbformat": 4,
 "nbformat_minor": 1
}
