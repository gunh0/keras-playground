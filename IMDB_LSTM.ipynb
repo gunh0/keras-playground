{
  "nbformat": 4,
  "nbformat_minor": 0,
  "metadata": {
    "colab": {
      "name": "IMDB_LSTM.ipynb",
      "version": "0.3.2",
      "provenance": [],
      "collapsed_sections": []
    },
    "kernelspec": {
      "name": "python3",
      "display_name": "Python 3"
    },
    "language_info": {
      "codemirror_mode": {
        "name": "ipython",
        "version": 3
      },
      "file_extension": ".py",
      "mimetype": "text/x-python",
      "name": "python",
      "nbconvert_exporter": "python",
      "pygments_lexer": "ipython3",
      "version": "3.7.3"
    },
    "accelerator": "GPU"
  },
  "cells": [
    {
      "cell_type": "code",
      "metadata": {
        "colab_type": "code",
        "id": "dUBkTl_QoFzD",
        "colab": {
          "base_uri": "https://localhost:8080/",
          "height": 34
        },
        "outputId": "a801062c-7bb7-41ea-9950-f98b9d2c356b"
      },
      "source": [
        "from keras.datasets import imdb\n",
        "from keras.models import Sequential\n",
        "from keras.layers import Dense, LSTM, Embedding\n",
        "from keras.preprocessing import sequence"
      ],
      "execution_count": 1,
      "outputs": [
        {
          "output_type": "stream",
          "text": [
            "Using TensorFlow backend.\n"
          ],
          "name": "stderr"
        }
      ]
    },
    {
      "cell_type": "code",
      "metadata": {
        "colab_type": "code",
        "id": "aJnd-P3noFzG",
        "colab": {}
      },
      "source": [
        "import numpy as np\n",
        "# save np.load\n",
        "np_load_old = np.load\n",
        "\n",
        "# modify the default parameters of np.load\n",
        "np.load = lambda *a,**k: np_load_old(*a, allow_pickle=True, **k)\n",
        "\n",
        "# call load_data with allow_pickle implicitly set to true\n",
        "(x_train, y_train), (x_test, y_test) = imdb.load_data(num_words=20000)\n",
        "\n",
        "# restore np.load for future normal usage\n",
        "np.load = np_load_old"
      ],
      "execution_count": 0,
      "outputs": []
    },
    {
      "cell_type": "code",
      "metadata": {
        "id": "RJKGMyviHTfW",
        "colab_type": "code",
        "colab": {}
      },
      "source": [
        "# 훈련셋과 검증셋 분리\n",
        "x_val = x_train[20000:]\n",
        "y_val = y_train[20000:]\n",
        "x_train = x_train[:20000]\n",
        "y_train = y_train[:20000]"
      ],
      "execution_count": 0,
      "outputs": []
    },
    {
      "cell_type": "code",
      "metadata": {
        "colab_type": "code",
        "id": "2ddYrMr_oFzH",
        "colab": {}
      },
      "source": [
        "# 데이터셋 전처리\n",
        "x_train = sequence.pad_sequences(x_train, maxlen=200)\n",
        "x_val = sequence.pad_sequences(x_val, maxlen=200)\n",
        "x_test = sequence.pad_sequences(x_test, maxlen=200)\n",
        "# 각 훈련 데이터는 문장의 길이가 다르기 때문에, 모델이 처리할 수 있도록 길이를 동일하게 해주어야 한다.\n",
        "# 이때 사용하는 것이 pad_sequences()이다.\n",
        "# 길이는 maxlen에 넣는 값으로 정해진다.\n",
        "# 훈련 데이터가 정한 길이를 초과하면 초과분을 삭제하고, 부족하면 0으로 채운다."
      ],
      "execution_count": 0,
      "outputs": []
    },
    {
      "cell_type": "code",
      "metadata": {
        "colab_type": "code",
        "id": "aGl1gTGGoFzJ",
        "colab": {
          "base_uri": "https://localhost:8080/",
          "height": 160
        },
        "outputId": "4a4e6092-78ad-4f07-db32-ac1d1d8bb4a9"
      },
      "source": [
        "# 모델 구성\n",
        "model = Sequential()\n",
        "model.add(Embedding(20000, 128))\n",
        "model.add(LSTM(128))\n",
        "model.add(Dense(1, activation='sigmoid'))\n",
        "# 출력층은 활성화 함수로 시그모이드 함수를 갖는 뉴런 하나를 사용한다.\n",
        "# 시그모이드 함수를 사용하면 0 또는 1의 결과를 도출해낼 수 있기 때문에 분류해야하는 카테고리가 두 개일 경우에 출력층에서 사용한다."
      ],
      "execution_count": 5,
      "outputs": [
        {
          "output_type": "stream",
          "text": [
            "WARNING: Logging before flag parsing goes to stderr.\n",
            "W0804 07:00:12.860016 139697656129408 deprecation_wrapper.py:119] From /usr/local/lib/python3.6/dist-packages/keras/backend/tensorflow_backend.py:74: The name tf.get_default_graph is deprecated. Please use tf.compat.v1.get_default_graph instead.\n",
            "\n",
            "W0804 07:00:12.880299 139697656129408 deprecation_wrapper.py:119] From /usr/local/lib/python3.6/dist-packages/keras/backend/tensorflow_backend.py:517: The name tf.placeholder is deprecated. Please use tf.compat.v1.placeholder instead.\n",
            "\n",
            "W0804 07:00:12.882573 139697656129408 deprecation_wrapper.py:119] From /usr/local/lib/python3.6/dist-packages/keras/backend/tensorflow_backend.py:4138: The name tf.random_uniform is deprecated. Please use tf.random.uniform instead.\n",
            "\n"
          ],
          "name": "stderr"
        }
      ]
    },
    {
      "cell_type": "code",
      "metadata": {
        "id": "d-x3HC8TRjME",
        "colab_type": "code",
        "colab": {
          "base_uri": "https://localhost:8080/",
          "height": 263
        },
        "outputId": "d9d7c86e-a413-4fa4-ade9-587a76bc52ba"
      },
      "source": [
        "print(model.summary())"
      ],
      "execution_count": 6,
      "outputs": [
        {
          "output_type": "stream",
          "text": [
            "_________________________________________________________________\n",
            "Layer (type)                 Output Shape              Param #   \n",
            "=================================================================\n",
            "embedding_1 (Embedding)      (None, None, 128)         2560000   \n",
            "_________________________________________________________________\n",
            "lstm_1 (LSTM)                (None, 128)               131584    \n",
            "_________________________________________________________________\n",
            "dense_1 (Dense)              (None, 1)                 129       \n",
            "=================================================================\n",
            "Total params: 2,691,713\n",
            "Trainable params: 2,691,713\n",
            "Non-trainable params: 0\n",
            "_________________________________________________________________\n",
            "None\n"
          ],
          "name": "stdout"
        }
      ]
    },
    {
      "cell_type": "code",
      "metadata": {
        "colab_type": "code",
        "id": "WXsuQvPmoFzL",
        "outputId": "004a037a-2602-4ed8-c5e1-3aaa231ca76e",
        "colab": {
          "base_uri": "https://localhost:8080/",
          "height": 1000
        }
      },
      "source": [
        "model.compile(loss='binary_crossentropy', optimizer='adam', metrics=['accuracy']) # 모델 학습과정 설정\n",
        "\n",
        "hist = model.fit(x_train, y_train, epochs=25, batch_size=64, validation_data=(x_val, y_val))\n",
        "# 모델 학습시키기"
      ],
      "execution_count": 7,
      "outputs": [
        {
          "output_type": "stream",
          "text": [
            "W0804 07:00:13.124430 139697656129408 deprecation_wrapper.py:119] From /usr/local/lib/python3.6/dist-packages/keras/optimizers.py:790: The name tf.train.Optimizer is deprecated. Please use tf.compat.v1.train.Optimizer instead.\n",
            "\n",
            "W0804 07:00:13.150784 139697656129408 deprecation_wrapper.py:119] From /usr/local/lib/python3.6/dist-packages/keras/backend/tensorflow_backend.py:3376: The name tf.log is deprecated. Please use tf.math.log instead.\n",
            "\n",
            "W0804 07:00:13.156845 139697656129408 deprecation.py:323] From /usr/local/lib/python3.6/dist-packages/tensorflow/python/ops/nn_impl.py:180: add_dispatch_support.<locals>.wrapper (from tensorflow.python.ops.array_ops) is deprecated and will be removed in a future version.\n",
            "Instructions for updating:\n",
            "Use tf.where in 2.0, which has the same broadcast rule as np.where\n",
            "W0804 07:00:13.982390 139697656129408 deprecation_wrapper.py:119] From /usr/local/lib/python3.6/dist-packages/keras/backend/tensorflow_backend.py:986: The name tf.assign_add is deprecated. Please use tf.compat.v1.assign_add instead.\n",
            "\n"
          ],
          "name": "stderr"
        },
        {
          "output_type": "stream",
          "text": [
            "Train on 20000 samples, validate on 5000 samples\n",
            "Epoch 1/25\n",
            "20000/20000 [==============================] - 82s 4ms/step - loss: 0.4438 - acc: 0.7892 - val_loss: 0.3747 - val_acc: 0.8382\n",
            "Epoch 2/25\n",
            "20000/20000 [==============================] - 81s 4ms/step - loss: 0.2346 - acc: 0.9085 - val_loss: 0.3236 - val_acc: 0.8616\n",
            "Epoch 3/25\n",
            "20000/20000 [==============================] - 80s 4ms/step - loss: 0.1395 - acc: 0.9491 - val_loss: 0.3973 - val_acc: 0.8702\n",
            "Epoch 4/25\n",
            "20000/20000 [==============================] - 80s 4ms/step - loss: 0.1133 - acc: 0.9598 - val_loss: 0.4681 - val_acc: 0.8538\n",
            "Epoch 5/25\n",
            "20000/20000 [==============================] - 80s 4ms/step - loss: 0.0599 - acc: 0.9799 - val_loss: 0.5400 - val_acc: 0.8468\n",
            "Epoch 6/25\n",
            "20000/20000 [==============================] - 79s 4ms/step - loss: 0.0600 - acc: 0.9800 - val_loss: 0.6000 - val_acc: 0.8022\n",
            "Epoch 7/25\n",
            "20000/20000 [==============================] - 79s 4ms/step - loss: 0.0748 - acc: 0.9736 - val_loss: 0.5386 - val_acc: 0.8432\n",
            "Epoch 8/25\n",
            "20000/20000 [==============================] - 78s 4ms/step - loss: 0.0333 - acc: 0.9888 - val_loss: 0.6367 - val_acc: 0.8440\n",
            "Epoch 9/25\n",
            "20000/20000 [==============================] - 79s 4ms/step - loss: 0.0204 - acc: 0.9941 - val_loss: 0.6722 - val_acc: 0.8338\n",
            "Epoch 10/25\n",
            "20000/20000 [==============================] - 79s 4ms/step - loss: 0.0150 - acc: 0.9958 - val_loss: 0.7191 - val_acc: 0.8356\n",
            "Epoch 11/25\n",
            "20000/20000 [==============================] - 78s 4ms/step - loss: 0.0151 - acc: 0.9959 - val_loss: 0.7212 - val_acc: 0.8262\n",
            "Epoch 12/25\n",
            "20000/20000 [==============================] - 79s 4ms/step - loss: 0.0143 - acc: 0.9961 - val_loss: 0.8018 - val_acc: 0.8388\n",
            "Epoch 13/25\n",
            "20000/20000 [==============================] - 79s 4ms/step - loss: 0.0189 - acc: 0.9942 - val_loss: 0.9132 - val_acc: 0.8426\n",
            "Epoch 14/25\n",
            "20000/20000 [==============================] - 78s 4ms/step - loss: 0.0183 - acc: 0.9940 - val_loss: 0.7683 - val_acc: 0.8512\n",
            "Epoch 15/25\n",
            "20000/20000 [==============================] - 78s 4ms/step - loss: 0.0122 - acc: 0.9965 - val_loss: 0.7254 - val_acc: 0.8326\n",
            "Epoch 16/25\n",
            "20000/20000 [==============================] - 78s 4ms/step - loss: 0.0111 - acc: 0.9970 - val_loss: 0.8429 - val_acc: 0.8440\n",
            "Epoch 17/25\n",
            "20000/20000 [==============================] - 78s 4ms/step - loss: 0.0124 - acc: 0.9964 - val_loss: 0.7757 - val_acc: 0.8274\n",
            "Epoch 18/25\n",
            "20000/20000 [==============================] - 78s 4ms/step - loss: 0.0122 - acc: 0.9961 - val_loss: 0.9105 - val_acc: 0.8352\n",
            "Epoch 19/25\n",
            "20000/20000 [==============================] - 78s 4ms/step - loss: 0.0083 - acc: 0.9979 - val_loss: 0.9625 - val_acc: 0.8488\n",
            "Epoch 20/25\n",
            "20000/20000 [==============================] - 78s 4ms/step - loss: 0.0065 - acc: 0.9985 - val_loss: 1.0688 - val_acc: 0.8262\n",
            "Epoch 21/25\n",
            "20000/20000 [==============================] - 78s 4ms/step - loss: 0.0177 - acc: 0.9940 - val_loss: 0.8242 - val_acc: 0.8394\n",
            "Epoch 22/25\n",
            "20000/20000 [==============================] - 78s 4ms/step - loss: 0.0204 - acc: 0.9939 - val_loss: 0.8220 - val_acc: 0.8520\n",
            "Epoch 23/25\n",
            "20000/20000 [==============================] - 78s 4ms/step - loss: 0.0096 - acc: 0.9974 - val_loss: 0.8874 - val_acc: 0.8370\n",
            "Epoch 24/25\n",
            "20000/20000 [==============================] - 77s 4ms/step - loss: 0.0032 - acc: 0.9991 - val_loss: 0.8481 - val_acc: 0.8422\n",
            "Epoch 25/25\n",
            "20000/20000 [==============================] - 78s 4ms/step - loss: 0.0024 - acc: 0.9992 - val_loss: 0.9826 - val_acc: 0.8436\n"
          ],
          "name": "stdout"
        }
      ]
    },
    {
      "cell_type": "code",
      "metadata": {
        "id": "Jdw7gBflbGUV",
        "colab_type": "code",
        "colab": {
          "base_uri": "https://localhost:8080/",
          "height": 34
        },
        "outputId": "65696ba4-1d26-48d3-cde2-68c3e967ce88"
      },
      "source": [
        "scores = model.evaluate(x_train, y_train, verbose=0) # 테스트 데이터에 대해서 정확도 평가\n",
        "print(\"정확도: %.8f%%\" % (scores[1]*100))"
      ],
      "execution_count": 10,
      "outputs": [
        {
          "output_type": "stream",
          "text": [
            "정확도: 100.00000000%\n"
          ],
          "name": "stdout"
        }
      ]
    },
    {
      "cell_type": "code",
      "metadata": {
        "id": "4Os6Q7R6HTfu",
        "colab_type": "code",
        "colab": {
          "base_uri": "https://localhost:8080/",
          "height": 70
        },
        "outputId": "dcb9ebfc-3000-4d83-8ea1-cea27ece222a"
      },
      "source": [
        "# 모델 평가\n",
        "loss_and_metrics = model.evaluate(x_test, y_test, batch_size=64)\n",
        "print('## evaluation loss and_metrics ##')\n",
        "print(loss_and_metrics)"
      ],
      "execution_count": 9,
      "outputs": [
        {
          "output_type": "stream",
          "text": [
            "25000/25000 [==============================] - 18s 733us/step\n",
            "## evaluation loss and_metrics ##\n",
            "[1.0024222064208985, 0.8406]\n"
          ],
          "name": "stdout"
        }
      ]
    }
  ]
}