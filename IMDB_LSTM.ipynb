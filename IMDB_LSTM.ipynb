{
  "nbformat": 4,
  "nbformat_minor": 0,
  "metadata": {
    "accelerator": "GPU",
    "colab": {
      "name": "IMDB_LSTM.ipynb",
      "version": "0.3.2",
      "provenance": [],
      "collapsed_sections": []
    },
    "kernelspec": {
      "display_name": "Python 3",
      "language": "python",
      "name": "python3"
    },
    "language_info": {
      "codemirror_mode": {
        "name": "ipython",
        "version": 3
      },
      "file_extension": ".py",
      "mimetype": "text/x-python",
      "name": "python",
      "nbconvert_exporter": "python",
      "pygments_lexer": "ipython3",
      "version": "3.7.3"
    }
  },
  "cells": [
    {
      "cell_type": "code",
      "metadata": {
        "colab_type": "code",
        "id": "dUBkTl_QoFzD",
        "outputId": "f8c2fe52-62de-4057-b24c-c6188855736f",
        "colab": {
          "base_uri": "https://localhost:8080/",
          "height": 34
        }
      },
      "source": [
        "from keras.datasets import imdb\n",
        "from keras.models import Sequential\n",
        "from keras.layers import Dense, LSTM, Embedding\n",
        "from keras.preprocessing import sequence"
      ],
      "execution_count": 1,
      "outputs": [
        {
          "output_type": "stream",
          "text": [
            "Using TensorFlow backend.\n"
          ],
          "name": "stderr"
        }
      ]
    },
    {
      "cell_type": "markdown",
      "metadata": {
        "id": "1t24I6O776xp",
        "colab_type": "text"
      },
      "source": [
        "### IMDB 리뷰 데이터\n",
        "\n",
        "케라스에서 제공하는 IMDB 리뷰 데이터는 훈련 데이터와 테스트 데이터를 50:50 비율로 구분해서 제공한다.\n",
        "\n",
        "num_words는 이 데이터에서 등장 빈도 순위로 몇 번째에 해당하는 단어까지 갖고 올 것인지 조절한다.\n",
        "\n",
        "20,000이란 값은 등장 빈도 순위가 1 ~ 20,000에 해당하는 단어만 갖고 오게 된다.\n",
        "\n",
        "따라서 단어의 종류는 20,000개가 되므로 단어 집합의 크기는 20,000이 된다."
      ]
    },
    {
      "cell_type": "code",
      "metadata": {
        "colab_type": "code",
        "id": "aJnd-P3noFzG",
        "colab": {
          "base_uri": "https://localhost:8080/",
          "height": 52
        },
        "outputId": "faed7a80-9dda-4937-f212-d5642ff864b8"
      },
      "source": [
        "import numpy as np\n",
        "# save np.load\n",
        "np_load_old = np.load\n",
        "\n",
        "# modify the default parameters of np.load\n",
        "np.load = lambda *a,**k: np_load_old(*a, allow_pickle=True, **k)\n",
        "\n",
        "# call load_data with allow_pickle implicitly set to true\n",
        "(x_train, y_train), (x_test, y_test) = imdb.load_data(num_words=20000)\n",
        "# 영화 리뷰는 x_train에, 감성 정보는 y_train에 저장된다.\n",
        "\n",
        "# restore np.load for future normal usage\n",
        "np.load = np_load_old"
      ],
      "execution_count": 2,
      "outputs": [
        {
          "output_type": "stream",
          "text": [
            "Downloading data from https://s3.amazonaws.com/text-datasets/imdb.npz\n",
            "17465344/17464789 [==============================] - 1s 0us/step\n"
          ],
          "name": "stdout"
        }
      ]
    },
    {
      "cell_type": "markdown",
      "metadata": {
        "id": "0YRrt2lQ76xz",
        "colab_type": "text"
      },
      "source": [
        "**훈련용 데이터의 개수, 테스트 데이터의 개수, 카테고리의 수 출력**"
      ]
    },
    {
      "cell_type": "code",
      "metadata": {
        "id": "OvKoL7S676x1",
        "colab_type": "code",
        "colab": {
          "base_uri": "https://localhost:8080/",
          "height": 70
        },
        "outputId": "6596b589-f484-4424-d353-3dda3716f2fb"
      },
      "source": [
        "print('훈련 데이터: {}'.format(len(x_train)))\n",
        "print('테스트 데이터: {}'.format(len(x_test)))\n",
        "num_classes = max(y_train) + 1\n",
        "print('카테고리: {}'.format(num_classes))"
      ],
      "execution_count": 3,
      "outputs": [
        {
          "output_type": "stream",
          "text": [
            "훈련 데이터: 25000\n",
            "테스트 데이터: 25000\n",
            "카테고리: 2\n"
          ],
          "name": "stdout"
        }
      ]
    },
    {
      "cell_type": "markdown",
      "metadata": {
        "id": "I5ix9pRj76x-",
        "colab_type": "text"
      },
      "source": [
        "**훈련 데이터 출력해보기**\n",
        "\n",
        "25,000개의 영화 리뷰 중 첫번째 리뷰 텍스트와 그 리뷰에 대한 레이블을 출력"
      ]
    },
    {
      "cell_type": "code",
      "metadata": {
        "id": "e-JLB6YL76yB",
        "colab_type": "code",
        "colab": {
          "base_uri": "https://localhost:8080/",
          "height": 54
        },
        "outputId": "aadbeb00-3686-428a-cf2c-a6659733d456"
      },
      "source": [
        "print(x_train[0])"
      ],
      "execution_count": 4,
      "outputs": [
        {
          "output_type": "stream",
          "text": [
            "[1, 14, 22, 16, 43, 530, 973, 1622, 1385, 65, 458, 4468, 66, 3941, 4, 173, 36, 256, 5, 25, 100, 43, 838, 112, 50, 670, 2, 9, 35, 480, 284, 5, 150, 4, 172, 112, 167, 2, 336, 385, 39, 4, 172, 4536, 1111, 17, 546, 38, 13, 447, 4, 192, 50, 16, 6, 147, 2025, 19, 14, 22, 4, 1920, 4613, 469, 4, 22, 71, 87, 12, 16, 43, 530, 38, 76, 15, 13, 1247, 4, 22, 17, 515, 17, 12, 16, 626, 18, 19193, 5, 62, 386, 12, 8, 316, 8, 106, 5, 4, 2223, 5244, 16, 480, 66, 3785, 33, 4, 130, 12, 16, 38, 619, 5, 25, 124, 51, 36, 135, 48, 25, 1415, 33, 6, 22, 12, 215, 28, 77, 52, 5, 14, 407, 16, 82, 10311, 8, 4, 107, 117, 5952, 15, 256, 4, 2, 7, 3766, 5, 723, 36, 71, 43, 530, 476, 26, 400, 317, 46, 7, 4, 12118, 1029, 13, 104, 88, 4, 381, 15, 297, 98, 32, 2071, 56, 26, 141, 6, 194, 7486, 18, 4, 226, 22, 21, 134, 476, 26, 480, 5, 144, 30, 5535, 18, 51, 36, 28, 224, 92, 25, 104, 4, 226, 65, 16, 38, 1334, 88, 12, 16, 283, 5, 16, 4472, 113, 103, 32, 15, 16, 5345, 19, 178, 32]\n"
          ],
          "name": "stdout"
        }
      ]
    },
    {
      "cell_type": "markdown",
      "metadata": {
        "id": "fhWxQCrJ76yL",
        "colab_type": "text"
      },
      "source": [
        "전체 25,000개의 훈련 데이터에서 각 단어들이 몇 번 등장하는 지의 빈도에 따라서 인덱스를 부여한 것이다.\n",
        "\n",
        "1이라는 숫자는 이 단어가 이 데이터에서 등장 빈도가 1등이라는 뜻이다.\n",
        "\n",
        "973이라는 숫자는 이 단어가 데이터에서 973번째로 빈도수가 높은 단어라는 뜻이다."
      ]
    },
    {
      "cell_type": "code",
      "metadata": {
        "id": "fcxVo1Ht76yN",
        "colab_type": "code",
        "colab": {
          "base_uri": "https://localhost:8080/",
          "height": 34
        },
        "outputId": "4eb13686-5119-46b2-ca15-162c384148cd"
      },
      "source": [
        "print(y_train[0])"
      ],
      "execution_count": 5,
      "outputs": [
        {
          "output_type": "stream",
          "text": [
            "1\n"
          ],
          "name": "stdout"
        }
      ]
    },
    {
      "cell_type": "markdown",
      "metadata": {
        "id": "m_6PKmNL76yU",
        "colab_type": "text"
      },
      "source": [
        "1의 의미는 첫번째 훈련데이터가 2개의 카테고리 중 1에 해당하는 카테고리임을 의미한다.\n",
        "\n",
        "감성 정보로서 0 또는 1의 값을 가지는데, 이 경우 긍정을 의미하는 1의 값을 갖는다."
      ]
    },
    {
      "cell_type": "markdown",
      "metadata": {
        "id": "vc9AKTO976yW",
        "colab_type": "text"
      },
      "source": [
        "**x_train 데이터의 길이 확인**"
      ]
    },
    {
      "cell_type": "code",
      "metadata": {
        "id": "R2SwvfSB76yd",
        "colab_type": "code",
        "colab": {
          "base_uri": "https://localhost:8080/",
          "height": 283
        },
        "outputId": "d87f55d6-1962-4c93-a313-d4965acec2f2"
      },
      "source": [
        "%matplotlib inline\n",
        "import matplotlib.pyplot as plt\n",
        "\n",
        "plt.hist([len(s) for s in x_train], bins=50)\n",
        "plt.xlabel('length of Data')\n",
        "plt.ylabel('number of Data')\n",
        "plt.show()"
      ],
      "execution_count": 6,
      "outputs": [
        {
          "output_type": "display_data",
          "data": {
            "image/png": "[encoded data removed]",
            "text/plain": [
              "<Figure size 432x288 with 1 Axes>"
            ]
          },
          "metadata": {
            "tags": []
          }
        }
      ]
    },
    {
      "cell_type": "markdown",
      "metadata": {
        "id": "4iChNvSj76yl",
        "colab_type": "text"
      },
      "source": [
        "x_train 데이터의 각 길이는 전부 다른데 대체적으로 500이하의 길이를 가지며, 특히 100~300길이를 가진 데이터가 가장 많은 것을 확인할 수 있다.\n",
        "\n",
        "가장 긴 길이를 가진 데이터는 길이가 1,000이 넘는 것도 확인할 수 있다."
      ]
    },
    {
      "cell_type": "markdown",
      "metadata": {
        "id": "AEgbt-Y776yn",
        "colab_type": "text"
      },
      "source": [
        "### 훈련셋과 검증셋 분리"
      ]
    },
    {
      "cell_type": "code",
      "metadata": {
        "colab_type": "code",
        "id": "RJKGMyviHTfW",
        "colab": {}
      },
      "source": [
        "x_val = x_train[20000:]\n",
        "y_val = y_train[20000:]\n",
        "x_train = x_train[:20000]\n",
        "y_train = y_train[:20000]"
      ],
      "execution_count": 0,
      "outputs": []
    },
    {
      "cell_type": "markdown",
      "metadata": {
        "id": "F20ZsPZg76yw",
        "colab_type": "text"
      },
      "source": [
        "### 데이터셋 전처리\n",
        "\n",
        "각 훈련 데이터는 문장의 길이가 다르기 때문에, 모델이 처리할 수 있도록 길이를 동일하게 해주어야 한다.\n",
        "\n",
        "이때 사용하는 것이 pad_sequences()이다.\n",
        "\n",
        "길이는 maxlen에 넣는 값으로 정해진다.\n",
        "\n",
        "훈련 데이터가 정한 길이를 초과하면 초과분을 삭제하고, 부족하면 0으로 채운다."
      ]
    },
    {
      "cell_type": "code",
      "metadata": {
        "colab_type": "code",
        "id": "2ddYrMr_oFzH",
        "colab": {}
      },
      "source": [
        "x_train = sequence.pad_sequences(x_train, maxlen=200)\n",
        "x_val = sequence.pad_sequences(x_val, maxlen=200)\n",
        "x_test = sequence.pad_sequences(x_test, maxlen=200)"
      ],
      "execution_count": 0,
      "outputs": []
    },
    {
      "cell_type": "markdown",
      "metadata": {
        "id": "et5rliGp76y5",
        "colab_type": "text"
      },
      "source": [
        "### 모델 구성\n",
        "Embedding()은 두개 의 인자를 받는데, 첫번째 인자는 단어 집합의 크기이며 두번째 인자는 임베딩 후의 벡터 크기(128) 이다.\n",
        "\n",
        "즉, 입력 데이터에서 모든 단어는 128 차원을 가진 임베딩 벡터로 표현된다.\n",
        "\n",
        "출력층은 활성화 함수로 시그모이드 함수를 갖는 뉴런 하나를 사용한다.\n",
        "\n",
        "시그모이드 함수를 사용하면 0 또는 1의 결과를 도출해낼 수 있기 때문에 분류해야하는 카테고리가 두 개일 경우에 출력층에서 사용한다."
      ]
    },
    {
      "cell_type": "code",
      "metadata": {
        "colab_type": "code",
        "id": "aGl1gTGGoFzJ",
        "outputId": "b8eb5d99-2827-4de4-ce5d-e3140a28eb20",
        "colab": {
          "base_uri": "https://localhost:8080/",
          "height": 160
        }
      },
      "source": [
        "model = Sequential()\n",
        "model.add(Embedding(20000, 128))\n",
        "model.add(LSTM(128))\n",
        "model.add(Dense(1, activation='sigmoid'))"
      ],
      "execution_count": 9,
      "outputs": [
        {
          "output_type": "stream",
          "text": [
            "WARNING: Logging before flag parsing goes to stderr.\n",
            "W0805 04:48:41.532657 140302101317504 deprecation_wrapper.py:119] From /usr/local/lib/python3.6/dist-packages/keras/backend/tensorflow_backend.py:74: The name tf.get_default_graph is deprecated. Please use tf.compat.v1.get_default_graph instead.\n",
            "\n",
            "W0805 04:48:41.578017 140302101317504 deprecation_wrapper.py:119] From /usr/local/lib/python3.6/dist-packages/keras/backend/tensorflow_backend.py:517: The name tf.placeholder is deprecated. Please use tf.compat.v1.placeholder instead.\n",
            "\n",
            "W0805 04:48:41.587760 140302101317504 deprecation_wrapper.py:119] From /usr/local/lib/python3.6/dist-packages/keras/backend/tensorflow_backend.py:4138: The name tf.random_uniform is deprecated. Please use tf.random.uniform instead.\n",
            "\n"
          ],
          "name": "stderr"
        }
      ]
    },
    {
      "cell_type": "code",
      "metadata": {
        "colab_type": "code",
        "id": "d-x3HC8TRjME",
        "outputId": "39dbb52b-21d5-4e6c-a2e5-6ad21e412078",
        "colab": {
          "base_uri": "https://localhost:8080/",
          "height": 263
        }
      },
      "source": [
        "print(model.summary())"
      ],
      "execution_count": 10,
      "outputs": [
        {
          "output_type": "stream",
          "text": [
            "_________________________________________________________________\n",
            "Layer (type)                 Output Shape              Param #   \n",
            "=================================================================\n",
            "embedding_1 (Embedding)      (None, None, 128)         2560000   \n",
            "_________________________________________________________________\n",
            "lstm_1 (LSTM)                (None, 128)               131584    \n",
            "_________________________________________________________________\n",
            "dense_1 (Dense)              (None, 1)                 129       \n",
            "=================================================================\n",
            "Total params: 2,691,713\n",
            "Trainable params: 2,691,713\n",
            "Non-trainable params: 0\n",
            "_________________________________________________________________\n",
            "None\n"
          ],
          "name": "stdout"
        }
      ]
    },
    {
      "cell_type": "markdown",
      "metadata": {
        "id": "4OW65z8x76zK",
        "colab_type": "text"
      },
      "source": [
        "### 모델 학습과정 설정\n",
        "긍정인지 부정인지에 대한 이진 판별값이 출력되기 때문에, 손실함수는 binary_crossentropy를 사용한다.\n",
        "\n",
        "최적화 함수는 adam을 사용한다.\n",
        "\n",
        "에포크마다 정확도를 구하기 위해 accuracy를 추가한다."
      ]
    },
    {
      "cell_type": "code",
      "metadata": {
        "colab_type": "code",
        "id": "WXsuQvPmoFzL",
        "outputId": "0d2da866-feed-4be3-b6a6-9dc51257dc64",
        "colab": {
          "base_uri": "https://localhost:8080/",
          "height": 1000
        }
      },
      "source": [
        "model.compile(loss='binary_crossentropy',\n",
        "              optimizer='adam',\n",
        "              metrics=['accuracy']) \n",
        "\n",
        "# 모델 학습시키기\n",
        "hist = model.fit(x_train,\n",
        "                 y_train,\n",
        "                 batch_size=64,\n",
        "                 epochs=25,\n",
        "                 validation_data=(x_val, y_val))"
      ],
      "execution_count": 11,
      "outputs": [
        {
          "output_type": "stream",
          "text": [
            "W0805 04:48:41.952935 140302101317504 deprecation_wrapper.py:119] From /usr/local/lib/python3.6/dist-packages/keras/optimizers.py:790: The name tf.train.Optimizer is deprecated. Please use tf.compat.v1.train.Optimizer instead.\n",
            "\n",
            "W0805 04:48:41.984882 140302101317504 deprecation_wrapper.py:119] From /usr/local/lib/python3.6/dist-packages/keras/backend/tensorflow_backend.py:3376: The name tf.log is deprecated. Please use tf.math.log instead.\n",
            "\n",
            "W0805 04:48:41.993655 140302101317504 deprecation.py:323] From /usr/local/lib/python3.6/dist-packages/tensorflow/python/ops/nn_impl.py:180: add_dispatch_support.<locals>.wrapper (from tensorflow.python.ops.array_ops) is deprecated and will be removed in a future version.\n",
            "Instructions for updating:\n",
            "Use tf.where in 2.0, which has the same broadcast rule as np.where\n",
            "W0805 04:48:43.079457 140302101317504 deprecation_wrapper.py:119] From /usr/local/lib/python3.6/dist-packages/keras/backend/tensorflow_backend.py:986: The name tf.assign_add is deprecated. Please use tf.compat.v1.assign_add instead.\n",
            "\n"
          ],
          "name": "stderr"
        },
        {
          "output_type": "stream",
          "text": [
            "Train on 20000 samples, validate on 5000 samples\n",
            "Epoch 1/25\n",
            "20000/20000 [==============================] - 119s 6ms/step - loss: 0.4297 - acc: 0.8004 - val_loss: 0.3583 - val_acc: 0.8492\n",
            "Epoch 2/25\n",
            "20000/20000 [==============================] - 114s 6ms/step - loss: 0.2304 - acc: 0.9102 - val_loss: 0.3535 - val_acc: 0.8490\n",
            "Epoch 3/25\n",
            "20000/20000 [==============================] - 114s 6ms/step - loss: 0.1384 - acc: 0.9519 - val_loss: 0.3830 - val_acc: 0.8704\n",
            "Epoch 4/25\n",
            "20000/20000 [==============================] - 114s 6ms/step - loss: 0.0985 - acc: 0.9657 - val_loss: 0.4749 - val_acc: 0.8398\n",
            "Epoch 5/25\n",
            "20000/20000 [==============================] - 113s 6ms/step - loss: 0.0650 - acc: 0.9782 - val_loss: 0.5099 - val_acc: 0.8644\n",
            "Epoch 6/25\n",
            "20000/20000 [==============================] - 113s 6ms/step - loss: 0.0582 - acc: 0.9799 - val_loss: 0.5388 - val_acc: 0.8536\n",
            "Epoch 7/25\n",
            "20000/20000 [==============================] - 114s 6ms/step - loss: 0.0415 - acc: 0.9868 - val_loss: 0.5680 - val_acc: 0.8494\n",
            "Epoch 8/25\n",
            "20000/20000 [==============================] - 113s 6ms/step - loss: 0.0332 - acc: 0.9887 - val_loss: 0.6465 - val_acc: 0.8516\n",
            "Epoch 9/25\n",
            "20000/20000 [==============================] - 114s 6ms/step - loss: 0.0280 - acc: 0.9922 - val_loss: 0.6869 - val_acc: 0.8546\n",
            "Epoch 10/25\n",
            "20000/20000 [==============================] - 115s 6ms/step - loss: 0.0187 - acc: 0.9948 - val_loss: 0.7595 - val_acc: 0.8524\n",
            "Epoch 11/25\n",
            "20000/20000 [==============================] - 114s 6ms/step - loss: 0.0091 - acc: 0.9972 - val_loss: 0.7012 - val_acc: 0.8176\n",
            "Epoch 12/25\n",
            "20000/20000 [==============================] - 114s 6ms/step - loss: 0.0162 - acc: 0.9949 - val_loss: 0.8040 - val_acc: 0.8476\n",
            "Epoch 13/25\n",
            "20000/20000 [==============================] - 114s 6ms/step - loss: 0.0284 - acc: 0.9915 - val_loss: 0.6741 - val_acc: 0.8378\n",
            "Epoch 14/25\n",
            "20000/20000 [==============================] - 114s 6ms/step - loss: 0.0155 - acc: 0.9956 - val_loss: 0.9905 - val_acc: 0.8348\n",
            "Epoch 15/25\n",
            "20000/20000 [==============================] - 114s 6ms/step - loss: 0.0245 - acc: 0.9922 - val_loss: 0.6826 - val_acc: 0.8400\n",
            "Epoch 16/25\n",
            "20000/20000 [==============================] - 113s 6ms/step - loss: 0.0076 - acc: 0.9978 - val_loss: 0.8857 - val_acc: 0.8500\n",
            "Epoch 17/25\n",
            "20000/20000 [==============================] - 113s 6ms/step - loss: 0.0023 - acc: 0.9997 - val_loss: 0.9377 - val_acc: 0.8422\n",
            "Epoch 18/25\n",
            "20000/20000 [==============================] - 114s 6ms/step - loss: 4.1763e-04 - acc: 1.0000 - val_loss: 1.0457 - val_acc: 0.8532\n",
            "Epoch 19/25\n",
            "20000/20000 [==============================] - 114s 6ms/step - loss: 1.0627e-04 - acc: 1.0000 - val_loss: 1.1181 - val_acc: 0.8544\n",
            "Epoch 20/25\n",
            "20000/20000 [==============================] - 114s 6ms/step - loss: 6.2107e-05 - acc: 1.0000 - val_loss: 1.1582 - val_acc: 0.8538\n",
            "Epoch 21/25\n",
            "20000/20000 [==============================] - 114s 6ms/step - loss: 4.2302e-05 - acc: 1.0000 - val_loss: 1.1990 - val_acc: 0.8556\n",
            "Epoch 22/25\n",
            "20000/20000 [==============================] - 114s 6ms/step - loss: 3.1288e-05 - acc: 1.0000 - val_loss: 1.2307 - val_acc: 0.8558\n",
            "Epoch 23/25\n",
            "20000/20000 [==============================] - 113s 6ms/step - loss: 2.3535e-05 - acc: 1.0000 - val_loss: 1.2583 - val_acc: 0.8548\n",
            "Epoch 24/25\n",
            "20000/20000 [==============================] - 113s 6ms/step - loss: 1.8238e-05 - acc: 1.0000 - val_loss: 1.2858 - val_acc: 0.8548\n",
            "Epoch 25/25\n",
            "20000/20000 [==============================] - 113s 6ms/step - loss: 1.4294e-05 - acc: 1.0000 - val_loss: 1.3086 - val_acc: 0.8536\n"
          ],
          "name": "stdout"
        }
      ]
    },
    {
      "cell_type": "markdown",
      "metadata": {
        "id": "IdiGEGRg76zU",
        "colab_type": "text"
      },
      "source": [
        "### 학습과정 확인"
      ]
    },
    {
      "cell_type": "code",
      "metadata": {
        "id": "lC9GkZqq76zZ",
        "colab_type": "code",
        "colab": {
          "base_uri": "https://localhost:8080/",
          "height": 283
        },
        "outputId": "6562789a-5ea0-4175-d328-02c557fc6043"
      },
      "source": [
        "%matplotlib inline\n",
        "import matplotlib.pyplot as plt\n",
        "\n",
        "fig, loss_ax = plt.subplots()\n",
        "\n",
        "acc_ax = loss_ax.twinx()\n",
        "\n",
        "loss_ax.plot(hist.history['loss'], 'y', label='train loss')\n",
        "loss_ax.plot(hist.history['val_loss'], 'r', label='val loss')\n",
        "loss_ax.set_ylim([-0.2, 1.2])\n",
        "\n",
        "acc_ax.plot(hist.history['acc'], 'b', label='train acc')\n",
        "acc_ax.plot(hist.history['val_acc'], 'g', label='val acc')\n",
        "acc_ax.set_ylim([-0.2, 1.2])\n",
        "\n",
        "loss_ax.set_xlabel('epoch')\n",
        "loss_ax.set_ylabel('loss')\n",
        "acc_ax.set_ylabel('accuray')\n",
        "\n",
        "loss_ax.legend(loc='upper left')\n",
        "acc_ax.legend(loc='lower left')\n",
        "\n",
        "plt.show()"
      ],
      "execution_count": 12,
      "outputs": [
        {
          "output_type": "display_data",
          "data": {
            "image/png": "[encoded data removed]",
            "text/plain": [
              "<Figure size 432x288 with 2 Axes>"
            ]
          },
          "metadata": {
            "tags": []
          }
        }
      ]
    },
    {
      "cell_type": "markdown",
      "metadata": {
        "id": "iGTT7EaE76zg",
        "colab_type": "text"
      },
      "source": [
        "### 테스트 데이터에 대해서 정확도 평가\n",
        "훈련된 모델에 대해서 테스트 데이터로 정확도를 평가해 본다."
      ]
    },
    {
      "cell_type": "code",
      "metadata": {
        "colab_type": "code",
        "id": "Jdw7gBflbGUV",
        "outputId": "38c4c8e6-477f-4dc2-eaa1-1cc805c43eba",
        "colab": {
          "base_uri": "https://localhost:8080/",
          "height": 34
        }
      },
      "source": [
        "scores = model.evaluate(x_train, y_train, verbose=0)\n",
        "print(\"정확도: %.4f%%\" % (scores[1]*100))"
      ],
      "execution_count": 13,
      "outputs": [
        {
          "output_type": "stream",
          "text": [
            "정확도: 100.0000%\n"
          ],
          "name": "stdout"
        }
      ]
    },
    {
      "cell_type": "markdown",
      "metadata": {
        "id": "uGoFp8Zn76zr",
        "colab_type": "text"
      },
      "source": [
        "### 모델 평가"
      ]
    },
    {
      "cell_type": "code",
      "metadata": {
        "colab_type": "code",
        "id": "4Os6Q7R6HTfu",
        "outputId": "24a4639e-e534-43f0-bb0b-caf6943924c5",
        "colab": {
          "base_uri": "https://localhost:8080/",
          "height": 70
        }
      },
      "source": [
        "loss_and_metrics = model.evaluate(x_test, y_test, batch_size=64)\n",
        "print('## evaluation loss and_metrics ##')\n",
        "print(loss_and_metrics)"
      ],
      "execution_count": 14,
      "outputs": [
        {
          "output_type": "stream",
          "text": [
            "25000/25000 [==============================] - 30s 1ms/step\n",
            "## evaluation loss and_metrics ##\n",
            "[1.3897732795906066, 0.8488]\n"
          ],
          "name": "stdout"
        }
      ]
    }
  ]
}