{
  "nbformat": 4,
  "nbformat_minor": 0,
  "metadata": {
    "kernelspec": {
      "name": "python3",
      "display_name": "Python 3"
    },
    "language_info": {
      "codemirror_mode": {
        "name": "ipython",
        "version": 3
      },
      "file_extension": ".py",
      "mimetype": "text/x-python",
      "name": "python",
      "nbconvert_exporter": "python",
      "pygments_lexer": "ipython3",
      "version": "3.7.3"
    },
    "colab": {
      "name": "IMDB_CNN+LSTM.ipynb",
      "version": "0.3.2",
      "provenance": []
    },
    "accelerator": "GPU"
  },
  "cells": [
    {
      "cell_type": "code",
      "metadata": {
        "id": "Y4RHGeIytsCJ",
        "colab_type": "code",
        "colab": {}
      },
      "source": [
        "from keras.preprocessing import sequence\n",
        "from keras.models import Sequential\n",
        "from keras.layers import Dense, Dropout, Activation\n",
        "from keras.layers import Embedding, LSTM, Dense\n",
        "from keras.layers import Conv1D, GlobalMaxPooling1D, MaxPooling1D\n",
        "\n",
        "from keras.datasets import imdb"
      ],
      "execution_count": 0,
      "outputs": []
    },
    {
      "cell_type": "code",
      "metadata": {
        "id": "XqzNQ3kWtsCP",
        "colab_type": "code",
        "colab": {
          "base_uri": "https://localhost:8080/",
          "height": 50
        },
        "outputId": "b0920248-1a9b-470a-d10d-c6cee854af66"
      },
      "source": [
        "import numpy as np\n",
        "# save np.load\n",
        "np_load_old = np.load\n",
        "\n",
        "# modify the default parameters of np.load\n",
        "np.load = lambda *a,**k: np_load_old(*a, allow_pickle=True, **k)\n",
        "\n",
        "# call load_data with allow_pickle implicitly set to true\n",
        "(x_train, y_train), (x_test, y_test) = imdb.load_data(num_words=20000)\n",
        "\n",
        "# restore np.load for future normal usage\n",
        "np.load = np_load_old"
      ],
      "execution_count": 2,
      "outputs": [
        {
          "output_type": "stream",
          "text": [
            "Downloading data from https://s3.amazonaws.com/text-datasets/imdb.npz\n",
            "17465344/17464789 [==============================] - 3s 0us/step\n"
          ],
          "name": "stdout"
        }
      ]
    },
    {
      "cell_type": "code",
      "metadata": {
        "id": "MFBV7KDTtsCS",
        "colab_type": "code",
        "colab": {
          "base_uri": "https://localhost:8080/",
          "height": 34
        },
        "outputId": "33a98265-5863-41f6-e2dd-41fc6d0346b6"
      },
      "source": [
        "# 훈련셋과 검증셋 분리\n",
        "x_val = x_train[20000:]\n",
        "y_val = y_train[20000:]\n",
        "x_train = x_train[:20000]\n",
        "y_train = y_train[:20000]\n",
        "\n",
        "print('x_train shape:', x_train.shape)"
      ],
      "execution_count": 3,
      "outputs": [
        {
          "output_type": "stream",
          "text": [
            "x_train shape: (20000,)\n"
          ],
          "name": "stdout"
        }
      ]
    },
    {
      "cell_type": "code",
      "metadata": {
        "id": "QbcqRNgrtsCU",
        "colab_type": "code",
        "colab": {}
      },
      "source": [
        "# 데이터셋 전처리\n",
        "x_train = sequence.pad_sequences(x_train, maxlen=200)\n",
        "x_val = sequence.pad_sequences(x_val, maxlen=200)\n",
        "x_test = sequence.pad_sequences(x_test, maxlen=200)"
      ],
      "execution_count": 0,
      "outputs": []
    },
    {
      "cell_type": "code",
      "metadata": {
        "id": "3nvsj6f0tsCY",
        "colab_type": "code",
        "colab": {}
      },
      "source": [
        "# 모델 구성\n",
        "model = Sequential()\n",
        "model.add(Embedding(20000, 128))\n",
        "model.add(Conv1D(256, # filters\n",
        "                 3, # kernel_size\n",
        "                 padding='valid',\n",
        "                 activation='relu',\n",
        "                 strides=1))\n",
        "model.add(MaxPooling1D(pool_size=4))\n",
        "model.add(LSTM(128))\n",
        "model.add(Dense(1, activation='sigmoid'))"
      ],
      "execution_count": 0,
      "outputs": []
    },
    {
      "cell_type": "code",
      "metadata": {
        "id": "4dMLj83CtsCa",
        "colab_type": "code",
        "colab": {
          "base_uri": "https://localhost:8080/",
          "height": 319
        },
        "outputId": "148ea454-1c64-4154-dce8-c80533d81d27"
      },
      "source": [
        "print(model.summary())"
      ],
      "execution_count": 11,
      "outputs": [
        {
          "output_type": "stream",
          "text": [
            "_________________________________________________________________\n",
            "Layer (type)                 Output Shape              Param #   \n",
            "=================================================================\n",
            "embedding_3 (Embedding)      (None, None, 128)         2560000   \n",
            "_________________________________________________________________\n",
            "conv1d_3 (Conv1D)            (None, None, 256)         98560     \n",
            "_________________________________________________________________\n",
            "max_pooling1d_2 (MaxPooling1 (None, None, 256)         0         \n",
            "_________________________________________________________________\n",
            "lstm_1 (LSTM)                (None, 128)               197120    \n",
            "_________________________________________________________________\n",
            "dense_1 (Dense)              (None, 1)                 129       \n",
            "=================================================================\n",
            "Total params: 2,855,809\n",
            "Trainable params: 2,855,809\n",
            "Non-trainable params: 0\n",
            "_________________________________________________________________\n",
            "None\n"
          ],
          "name": "stdout"
        }
      ]
    },
    {
      "cell_type": "code",
      "metadata": {
        "id": "Ka9nnaJHtsCd",
        "colab_type": "code",
        "colab": {
          "base_uri": "https://localhost:8080/",
          "height": 890
        },
        "outputId": "07bd326f-b04f-4a01-f6c7-e813996170ea"
      },
      "source": [
        "model.compile(loss='binary_crossentropy', optimizer='adam', metrics=['accuracy']) # 모델 학습과정 설정\n",
        "\n",
        "hist = model.fit(x_train, y_train, epochs=25, batch_size=64, validation_data=(x_val, y_val))\n",
        "# 모델 학습시키기\n",
        "\n",
        "scores = model.evaluate(x_train, y_train, verbose=0) # 테스트 데이터에 대해서 정확도 평가\n",
        "print(\"정확도: %.2f%%\" % (scores[1]*100))"
      ],
      "execution_count": 13,
      "outputs": [
        {
          "output_type": "stream",
          "text": [
            "Train on 20000 samples, validate on 5000 samples\n",
            "Epoch 1/25\n",
            "20000/20000 [==============================] - 22s 1ms/step - loss: 0.3274 - acc: 0.8595 - val_loss: 0.3396 - val_acc: 0.8496\n",
            "Epoch 2/25\n",
            "20000/20000 [==============================] - 21s 1ms/step - loss: 0.1607 - acc: 0.9407 - val_loss: 0.3340 - val_acc: 0.8772\n",
            "Epoch 3/25\n",
            "20000/20000 [==============================] - 21s 1ms/step - loss: 0.0824 - acc: 0.9734 - val_loss: 0.4409 - val_acc: 0.8594\n",
            "Epoch 4/25\n",
            "20000/20000 [==============================] - 21s 1ms/step - loss: 0.0429 - acc: 0.9869 - val_loss: 0.5912 - val_acc: 0.8556\n",
            "Epoch 5/25\n",
            "20000/20000 [==============================] - 21s 1ms/step - loss: 0.0222 - acc: 0.9929 - val_loss: 0.5853 - val_acc: 0.8512\n",
            "Epoch 6/25\n",
            "20000/20000 [==============================] - 21s 1ms/step - loss: 0.0196 - acc: 0.9945 - val_loss: 0.6747 - val_acc: 0.8614\n",
            "Epoch 7/25\n",
            "20000/20000 [==============================] - 21s 1ms/step - loss: 0.0161 - acc: 0.9951 - val_loss: 0.8085 - val_acc: 0.8632\n",
            "Epoch 8/25\n",
            "20000/20000 [==============================] - 21s 1ms/step - loss: 0.0191 - acc: 0.9935 - val_loss: 0.7241 - val_acc: 0.8586\n",
            "Epoch 9/25\n",
            "20000/20000 [==============================] - 21s 1ms/step - loss: 0.0101 - acc: 0.9967 - val_loss: 0.7693 - val_acc: 0.8580\n",
            "Epoch 10/25\n",
            "20000/20000 [==============================] - 21s 1ms/step - loss: 0.0104 - acc: 0.9967 - val_loss: 0.8883 - val_acc: 0.8568\n",
            "Epoch 11/25\n",
            "20000/20000 [==============================] - 21s 1ms/step - loss: 0.0088 - acc: 0.9970 - val_loss: 0.7621 - val_acc: 0.8456\n",
            "Epoch 12/25\n",
            "20000/20000 [==============================] - 21s 1ms/step - loss: 0.0098 - acc: 0.9966 - val_loss: 0.7657 - val_acc: 0.8566\n",
            "Epoch 13/25\n",
            "20000/20000 [==============================] - 21s 1ms/step - loss: 0.0103 - acc: 0.9961 - val_loss: 0.7312 - val_acc: 0.8532\n",
            "Epoch 14/25\n",
            "20000/20000 [==============================] - 21s 1ms/step - loss: 0.0050 - acc: 0.9981 - val_loss: 1.0802 - val_acc: 0.8316\n",
            "Epoch 15/25\n",
            "20000/20000 [==============================] - 21s 1ms/step - loss: 0.0059 - acc: 0.9981 - val_loss: 0.9223 - val_acc: 0.8510\n",
            "Epoch 16/25\n",
            "20000/20000 [==============================] - 21s 1ms/step - loss: 0.0091 - acc: 0.9972 - val_loss: 0.8550 - val_acc: 0.8420\n",
            "Epoch 17/25\n",
            "20000/20000 [==============================] - 21s 1ms/step - loss: 0.0038 - acc: 0.9986 - val_loss: 0.8985 - val_acc: 0.8522\n",
            "Epoch 18/25\n",
            "20000/20000 [==============================] - 21s 1ms/step - loss: 0.0058 - acc: 0.9979 - val_loss: 0.9695 - val_acc: 0.8492\n",
            "Epoch 19/25\n",
            "20000/20000 [==============================] - 21s 1ms/step - loss: 0.0054 - acc: 0.9981 - val_loss: 0.9280 - val_acc: 0.8476\n",
            "Epoch 20/25\n",
            "20000/20000 [==============================] - 21s 1ms/step - loss: 0.0043 - acc: 0.9985 - val_loss: 0.9552 - val_acc: 0.8514\n",
            "Epoch 21/25\n",
            "20000/20000 [==============================] - 21s 1ms/step - loss: 0.0034 - acc: 0.9990 - val_loss: 1.0128 - val_acc: 0.8504\n",
            "Epoch 22/25\n",
            "20000/20000 [==============================] - 21s 1ms/step - loss: 0.0025 - acc: 0.9991 - val_loss: 0.9100 - val_acc: 0.8498\n",
            "Epoch 23/25\n",
            "20000/20000 [==============================] - 21s 1ms/step - loss: 0.0072 - acc: 0.9974 - val_loss: 0.9165 - val_acc: 0.8464\n",
            "Epoch 24/25\n",
            "20000/20000 [==============================] - 21s 1ms/step - loss: 0.0026 - acc: 0.9993 - val_loss: 0.9480 - val_acc: 0.8428\n",
            "Epoch 25/25\n",
            "20000/20000 [==============================] - 20s 1ms/step - loss: 0.0027 - acc: 0.9991 - val_loss: 0.9092 - val_acc: 0.8446\n",
            "정확도: 99.97%\n"
          ],
          "name": "stdout"
        }
      ]
    },
    {
      "cell_type": "code",
      "metadata": {
        "id": "vT6J1bsMtsCg",
        "colab_type": "code",
        "colab": {
          "base_uri": "https://localhost:8080/",
          "height": 283
        },
        "outputId": "7df2560b-4f3b-40a4-d271-19c34dd86267"
      },
      "source": [
        "# 학습과정\n",
        "%matplotlib inline\n",
        "import matplotlib.pyplot as plt\n",
        "\n",
        "fig, loss_ax = plt.subplots()\n",
        "\n",
        "acc_ax = loss_ax.twinx()\n",
        "\n",
        "loss_ax.plot(hist.history['loss'], 'y', label='train loss')\n",
        "loss_ax.plot(hist.history['val_loss'], 'r', label='val loss')\n",
        "loss_ax.set_ylim([-0.2, 1.2])\n",
        "\n",
        "acc_ax.plot(hist.history['acc'], 'b', label='train acc')\n",
        "acc_ax.plot(hist.history['val_acc'], 'g', label='val acc')\n",
        "acc_ax.set_ylim([-0.2, 1.2])\n",
        "\n",
        "loss_ax.set_xlabel('epoch')\n",
        "loss_ax.set_ylabel('loss')\n",
        "acc_ax.set_ylabel('accuray')\n",
        "\n",
        "loss_ax.legend(loc='upper left')\n",
        "acc_ax.legend(loc='lower left')\n",
        "\n",
        "plt.show()"
      ],
      "execution_count": 14,
      "outputs": [
        {
          "output_type": "display_data",
          "data": {
            "image/png": "[encoded data removed]",
            "text/plain": [
              "<Figure size 432x288 with 2 Axes>"
            ]
          },
          "metadata": {
            "tags": []
          }
        }
      ]
    },
    {
      "cell_type": "code",
      "metadata": {
        "id": "_kguJ6wctsCi",
        "colab_type": "code",
        "colab": {
          "base_uri": "https://localhost:8080/",
          "height": 67
        },
        "outputId": "3ba6a566-45af-42f0-ec95-94348f825432"
      },
      "source": [
        "# 모델 평가\n",
        "loss_and_metrics = model.evaluate(x_test, y_test, batch_size=64)\n",
        "print('## evaluation loss and_metrics ##')\n",
        "print(loss_and_metrics)"
      ],
      "execution_count": 15,
      "outputs": [
        {
          "output_type": "stream",
          "text": [
            "25000/25000 [==============================] - 5s 204us/step\n",
            "## evaluation loss and_metrics ##\n",
            "[1.0106840735626221, 0.829079999961853]\n"
          ],
          "name": "stdout"
        }
      ]
    }
  ]
}