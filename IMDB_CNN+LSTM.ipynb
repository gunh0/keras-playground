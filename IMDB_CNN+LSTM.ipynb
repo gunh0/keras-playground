{
  "nbformat": 4,
  "nbformat_minor": 0,
  "metadata": {
    "accelerator": "GPU",
    "colab": {
      "name": "IMDB_CNN+LSTM.ipynb",
      "version": "0.3.2",
      "provenance": []
    },
    "kernelspec": {
      "display_name": "Python 3",
      "language": "python",
      "name": "python3"
    },
    "language_info": {
      "codemirror_mode": {
        "name": "ipython",
        "version": 3
      },
      "file_extension": ".py",
      "mimetype": "text/x-python",
      "name": "python",
      "nbconvert_exporter": "python",
      "pygments_lexer": "ipython3",
      "version": "3.7.3"
    }
  },
  "cells": [
    {
      "cell_type": "code",
      "metadata": {
        "colab_type": "code",
        "id": "Y4RHGeIytsCJ",
        "colab": {
          "base_uri": "https://localhost:8080/",
          "height": 34
        },
        "outputId": "2ef42419-408f-4007-e129-dc8b8da02655"
      },
      "source": [
        "from keras.preprocessing import sequence\n",
        "from keras.models import Sequential\n",
        "from keras.layers import Dense, Dropout, Activation\n",
        "from keras.layers import Embedding, LSTM, Dense\n",
        "from keras.layers import Conv1D, GlobalMaxPooling1D, MaxPooling1D\n",
        "\n",
        "from keras.datasets import imdb"
      ],
      "execution_count": 1,
      "outputs": [
        {
          "output_type": "stream",
          "text": [
            "Using TensorFlow backend.\n"
          ],
          "name": "stderr"
        }
      ]
    },
    {
      "cell_type": "code",
      "metadata": {
        "colab_type": "code",
        "id": "XqzNQ3kWtsCP",
        "outputId": "e157f0d5-03eb-4fe9-92ad-10b3c43b2556",
        "colab": {
          "base_uri": "https://localhost:8080/",
          "height": 52
        }
      },
      "source": [
        "import numpy as np\n",
        "# save np.load\n",
        "np_load_old = np.load\n",
        "\n",
        "# modify the default parameters of np.load\n",
        "np.load = lambda *a,**k: np_load_old(*a, allow_pickle=True, **k)\n",
        "\n",
        "# call load_data with allow_pickle implicitly set to true\n",
        "(x_train, y_train), (x_test, y_test) = imdb.load_data(num_words=20000)\n",
        "\n",
        "# restore np.load for future normal usage\n",
        "np.load = np_load_old"
      ],
      "execution_count": 2,
      "outputs": [
        {
          "output_type": "stream",
          "text": [
            "Downloading data from https://s3.amazonaws.com/text-datasets/imdb.npz\n",
            "17465344/17464789 [==============================] - 0s 0us/step\n"
          ],
          "name": "stdout"
        }
      ]
    },
    {
      "cell_type": "code",
      "metadata": {
        "colab_type": "code",
        "id": "MFBV7KDTtsCS",
        "colab": {}
      },
      "source": [
        "x_val = x_train[20000:]\n",
        "y_val = y_train[20000:]\n",
        "x_train = x_train[:20000]\n",
        "y_train = y_train[:20000]"
      ],
      "execution_count": 0,
      "outputs": []
    },
    {
      "cell_type": "code",
      "metadata": {
        "colab_type": "code",
        "id": "QbcqRNgrtsCU",
        "colab": {}
      },
      "source": [
        "x_train = sequence.pad_sequences(x_train, maxlen=200)\n",
        "x_val = sequence.pad_sequences(x_val, maxlen=200)\n",
        "x_test = sequence.pad_sequences(x_test, maxlen=200)"
      ],
      "execution_count": 0,
      "outputs": []
    },
    {
      "cell_type": "markdown",
      "metadata": {
        "id": "6X_xip2XqDfo",
        "colab_type": "text"
      },
      "source": [
        "### 모델 구성\n",
        "컨볼루션 레이어에서 나온 특징벡터들을 맥스풀링(MaxPooling1D)를 통해 1/4로 줄여준 다음 LSTM의 입력으로 넣어주는 모델이다.\n",
        "\n",
        "이때 맥스풀링은 특징벡터 크기를 줄여주는 것이 아니라 특징벡터 수를 줄여준다.\n",
        "\n",
        "즉 200개 단어가 컨볼루션 레이어를 통과하면 256 크기를 갖는 특징벡터가 198개가 생성되고, 맥스풀링은 특징벡터 198개 중 49개를 골라준다.\n",
        "\n",
        "따라서 LSTM 레이어의 timesteps는 49개가 됩니다.\n",
        "\n",
        "(input_dim은 그대로 256이다.)"
      ]
    },
    {
      "cell_type": "code",
      "metadata": {
        "colab_type": "code",
        "id": "3nvsj6f0tsCY",
        "colab": {
          "base_uri": "https://localhost:8080/",
          "height": 195
        },
        "outputId": "e6b61708-eeea-4553-dcd5-67203a51831f"
      },
      "source": [
        "model = Sequential()\n",
        "model.add(Embedding(20000, 128))\n",
        "model.add(Conv1D(256, # filters\n",
        "                 3, # kernel_size\n",
        "                 padding='valid',\n",
        "                 activation='relu',\n",
        "                 strides=1))\n",
        "model.add(MaxPooling1D(pool_size=4))\n",
        "model.add(LSTM(128))\n",
        "model.add(Dense(1, activation='sigmoid'))"
      ],
      "execution_count": 5,
      "outputs": [
        {
          "output_type": "stream",
          "text": [
            "WARNING: Logging before flag parsing goes to stderr.\n",
            "W0805 07:22:40.578003 139770667849600 deprecation_wrapper.py:119] From /usr/local/lib/python3.6/dist-packages/keras/backend/tensorflow_backend.py:74: The name tf.get_default_graph is deprecated. Please use tf.compat.v1.get_default_graph instead.\n",
            "\n",
            "W0805 07:22:40.612746 139770667849600 deprecation_wrapper.py:119] From /usr/local/lib/python3.6/dist-packages/keras/backend/tensorflow_backend.py:517: The name tf.placeholder is deprecated. Please use tf.compat.v1.placeholder instead.\n",
            "\n",
            "W0805 07:22:40.620604 139770667849600 deprecation_wrapper.py:119] From /usr/local/lib/python3.6/dist-packages/keras/backend/tensorflow_backend.py:4138: The name tf.random_uniform is deprecated. Please use tf.random.uniform instead.\n",
            "\n",
            "W0805 07:22:40.660652 139770667849600 deprecation_wrapper.py:119] From /usr/local/lib/python3.6/dist-packages/keras/backend/tensorflow_backend.py:3976: The name tf.nn.max_pool is deprecated. Please use tf.nn.max_pool2d instead.\n",
            "\n"
          ],
          "name": "stderr"
        }
      ]
    },
    {
      "cell_type": "markdown",
      "metadata": {
        "id": "VCoQvv2eqDgH",
        "colab_type": "text"
      },
      "source": [
        "### 순환 신경망 모델과 순환 컨볼루션 신경망 모델 구성에서 LSTM의 입력 비교\n",
        "\n",
        "- 순환 신경망 모델(RNN) : LSTM에 입력되는 타임스텝은 Embedding 출력 타임스텝으로 200이고, 특징 크기는 Embedding에서 인코딩된 128이다.\n",
        "\n",
        "\n",
        "- 순환 컨볼루션 신경망 모델(CNN + RNN) : LSTM에 입력되는 타임스텝은 49, 속성은 256이다. 타임스텝이 49인 이유는 Conv1D에서 200단어를 받아 198개를 반환하고, 이를 다시 MaxPooling1D에 의해 1/4배로 줄어들어 49가 된 것이다. 속성이 256인 이유는 Conv1D가 Embedding 출력인 128 벡터를 입력받아 256으로 반환되기 때문이다."
      ]
    },
    {
      "cell_type": "code",
      "metadata": {
        "colab_type": "code",
        "id": "4dMLj83CtsCa",
        "outputId": "c95aa135-354f-4f1c-d171-3a4d83c7d588",
        "colab": {
          "base_uri": "https://localhost:8080/",
          "height": 334
        }
      },
      "source": [
        "print(model.summary())"
      ],
      "execution_count": 6,
      "outputs": [
        {
          "output_type": "stream",
          "text": [
            "_________________________________________________________________\n",
            "Layer (type)                 Output Shape              Param #   \n",
            "=================================================================\n",
            "embedding_1 (Embedding)      (None, None, 128)         2560000   \n",
            "_________________________________________________________________\n",
            "conv1d_1 (Conv1D)            (None, None, 256)         98560     \n",
            "_________________________________________________________________\n",
            "max_pooling1d_1 (MaxPooling1 (None, None, 256)         0         \n",
            "_________________________________________________________________\n",
            "lstm_1 (LSTM)                (None, 128)               197120    \n",
            "_________________________________________________________________\n",
            "dense_1 (Dense)              (None, 1)                 129       \n",
            "=================================================================\n",
            "Total params: 2,855,809\n",
            "Trainable params: 2,855,809\n",
            "Non-trainable params: 0\n",
            "_________________________________________________________________\n",
            "None\n"
          ],
          "name": "stdout"
        }
      ]
    },
    {
      "cell_type": "markdown",
      "metadata": {
        "id": "FvTMIzpSqDga",
        "colab_type": "text"
      },
      "source": [
        "### 모델 학습과정 설정"
      ]
    },
    {
      "cell_type": "code",
      "metadata": {
        "id": "QBuht5OdqDge",
        "colab_type": "code",
        "colab": {
          "base_uri": "https://localhost:8080/",
          "height": 160
        },
        "outputId": "f65079ca-b388-40f6-debb-f6ca9d135b07"
      },
      "source": [
        "model.compile(loss='binary_crossentropy',\n",
        "              optimizer='adam',\n",
        "              metrics=['accuracy'])"
      ],
      "execution_count": 7,
      "outputs": [
        {
          "output_type": "stream",
          "text": [
            "W0805 07:22:40.915149 139770667849600 deprecation_wrapper.py:119] From /usr/local/lib/python3.6/dist-packages/keras/optimizers.py:790: The name tf.train.Optimizer is deprecated. Please use tf.compat.v1.train.Optimizer instead.\n",
            "\n",
            "W0805 07:22:40.941833 139770667849600 deprecation_wrapper.py:119] From /usr/local/lib/python3.6/dist-packages/keras/backend/tensorflow_backend.py:3376: The name tf.log is deprecated. Please use tf.math.log instead.\n",
            "\n",
            "W0805 07:22:40.947675 139770667849600 deprecation.py:323] From /usr/local/lib/python3.6/dist-packages/tensorflow/python/ops/nn_impl.py:180: add_dispatch_support.<locals>.wrapper (from tensorflow.python.ops.array_ops) is deprecated and will be removed in a future version.\n",
            "Instructions for updating:\n",
            "Use tf.where in 2.0, which has the same broadcast rule as np.where\n"
          ],
          "name": "stderr"
        }
      ]
    },
    {
      "cell_type": "markdown",
      "metadata": {
        "id": "pUAOOduVqDhO",
        "colab_type": "text"
      },
      "source": [
        "### 모델 학습시키기"
      ]
    },
    {
      "cell_type": "code",
      "metadata": {
        "id": "AtVZywD9qDhd",
        "colab_type": "code",
        "colab": {
          "base_uri": "https://localhost:8080/",
          "height": 970
        },
        "outputId": "37bff1fd-64d4-4053-f902-05e568d4782d"
      },
      "source": [
        "hist = model.fit(x_train,\n",
        "                 y_train,\n",
        "                 epochs=25,\n",
        "                 batch_size=64,\n",
        "                 validation_data=(x_val, y_val))"
      ],
      "execution_count": 8,
      "outputs": [
        {
          "output_type": "stream",
          "text": [
            "W0805 07:22:41.808851 139770667849600 deprecation_wrapper.py:119] From /usr/local/lib/python3.6/dist-packages/keras/backend/tensorflow_backend.py:986: The name tf.assign_add is deprecated. Please use tf.compat.v1.assign_add instead.\n",
            "\n"
          ],
          "name": "stderr"
        },
        {
          "output_type": "stream",
          "text": [
            "Train on 20000 samples, validate on 5000 samples\n",
            "Epoch 1/25\n",
            "20000/20000 [==============================] - 28s 1ms/step - loss: 0.3910 - acc: 0.8111 - val_loss: 0.3009 - val_acc: 0.8820\n",
            "Epoch 2/25\n",
            "20000/20000 [==============================] - 22s 1ms/step - loss: 0.1775 - acc: 0.9361 - val_loss: 0.3132 - val_acc: 0.8710\n",
            "Epoch 3/25\n",
            "20000/20000 [==============================] - 22s 1ms/step - loss: 0.0872 - acc: 0.9707 - val_loss: 0.4496 - val_acc: 0.8682\n",
            "Epoch 4/25\n",
            "20000/20000 [==============================] - 22s 1ms/step - loss: 0.0338 - acc: 0.9899 - val_loss: 0.5470 - val_acc: 0.8642\n",
            "Epoch 5/25\n",
            "20000/20000 [==============================] - 22s 1ms/step - loss: 0.0238 - acc: 0.9929 - val_loss: 0.7451 - val_acc: 0.8524\n",
            "Epoch 6/25\n",
            "20000/20000 [==============================] - 22s 1ms/step - loss: 0.0194 - acc: 0.9940 - val_loss: 0.6278 - val_acc: 0.8566\n",
            "Epoch 7/25\n",
            "20000/20000 [==============================] - 21s 1ms/step - loss: 0.0229 - acc: 0.9925 - val_loss: 0.6552 - val_acc: 0.8624\n",
            "Epoch 8/25\n",
            "20000/20000 [==============================] - 21s 1ms/step - loss: 0.0108 - acc: 0.9965 - val_loss: 0.7953 - val_acc: 0.8566\n",
            "Epoch 9/25\n",
            "20000/20000 [==============================] - 21s 1ms/step - loss: 0.0108 - acc: 0.9968 - val_loss: 0.7132 - val_acc: 0.8642\n",
            "Epoch 10/25\n",
            "20000/20000 [==============================] - 21s 1ms/step - loss: 0.0105 - acc: 0.9965 - val_loss: 0.7949 - val_acc: 0.8510\n",
            "Epoch 11/25\n",
            "20000/20000 [==============================] - 22s 1ms/step - loss: 0.0117 - acc: 0.9964 - val_loss: 0.7125 - val_acc: 0.8588\n",
            "Epoch 12/25\n",
            "20000/20000 [==============================] - 21s 1ms/step - loss: 0.0144 - acc: 0.9945 - val_loss: 0.6544 - val_acc: 0.8626\n",
            "Epoch 13/25\n",
            "20000/20000 [==============================] - 21s 1ms/step - loss: 0.0062 - acc: 0.9981 - val_loss: 0.7521 - val_acc: 0.8614\n",
            "Epoch 14/25\n",
            "20000/20000 [==============================] - 22s 1ms/step - loss: 0.0053 - acc: 0.9981 - val_loss: 0.9177 - val_acc: 0.8554\n",
            "Epoch 15/25\n",
            "20000/20000 [==============================] - 21s 1ms/step - loss: 0.0043 - acc: 0.9988 - val_loss: 0.8414 - val_acc: 0.8602\n",
            "Epoch 16/25\n",
            "20000/20000 [==============================] - 22s 1ms/step - loss: 7.8496e-04 - acc: 0.9997 - val_loss: 0.9376 - val_acc: 0.8528\n",
            "Epoch 17/25\n",
            "20000/20000 [==============================] - 22s 1ms/step - loss: 0.0048 - acc: 0.9983 - val_loss: 0.8068 - val_acc: 0.8562\n",
            "Epoch 18/25\n",
            "20000/20000 [==============================] - 21s 1ms/step - loss: 0.0063 - acc: 0.9982 - val_loss: 0.7333 - val_acc: 0.8542\n",
            "Epoch 19/25\n",
            "20000/20000 [==============================] - 21s 1ms/step - loss: 0.0036 - acc: 0.9987 - val_loss: 0.9156 - val_acc: 0.8574\n",
            "Epoch 20/25\n",
            "20000/20000 [==============================] - 21s 1ms/step - loss: 0.0067 - acc: 0.9978 - val_loss: 0.8870 - val_acc: 0.8446\n",
            "Epoch 21/25\n",
            "20000/20000 [==============================] - 21s 1ms/step - loss: 0.0074 - acc: 0.9974 - val_loss: 0.7868 - val_acc: 0.8530\n",
            "Epoch 22/25\n",
            "20000/20000 [==============================] - 21s 1ms/step - loss: 0.0026 - acc: 0.9990 - val_loss: 1.0043 - val_acc: 0.8472\n",
            "Epoch 23/25\n",
            "20000/20000 [==============================] - 21s 1ms/step - loss: 0.0059 - acc: 0.9981 - val_loss: 0.9174 - val_acc: 0.8614\n",
            "Epoch 24/25\n",
            "20000/20000 [==============================] - 22s 1ms/step - loss: 0.0053 - acc: 0.9981 - val_loss: 0.8298 - val_acc: 0.8592\n",
            "Epoch 25/25\n",
            "20000/20000 [==============================] - 22s 1ms/step - loss: 0.0016 - acc: 0.9994 - val_loss: 0.9935 - val_acc: 0.8596\n"
          ],
          "name": "stdout"
        }
      ]
    },
    {
      "cell_type": "markdown",
      "metadata": {
        "id": "43c3RFXMqDh7",
        "colab_type": "text"
      },
      "source": [
        "### 테스트 데이터에 대해서 정확도 평가"
      ]
    },
    {
      "cell_type": "code",
      "metadata": {
        "id": "q64gkeRLqDiB",
        "colab_type": "code",
        "colab": {
          "base_uri": "https://localhost:8080/",
          "height": 34
        },
        "outputId": "7f796739-b4db-4000-a7ae-509948d7d029"
      },
      "source": [
        "scores = model.evaluate(x_train, y_train, verbose=0)\n",
        "print(\"정확도: %.2f%%\" % (scores[1]*100))"
      ],
      "execution_count": 9,
      "outputs": [
        {
          "output_type": "stream",
          "text": [
            "정확도: 100.00%\n"
          ],
          "name": "stdout"
        }
      ]
    },
    {
      "cell_type": "markdown",
      "metadata": {
        "id": "H3Zi3sq0qDiM",
        "colab_type": "text"
      },
      "source": [
        "### 학습과정"
      ]
    },
    {
      "cell_type": "code",
      "metadata": {
        "colab_type": "code",
        "id": "vT6J1bsMtsCg",
        "outputId": "fb24ee31-be90-4221-c922-5433c5b06200",
        "colab": {
          "base_uri": "https://localhost:8080/",
          "height": 283
        }
      },
      "source": [
        "%matplotlib inline\n",
        "import matplotlib.pyplot as plt\n",
        "\n",
        "fig, loss_ax = plt.subplots()\n",
        "\n",
        "acc_ax = loss_ax.twinx()\n",
        "\n",
        "loss_ax.plot(hist.history['loss'], 'y', label='train loss')\n",
        "loss_ax.plot(hist.history['val_loss'], 'r', label='val loss')\n",
        "loss_ax.set_ylim([-0.2, 1.2])\n",
        "\n",
        "acc_ax.plot(hist.history['acc'], 'b', label='train acc')\n",
        "acc_ax.plot(hist.history['val_acc'], 'g', label='val acc')\n",
        "acc_ax.set_ylim([-0.2, 1.2])\n",
        "\n",
        "loss_ax.set_xlabel('epoch')\n",
        "loss_ax.set_ylabel('loss')\n",
        "acc_ax.set_ylabel('accuray')\n",
        "\n",
        "loss_ax.legend(loc='upper left')\n",
        "acc_ax.legend(loc='lower left')\n",
        "\n",
        "plt.show()"
      ],
      "execution_count": 10,
      "outputs": [
        {
          "output_type": "display_data",
          "data": {
            "image/png": "[encoded data removed]",
            "text/plain": [
              "<Figure size 432x288 with 2 Axes>"
            ]
          },
          "metadata": {
            "tags": []
          }
        }
      ]
    },
    {
      "cell_type": "markdown",
      "metadata": {
        "id": "glpbQYf3qDi-",
        "colab_type": "text"
      },
      "source": [
        "### 모델 평가"
      ]
    },
    {
      "cell_type": "code",
      "metadata": {
        "colab_type": "code",
        "id": "_kguJ6wctsCi",
        "outputId": "9a035afd-b750-4142-a68b-f1f64b28296e",
        "colab": {
          "base_uri": "https://localhost:8080/",
          "height": 70
        }
      },
      "source": [
        "loss_and_metrics = model.evaluate(x_test, y_test, batch_size=64)\n",
        "print('## evaluation loss and_metrics ##')\n",
        "print(loss_and_metrics)"
      ],
      "execution_count": 11,
      "outputs": [
        {
          "output_type": "stream",
          "text": [
            "25000/25000 [==============================] - 5s 212us/step\n",
            "## evaluation loss and_metrics ##\n",
            "[1.1294057553482055, 0.8409599999809265]\n"
          ],
          "name": "stdout"
        }
      ]
    }
  ]
}