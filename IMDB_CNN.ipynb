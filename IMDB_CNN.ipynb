{
  "nbformat": 4,
  "nbformat_minor": 0,
  "metadata": {
    "colab": {
      "name": "IMDB_CNN.ipynb",
      "version": "0.3.2",
      "provenance": []
    },
    "kernelspec": {
      "display_name": "Python 3",
      "language": "python",
      "name": "python3"
    },
    "language_info": {
      "codemirror_mode": {
        "name": "ipython",
        "version": 3
      },
      "file_extension": ".py",
      "mimetype": "text/x-python",
      "name": "python",
      "nbconvert_exporter": "python",
      "pygments_lexer": "ipython3",
      "version": "3.7.3"
    }
  },
  "cells": [
    {
      "cell_type": "code",
      "metadata": {
        "colab_type": "code",
        "id": "TrGyD4XBqaYr",
        "outputId": "8080a010-17f5-4dd0-e615-417da76addae",
        "colab": {
          "base_uri": "https://localhost:8080/",
          "height": 34
        }
      },
      "source": [
        "from keras.preprocessing import sequence\n",
        "from keras.models import Sequential\n",
        "from keras.layers import Dense, Dropout, Activation\n",
        "from keras.layers import Embedding\n",
        "from keras.layers import Conv1D, GlobalMaxPooling1D\n",
        "from keras.datasets import imdb"
      ],
      "execution_count": 1,
      "outputs": [
        {
          "output_type": "stream",
          "text": [
            "Using TensorFlow backend.\n"
          ],
          "name": "stderr"
        }
      ]
    },
    {
      "cell_type": "markdown",
      "metadata": {
        "id": "98HV2gYQzvcA",
        "colab_type": "text"
      },
      "source": [
        "### IMDB 리뷰 데이터\n",
        "케라스에서 제공하는 IMDB 리뷰 데이터는 훈련 데이터와 테스트 데이터를 50:50 비율로 구분해서 제공한다.\n",
        "\n",
        "num_words는 이 데이터에서 등장 빈도 순위로 몇 번째에 해당하는 단어까지 갖고 올 것인지 조절한다.\n",
        "\n",
        "20,000이란 값은 등장 빈도 순위가 1 ~ 20,000에 해당하는 단어만 갖고 오게 된다.\n",
        "\n",
        "따라서 단어의 종류는 20,000개가 되므로 단어 집합의 크기는 20,000이 된다."
      ]
    },
    {
      "cell_type": "code",
      "metadata": {
        "colab_type": "code",
        "id": "ACgzIEgPqaYw",
        "outputId": "de025c2e-423a-4d27-b205-56854f97fe9e",
        "colab": {
          "base_uri": "https://localhost:8080/",
          "height": 52
        }
      },
      "source": [
        "import numpy as np\n",
        "\n",
        "np_load_old = np.load\n",
        "\n",
        "np.load = lambda *a,**k: np_load_old(*a, allow_pickle=True, **k)\n",
        "\n",
        "(x_train, y_train), (x_test, y_test) = imdb.load_data(num_words=20000)\n",
        "\n",
        "np.load = np_load_old"
      ],
      "execution_count": 2,
      "outputs": [
        {
          "output_type": "stream",
          "text": [
            "Downloading data from https://s3.amazonaws.com/text-datasets/imdb.npz\n",
            "17465344/17464789 [==============================] - 1s 0us/step\n"
          ],
          "name": "stdout"
        }
      ]
    },
    {
      "cell_type": "code",
      "metadata": {
        "colab_type": "code",
        "id": "O_jbv10_qaYz",
        "outputId": "2c820220-419b-4f08-da4b-5ffae1f62176",
        "colab": {
          "base_uri": "https://localhost:8080/",
          "height": 52
        }
      },
      "source": [
        "x_val = x_train[20000:]\n",
        "y_val = y_train[20000:]\n",
        "x_train = x_train[:20000]\n",
        "y_train = y_train[:20000]\n",
        "\n",
        "print('x_train shape:', x_train.shape)\n",
        "print('x_train shape:', x_test.shape)"
      ],
      "execution_count": 3,
      "outputs": [
        {
          "output_type": "stream",
          "text": [
            "x_train shape: (20000,)\n",
            "x_train shape: (25000,)\n"
          ],
          "name": "stdout"
        }
      ]
    },
    {
      "cell_type": "code",
      "metadata": {
        "colab_type": "code",
        "id": "p1Phq1LoqaY2",
        "colab": {}
      },
      "source": [
        "x_train = sequence.pad_sequences(x_train, maxlen=200)\n",
        "x_val = sequence.pad_sequences(x_val, maxlen=200)\n",
        "x_test = sequence.pad_sequences(x_test, maxlen=200)"
      ],
      "execution_count": 0,
      "outputs": []
    },
    {
      "cell_type": "markdown",
      "metadata": {
        "id": "1FYgKMuczvcU",
        "colab_type": "text"
      },
      "source": [
        "### 모델 구성\n",
        "**CNN (Convolutional Neural Networks, 합성곱 신경망)**\n",
        "\n",
        "문장 해석에 컨볼루션(Conv1D) 레이어를 이용한 모델이다.\n",
        "\n",
        "Conv1D : Extracts local features using 1D filters.\n",
        "\n",
        "- 컨볼루션(Conv1D) 레이어는 위치에 상관없이 지역적인 특징을 잘 뽑아낸다.\n",
        "\n",
        "이 레이어를 문장에 적용한다면 주요 단어가 문장 앞 혹은 문장 뒤에 있더라도 놓치지 않고 전후 문맥을 보면서 특징을 잘 뽑아낼 수 있다.\n",
        "\n",
        "글로벌 맥스풀링(GlobalMaxPooling1D) 레이어는 컨볼루션 레이어가 문장을 훑어가면서 나온 특징벡터들 중 가장 큰 벡터를 골라준다.\n",
        "\n",
        "즉, 문맥을 보면서 주요 특징을 뽑아내고, 그 중 가장 두드러지는 특징을 고르는 것이다."
      ]
    },
    {
      "cell_type": "code",
      "metadata": {
        "colab_type": "code",
        "id": "nNpDUYj2qaY4",
        "outputId": "7c6bcda6-73e4-41fe-e2ba-2f1aafc5e94b",
        "colab": {
          "base_uri": "https://localhost:8080/",
          "height": 160
        }
      },
      "source": [
        "model = Sequential()\n",
        "model.add(Embedding(20000, 128))\n",
        "model.add(Conv1D(256, # filters\n",
        "                 3, # kernel_size\n",
        "                 padding='valid',\n",
        "                 activation='relu',\n",
        "                 strides=1))\n",
        "model.add(GlobalMaxPooling1D())\n",
        "model.add(Dense(128, activation='relu'))\n",
        "model.add(Dense(1, activation='sigmoid'))"
      ],
      "execution_count": 5,
      "outputs": [
        {
          "output_type": "stream",
          "text": [
            "WARNING: Logging before flag parsing goes to stderr.\n",
            "W0805 03:25:15.825292 140180487792512 deprecation_wrapper.py:119] From /usr/local/lib/python3.6/dist-packages/keras/backend/tensorflow_backend.py:74: The name tf.get_default_graph is deprecated. Please use tf.compat.v1.get_default_graph instead.\n",
            "\n",
            "W0805 03:25:15.869622 140180487792512 deprecation_wrapper.py:119] From /usr/local/lib/python3.6/dist-packages/keras/backend/tensorflow_backend.py:517: The name tf.placeholder is deprecated. Please use tf.compat.v1.placeholder instead.\n",
            "\n",
            "W0805 03:25:15.877741 140180487792512 deprecation_wrapper.py:119] From /usr/local/lib/python3.6/dist-packages/keras/backend/tensorflow_backend.py:4138: The name tf.random_uniform is deprecated. Please use tf.random.uniform instead.\n",
            "\n"
          ],
          "name": "stderr"
        }
      ]
    },
    {
      "cell_type": "code",
      "metadata": {
        "colab_type": "code",
        "id": "bzfl7V-GqaY6",
        "outputId": "3da5afab-34ba-4d30-a110-5d65678d6092",
        "scrolled": true,
        "colab": {
          "base_uri": "https://localhost:8080/",
          "height": 334
        }
      },
      "source": [
        "print(model.summary())"
      ],
      "execution_count": 6,
      "outputs": [
        {
          "output_type": "stream",
          "text": [
            "_________________________________________________________________\n",
            "Layer (type)                 Output Shape              Param #   \n",
            "=================================================================\n",
            "embedding_1 (Embedding)      (None, None, 128)         2560000   \n",
            "_________________________________________________________________\n",
            "conv1d_1 (Conv1D)            (None, None, 256)         98560     \n",
            "_________________________________________________________________\n",
            "global_max_pooling1d_1 (Glob (None, 256)               0         \n",
            "_________________________________________________________________\n",
            "dense_1 (Dense)              (None, 128)               32896     \n",
            "_________________________________________________________________\n",
            "dense_2 (Dense)              (None, 1)                 129       \n",
            "=================================================================\n",
            "Total params: 2,691,585\n",
            "Trainable params: 2,691,585\n",
            "Non-trainable params: 0\n",
            "_________________________________________________________________\n",
            "None\n"
          ],
          "name": "stdout"
        }
      ]
    },
    {
      "cell_type": "markdown",
      "metadata": {
        "id": "TFol9w81zvcf",
        "colab_type": "text"
      },
      "source": [
        "### 모델 학습과정 설정"
      ]
    },
    {
      "cell_type": "code",
      "metadata": {
        "id": "6zozhtYrzvcg",
        "colab_type": "code",
        "colab": {
          "base_uri": "https://localhost:8080/",
          "height": 160
        },
        "outputId": "06530c4b-4b7b-42b4-bf65-d16339946ff0"
      },
      "source": [
        "model.compile(loss='binary_crossentropy',\n",
        "              optimizer='adam',\n",
        "              metrics=['accuracy'])"
      ],
      "execution_count": 7,
      "outputs": [
        {
          "output_type": "stream",
          "text": [
            "W0805 03:25:15.995131 140180487792512 deprecation_wrapper.py:119] From /usr/local/lib/python3.6/dist-packages/keras/optimizers.py:790: The name tf.train.Optimizer is deprecated. Please use tf.compat.v1.train.Optimizer instead.\n",
            "\n",
            "W0805 03:25:16.025316 140180487792512 deprecation_wrapper.py:119] From /usr/local/lib/python3.6/dist-packages/keras/backend/tensorflow_backend.py:3376: The name tf.log is deprecated. Please use tf.math.log instead.\n",
            "\n",
            "W0805 03:25:16.032444 140180487792512 deprecation.py:323] From /usr/local/lib/python3.6/dist-packages/tensorflow/python/ops/nn_impl.py:180: add_dispatch_support.<locals>.wrapper (from tensorflow.python.ops.array_ops) is deprecated and will be removed in a future version.\n",
            "Instructions for updating:\n",
            "Use tf.where in 2.0, which has the same broadcast rule as np.where\n"
          ],
          "name": "stderr"
        }
      ]
    },
    {
      "cell_type": "markdown",
      "metadata": {
        "id": "UQ_2-fEvzvci",
        "colab_type": "text"
      },
      "source": [
        "### 모델 학습시키기\n"
      ]
    },
    {
      "cell_type": "code",
      "metadata": {
        "id": "lTwzey5Gzvcj",
        "colab_type": "code",
        "colab": {
          "base_uri": "https://localhost:8080/",
          "height": 970
        },
        "outputId": "dd4315e5-fa55-4d79-d18f-0762f9683200"
      },
      "source": [
        "hist = model.fit(x_train,\n",
        "                 y_train,\n",
        "                 epochs=25,\n",
        "                 batch_size=64,\n",
        "                 validation_data=(x_val, y_val))"
      ],
      "execution_count": 8,
      "outputs": [
        {
          "output_type": "stream",
          "text": [
            "W0805 03:25:16.316960 140180487792512 deprecation_wrapper.py:119] From /usr/local/lib/python3.6/dist-packages/keras/backend/tensorflow_backend.py:986: The name tf.assign_add is deprecated. Please use tf.compat.v1.assign_add instead.\n",
            "\n"
          ],
          "name": "stderr"
        },
        {
          "output_type": "stream",
          "text": [
            "Train on 20000 samples, validate on 5000 samples\n",
            "Epoch 1/25\n",
            "20000/20000 [==============================] - 74s 4ms/step - loss: 0.4255 - acc: 0.7838 - val_loss: 0.2723 - val_acc: 0.8864\n",
            "Epoch 2/25\n",
            "20000/20000 [==============================] - 73s 4ms/step - loss: 0.1731 - acc: 0.9356 - val_loss: 0.2511 - val_acc: 0.8948\n",
            "Epoch 3/25\n",
            "20000/20000 [==============================] - 73s 4ms/step - loss: 0.0395 - acc: 0.9895 - val_loss: 0.3101 - val_acc: 0.8942\n",
            "Epoch 4/25\n",
            "20000/20000 [==============================] - 72s 4ms/step - loss: 0.0056 - acc: 0.9996 - val_loss: 0.3426 - val_acc: 0.8986\n",
            "Epoch 5/25\n",
            "20000/20000 [==============================] - 72s 4ms/step - loss: 8.7586e-04 - acc: 1.0000 - val_loss: 0.3676 - val_acc: 0.8990\n",
            "Epoch 6/25\n",
            "20000/20000 [==============================] - 72s 4ms/step - loss: 3.9567e-04 - acc: 1.0000 - val_loss: 0.3866 - val_acc: 0.8992\n",
            "Epoch 7/25\n",
            "20000/20000 [==============================] - 72s 4ms/step - loss: 2.4725e-04 - acc: 1.0000 - val_loss: 0.4003 - val_acc: 0.8994\n",
            "Epoch 8/25\n",
            "20000/20000 [==============================] - 72s 4ms/step - loss: 1.6973e-04 - acc: 1.0000 - val_loss: 0.4128 - val_acc: 0.8990\n",
            "Epoch 9/25\n",
            "20000/20000 [==============================] - 72s 4ms/step - loss: 1.2244e-04 - acc: 1.0000 - val_loss: 0.4245 - val_acc: 0.8976\n",
            "Epoch 10/25\n",
            "20000/20000 [==============================] - 72s 4ms/step - loss: 9.1222e-05 - acc: 1.0000 - val_loss: 0.4341 - val_acc: 0.8968\n",
            "Epoch 11/25\n",
            "20000/20000 [==============================] - 72s 4ms/step - loss: 6.9458e-05 - acc: 1.0000 - val_loss: 0.4438 - val_acc: 0.8962\n",
            "Epoch 12/25\n",
            "20000/20000 [==============================] - 72s 4ms/step - loss: 5.3872e-05 - acc: 1.0000 - val_loss: 0.4533 - val_acc: 0.8968\n",
            "Epoch 13/25\n",
            "20000/20000 [==============================] - 72s 4ms/step - loss: 4.2357e-05 - acc: 1.0000 - val_loss: 0.4616 - val_acc: 0.8964\n",
            "Epoch 14/25\n",
            "20000/20000 [==============================] - 72s 4ms/step - loss: 3.3604e-05 - acc: 1.0000 - val_loss: 0.4706 - val_acc: 0.8966\n",
            "Epoch 15/25\n",
            "20000/20000 [==============================] - 72s 4ms/step - loss: 2.6928e-05 - acc: 1.0000 - val_loss: 0.4782 - val_acc: 0.8968\n",
            "Epoch 16/25\n",
            "20000/20000 [==============================] - 72s 4ms/step - loss: 2.1716e-05 - acc: 1.0000 - val_loss: 0.4864 - val_acc: 0.8968\n",
            "Epoch 17/25\n",
            "20000/20000 [==============================] - 72s 4ms/step - loss: 1.7605e-05 - acc: 1.0000 - val_loss: 0.4941 - val_acc: 0.8968\n",
            "Epoch 18/25\n",
            "20000/20000 [==============================] - 72s 4ms/step - loss: 1.4361e-05 - acc: 1.0000 - val_loss: 0.5011 - val_acc: 0.8968\n",
            "Epoch 19/25\n",
            "20000/20000 [==============================] - 72s 4ms/step - loss: 1.1731e-05 - acc: 1.0000 - val_loss: 0.5087 - val_acc: 0.8972\n",
            "Epoch 20/25\n",
            "20000/20000 [==============================] - 72s 4ms/step - loss: 9.6365e-06 - acc: 1.0000 - val_loss: 0.5160 - val_acc: 0.8972\n",
            "Epoch 21/25\n",
            "20000/20000 [==============================] - 72s 4ms/step - loss: 7.9355e-06 - acc: 1.0000 - val_loss: 0.5238 - val_acc: 0.8968\n",
            "Epoch 22/25\n",
            "20000/20000 [==============================] - 72s 4ms/step - loss: 6.5529e-06 - acc: 1.0000 - val_loss: 0.5297 - val_acc: 0.8958\n",
            "Epoch 23/25\n",
            "20000/20000 [==============================] - 72s 4ms/step - loss: 5.4294e-06 - acc: 1.0000 - val_loss: 0.5368 - val_acc: 0.8956\n",
            "Epoch 24/25\n",
            "20000/20000 [==============================] - 72s 4ms/step - loss: 4.5021e-06 - acc: 1.0000 - val_loss: 0.5440 - val_acc: 0.8958\n",
            "Epoch 25/25\n",
            "20000/20000 [==============================] - 72s 4ms/step - loss: 3.7446e-06 - acc: 1.0000 - val_loss: 0.5503 - val_acc: 0.8956\n"
          ],
          "name": "stdout"
        }
      ]
    },
    {
      "cell_type": "markdown",
      "metadata": {
        "id": "HA2HCQC8zvcl",
        "colab_type": "text"
      },
      "source": [
        "### 테스트 데이터에 대해서 정확도 평가"
      ]
    },
    {
      "cell_type": "code",
      "metadata": {
        "colab_type": "code",
        "id": "V88CgTw3qaY9",
        "outputId": "80c8f144-05e3-4c31-b587-3cc548172236",
        "colab": {
          "base_uri": "https://localhost:8080/",
          "height": 34
        }
      },
      "source": [
        "scores = model.evaluate(x_train, y_train, verbose=0) \n",
        "print(\"정확도: %.2f%%\" % (scores[1]*100))"
      ],
      "execution_count": 9,
      "outputs": [
        {
          "output_type": "stream",
          "text": [
            "정확도: 100.00%\n"
          ],
          "name": "stdout"
        }
      ]
    },
    {
      "cell_type": "markdown",
      "metadata": {
        "id": "QFn3oKpyzvco",
        "colab_type": "text"
      },
      "source": [
        "### 학습과정"
      ]
    },
    {
      "cell_type": "code",
      "metadata": {
        "colab_type": "code",
        "id": "-MUQZp46qaY_",
        "outputId": "4cccfd7d-d05f-4404-8738-c410b390637b",
        "colab": {
          "base_uri": "https://localhost:8080/",
          "height": 283
        }
      },
      "source": [
        "%matplotlib inline\n",
        "import matplotlib.pyplot as plt\n",
        "\n",
        "fig, loss_ax = plt.subplots()\n",
        "\n",
        "acc_ax = loss_ax.twinx()\n",
        "\n",
        "loss_ax.plot(hist.history['loss'], 'y', label='train loss')\n",
        "loss_ax.plot(hist.history['val_loss'], 'r', label='val loss')\n",
        "loss_ax.set_ylim([-0.2, 1.2])\n",
        "\n",
        "acc_ax.plot(hist.history['acc'], 'b', label='train acc')\n",
        "acc_ax.plot(hist.history['val_acc'], 'g', label='val acc')\n",
        "acc_ax.set_ylim([-0.2, 1.2])\n",
        "\n",
        "loss_ax.set_xlabel('epoch')\n",
        "loss_ax.set_ylabel('loss')\n",
        "acc_ax.set_ylabel('accuray')\n",
        "\n",
        "loss_ax.legend(loc='upper left')\n",
        "acc_ax.legend(loc='lower left')\n",
        "\n",
        "plt.show()"
      ],
      "execution_count": 10,
      "outputs": [
        {
          "output_type": "display_data",
          "data": {
            "image/png": "[encoded data removed]",
            "text/plain": [
              "<Figure size 432x288 with 2 Axes>"
            ]
          },
          "metadata": {
            "tags": []
          }
        }
      ]
    },
    {
      "cell_type": "markdown",
      "metadata": {
        "id": "a6-9nejGzvcs",
        "colab_type": "text"
      },
      "source": [
        "### 모델 평가"
      ]
    },
    {
      "cell_type": "code",
      "metadata": {
        "colab_type": "code",
        "id": "Q8a8lCAnqaZC",
        "outputId": "0f01f0e3-b1ec-4b81-fe25-b585fb3acc0c",
        "colab": {
          "base_uri": "https://localhost:8080/",
          "height": 70
        }
      },
      "source": [
        "loss_and_metrics = model.evaluate(x_test, y_test, batch_size=64)\n",
        "print('## evaluation loss and_metrics ##')\n",
        "print(loss_and_metrics)"
      ],
      "execution_count": 11,
      "outputs": [
        {
          "output_type": "stream",
          "text": [
            "25000/25000 [==============================] - 21s 851us/step\n",
            "## evaluation loss and_metrics ##\n",
            "[0.5953750736355782, 0.884480000038147]\n"
          ],
          "name": "stdout"
        }
      ]
    }
  ]
}