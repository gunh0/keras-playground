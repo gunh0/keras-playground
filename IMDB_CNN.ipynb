{
  "nbformat": 4,
  "nbformat_minor": 0,
  "metadata": {
    "kernelspec": {
      "display_name": "Python 3",
      "language": "python",
      "name": "python3"
    },
    "language_info": {
      "codemirror_mode": {
        "name": "ipython",
        "version": 3
      },
      "file_extension": ".py",
      "mimetype": "text/x-python",
      "name": "python",
      "nbconvert_exporter": "python",
      "pygments_lexer": "ipython3",
      "version": "3.7.3"
    },
    "colab": {
      "name": "IMDB_CNN.ipynb",
      "version": "0.3.2",
      "provenance": []
    }
  },
  "cells": [
    {
      "cell_type": "code",
      "metadata": {
        "id": "TrGyD4XBqaYr",
        "colab_type": "code",
        "colab": {
          "base_uri": "https://localhost:8080/",
          "height": 34
        },
        "outputId": "50865a3e-9919-4811-b769-36cfb7958ea7"
      },
      "source": [
        "from keras.preprocessing import sequence\n",
        "from keras.models import Sequential\n",
        "from keras.layers import Dense, Dropout, Activation\n",
        "from keras.layers import Embedding\n",
        "from keras.layers import Conv1D, GlobalMaxPooling1D\n",
        "from keras.datasets import imdb"
      ],
      "execution_count": 1,
      "outputs": [
        {
          "output_type": "stream",
          "text": [
            "Using TensorFlow backend.\n"
          ],
          "name": "stderr"
        }
      ]
    },
    {
      "cell_type": "code",
      "metadata": {
        "id": "ACgzIEgPqaYw",
        "colab_type": "code",
        "colab": {
          "base_uri": "https://localhost:8080/",
          "height": 52
        },
        "outputId": "5620172a-81da-4a55-f164-216b275ee671"
      },
      "source": [
        "import numpy as np\n",
        "# save np.load\n",
        "np_load_old = np.load\n",
        "\n",
        "# modify the default parameters of np.load\n",
        "np.load = lambda *a,**k: np_load_old(*a, allow_pickle=True, **k)\n",
        "\n",
        "# call load_data with allow_pickle implicitly set to true\n",
        "(x_train, y_train), (x_test, y_test) = imdb.load_data(num_words=20000)\n",
        "\n",
        "# restore np.load for future normal usage\n",
        "np.load = np_load_old"
      ],
      "execution_count": 2,
      "outputs": [
        {
          "output_type": "stream",
          "text": [
            "Downloading data from https://s3.amazonaws.com/text-datasets/imdb.npz\n",
            "17465344/17464789 [==============================] - 0s 0us/step\n"
          ],
          "name": "stdout"
        }
      ]
    },
    {
      "cell_type": "code",
      "metadata": {
        "id": "O_jbv10_qaYz",
        "colab_type": "code",
        "colab": {
          "base_uri": "https://localhost:8080/",
          "height": 34
        },
        "outputId": "500f1d37-341a-4fbc-c6d6-56df92d2bef2"
      },
      "source": [
        "# 훈련셋과 검증셋 분리\n",
        "x_val = x_train[20000:]\n",
        "y_val = y_train[20000:]\n",
        "x_train = x_train[:20000]\n",
        "y_train = y_train[:20000]\n",
        "\n",
        "print('x_train shape:', x_train.shape)"
      ],
      "execution_count": 3,
      "outputs": [
        {
          "output_type": "stream",
          "text": [
            "x_train shape: (20000,)\n"
          ],
          "name": "stdout"
        }
      ]
    },
    {
      "cell_type": "code",
      "metadata": {
        "id": "p1Phq1LoqaY2",
        "colab_type": "code",
        "colab": {}
      },
      "source": [
        "# 데이터셋 전처리\n",
        "x_train = sequence.pad_sequences(x_train, maxlen=200)\n",
        "x_val = sequence.pad_sequences(x_val, maxlen=200)\n",
        "x_test = sequence.pad_sequences(x_test, maxlen=200)"
      ],
      "execution_count": 0,
      "outputs": []
    },
    {
      "cell_type": "code",
      "metadata": {
        "id": "nNpDUYj2qaY4",
        "colab_type": "code",
        "colab": {
          "base_uri": "https://localhost:8080/",
          "height": 160
        },
        "outputId": "68135c4a-1944-4e36-a6b7-73e213d83a03"
      },
      "source": [
        "# 모델 구성\n",
        "model = Sequential()\n",
        "model.add(Embedding(20000, 128))\n",
        "model.add(Conv1D(256, # filters\n",
        "                 3, # kernel_size\n",
        "                 padding='valid',\n",
        "                 activation='relu',\n",
        "                 strides=1))\n",
        "model.add(GlobalMaxPooling1D())\n",
        "model.add(Dense(128, activation='relu'))\n",
        "model.add(Dense(1, activation='sigmoid'))"
      ],
      "execution_count": 5,
      "outputs": [
        {
          "output_type": "stream",
          "text": [
            "WARNING: Logging before flag parsing goes to stderr.\n",
            "W0804 08:06:50.827226 140403622582144 deprecation_wrapper.py:119] From /usr/local/lib/python3.6/dist-packages/keras/backend/tensorflow_backend.py:74: The name tf.get_default_graph is deprecated. Please use tf.compat.v1.get_default_graph instead.\n",
            "\n",
            "W0804 08:06:50.871335 140403622582144 deprecation_wrapper.py:119] From /usr/local/lib/python3.6/dist-packages/keras/backend/tensorflow_backend.py:517: The name tf.placeholder is deprecated. Please use tf.compat.v1.placeholder instead.\n",
            "\n",
            "W0804 08:06:50.877926 140403622582144 deprecation_wrapper.py:119] From /usr/local/lib/python3.6/dist-packages/keras/backend/tensorflow_backend.py:4138: The name tf.random_uniform is deprecated. Please use tf.random.uniform instead.\n",
            "\n"
          ],
          "name": "stderr"
        }
      ]
    },
    {
      "cell_type": "code",
      "metadata": {
        "id": "bzfl7V-GqaY6",
        "colab_type": "code",
        "colab": {
          "base_uri": "https://localhost:8080/",
          "height": 334
        },
        "outputId": "7255ddda-875c-483a-9064-278b74ec5756"
      },
      "source": [
        "print(model.summary())"
      ],
      "execution_count": 6,
      "outputs": [
        {
          "output_type": "stream",
          "text": [
            "_________________________________________________________________\n",
            "Layer (type)                 Output Shape              Param #   \n",
            "=================================================================\n",
            "embedding_1 (Embedding)      (None, None, 128)         2560000   \n",
            "_________________________________________________________________\n",
            "conv1d_1 (Conv1D)            (None, None, 256)         98560     \n",
            "_________________________________________________________________\n",
            "global_max_pooling1d_1 (Glob (None, 256)               0         \n",
            "_________________________________________________________________\n",
            "dense_1 (Dense)              (None, 128)               32896     \n",
            "_________________________________________________________________\n",
            "dense_2 (Dense)              (None, 1)                 129       \n",
            "=================================================================\n",
            "Total params: 2,691,585\n",
            "Trainable params: 2,691,585\n",
            "Non-trainable params: 0\n",
            "_________________________________________________________________\n",
            "None\n"
          ],
          "name": "stdout"
        }
      ]
    },
    {
      "cell_type": "code",
      "metadata": {
        "id": "V88CgTw3qaY9",
        "colab_type": "code",
        "colab": {
          "base_uri": "https://localhost:8080/",
          "height": 1000
        },
        "outputId": "bba48d0d-350b-4675-b32c-1958a584059d"
      },
      "source": [
        "model.compile(loss='binary_crossentropy', optimizer='adam', metrics=['accuracy']) # 모델 학습과정 설정\n",
        "\n",
        "hist = model.fit(x_train, y_train, epochs=25, batch_size=64, validation_data=(x_val, y_val))\n",
        "# 모델 학습시키기\n",
        "\n",
        "scores = model.evaluate(x_train, y_train, verbose=0) # 테스트 데이터에 대해서 정확도 평가\n",
        "print(\"정확도: %.2f%%\" % (scores[1]*100))"
      ],
      "execution_count": 7,
      "outputs": [
        {
          "output_type": "stream",
          "text": [
            "W0804 08:06:51.003930 140403622582144 deprecation_wrapper.py:119] From /usr/local/lib/python3.6/dist-packages/keras/optimizers.py:790: The name tf.train.Optimizer is deprecated. Please use tf.compat.v1.train.Optimizer instead.\n",
            "\n",
            "W0804 08:06:51.033525 140403622582144 deprecation_wrapper.py:119] From /usr/local/lib/python3.6/dist-packages/keras/backend/tensorflow_backend.py:3376: The name tf.log is deprecated. Please use tf.math.log instead.\n",
            "\n",
            "W0804 08:06:51.041494 140403622582144 deprecation.py:323] From /usr/local/lib/python3.6/dist-packages/tensorflow/python/ops/nn_impl.py:180: add_dispatch_support.<locals>.wrapper (from tensorflow.python.ops.array_ops) is deprecated and will be removed in a future version.\n",
            "Instructions for updating:\n",
            "Use tf.where in 2.0, which has the same broadcast rule as np.where\n",
            "W0804 08:06:51.307405 140403622582144 deprecation_wrapper.py:119] From /usr/local/lib/python3.6/dist-packages/keras/backend/tensorflow_backend.py:986: The name tf.assign_add is deprecated. Please use tf.compat.v1.assign_add instead.\n",
            "\n"
          ],
          "name": "stderr"
        },
        {
          "output_type": "stream",
          "text": [
            "Train on 20000 samples, validate on 5000 samples\n",
            "Epoch 1/25\n",
            "20000/20000 [==============================] - 73s 4ms/step - loss: 0.4254 - acc: 0.7855 - val_loss: 0.2745 - val_acc: 0.8854\n",
            "Epoch 2/25\n",
            "20000/20000 [==============================] - 72s 4ms/step - loss: 0.1756 - acc: 0.9357 - val_loss: 0.2550 - val_acc: 0.8934\n",
            "Epoch 3/25\n",
            "20000/20000 [==============================] - 72s 4ms/step - loss: 0.0397 - acc: 0.9892 - val_loss: 0.3159 - val_acc: 0.8940\n",
            "Epoch 4/25\n",
            "20000/20000 [==============================] - 72s 4ms/step - loss: 0.0055 - acc: 0.9996 - val_loss: 0.3462 - val_acc: 0.8952\n",
            "Epoch 5/25\n",
            "20000/20000 [==============================] - 72s 4ms/step - loss: 8.9399e-04 - acc: 1.0000 - val_loss: 0.3719 - val_acc: 0.8978\n",
            "Epoch 6/25\n",
            "20000/20000 [==============================] - 72s 4ms/step - loss: 4.0337e-04 - acc: 1.0000 - val_loss: 0.3910 - val_acc: 0.8968\n",
            "Epoch 7/25\n",
            "20000/20000 [==============================] - 72s 4ms/step - loss: 2.5286e-04 - acc: 1.0000 - val_loss: 0.4051 - val_acc: 0.8972\n",
            "Epoch 8/25\n",
            "20000/20000 [==============================] - 72s 4ms/step - loss: 1.7386e-04 - acc: 1.0000 - val_loss: 0.4189 - val_acc: 0.8976\n",
            "Epoch 9/25\n",
            "20000/20000 [==============================] - 72s 4ms/step - loss: 1.2533e-04 - acc: 1.0000 - val_loss: 0.4309 - val_acc: 0.8970\n",
            "Epoch 10/25\n",
            "20000/20000 [==============================] - 72s 4ms/step - loss: 9.3416e-05 - acc: 1.0000 - val_loss: 0.4410 - val_acc: 0.8966\n",
            "Epoch 11/25\n",
            "20000/20000 [==============================] - 72s 4ms/step - loss: 7.1135e-05 - acc: 1.0000 - val_loss: 0.4514 - val_acc: 0.8960\n",
            "Epoch 12/25\n",
            "20000/20000 [==============================] - 72s 4ms/step - loss: 5.5171e-05 - acc: 1.0000 - val_loss: 0.4612 - val_acc: 0.8964\n",
            "Epoch 13/25\n",
            "20000/20000 [==============================] - 72s 4ms/step - loss: 4.3378e-05 - acc: 1.0000 - val_loss: 0.4708 - val_acc: 0.8964\n",
            "Epoch 14/25\n",
            "20000/20000 [==============================] - 72s 4ms/step - loss: 3.4410e-05 - acc: 1.0000 - val_loss: 0.4798 - val_acc: 0.8966\n",
            "Epoch 15/25\n",
            "20000/20000 [==============================] - 72s 4ms/step - loss: 2.7558e-05 - acc: 1.0000 - val_loss: 0.4881 - val_acc: 0.8968\n",
            "Epoch 16/25\n",
            "20000/20000 [==============================] - 72s 4ms/step - loss: 2.2232e-05 - acc: 1.0000 - val_loss: 0.4970 - val_acc: 0.8968\n",
            "Epoch 17/25\n",
            "20000/20000 [==============================] - 72s 4ms/step - loss: 1.8022e-05 - acc: 1.0000 - val_loss: 0.5049 - val_acc: 0.8962\n",
            "Epoch 18/25\n",
            "20000/20000 [==============================] - 72s 4ms/step - loss: 1.4704e-05 - acc: 1.0000 - val_loss: 0.5129 - val_acc: 0.8964\n",
            "Epoch 19/25\n",
            "20000/20000 [==============================] - 72s 4ms/step - loss: 1.2016e-05 - acc: 1.0000 - val_loss: 0.5209 - val_acc: 0.8962\n",
            "Epoch 20/25\n",
            "20000/20000 [==============================] - 72s 4ms/step - loss: 9.8743e-06 - acc: 1.0000 - val_loss: 0.5288 - val_acc: 0.8964\n",
            "Epoch 21/25\n",
            "20000/20000 [==============================] - 72s 4ms/step - loss: 8.1334e-06 - acc: 1.0000 - val_loss: 0.5370 - val_acc: 0.8962\n",
            "Epoch 22/25\n",
            "20000/20000 [==============================] - 72s 4ms/step - loss: 6.7161e-06 - acc: 1.0000 - val_loss: 0.5434 - val_acc: 0.8958\n",
            "Epoch 23/25\n",
            "20000/20000 [==============================] - 72s 4ms/step - loss: 5.5626e-06 - acc: 1.0000 - val_loss: 0.5511 - val_acc: 0.8960\n",
            "Epoch 24/25\n",
            "20000/20000 [==============================] - 72s 4ms/step - loss: 4.6178e-06 - acc: 1.0000 - val_loss: 0.5586 - val_acc: 0.8958\n",
            "Epoch 25/25\n",
            "20000/20000 [==============================] - 72s 4ms/step - loss: 3.8407e-06 - acc: 1.0000 - val_loss: 0.5652 - val_acc: 0.8956\n",
            "정확도: 100.00%\n"
          ],
          "name": "stdout"
        }
      ]
    },
    {
      "cell_type": "code",
      "metadata": {
        "id": "-MUQZp46qaY_",
        "colab_type": "code",
        "colab": {
          "base_uri": "https://localhost:8080/",
          "height": 283
        },
        "outputId": "c052aec1-90ef-4d52-8b9e-c2c0e88e90d3"
      },
      "source": [
        "# 학습과정\n",
        "%matplotlib inline\n",
        "import matplotlib.pyplot as plt\n",
        "\n",
        "fig, loss_ax = plt.subplots()\n",
        "\n",
        "acc_ax = loss_ax.twinx()\n",
        "\n",
        "loss_ax.plot(hist.history['loss'], 'y', label='train loss')\n",
        "loss_ax.plot(hist.history['val_loss'], 'r', label='val loss')\n",
        "loss_ax.set_ylim([-0.2, 1.2])\n",
        "\n",
        "acc_ax.plot(hist.history['acc'], 'b', label='train acc')\n",
        "acc_ax.plot(hist.history['val_acc'], 'g', label='val acc')\n",
        "acc_ax.set_ylim([-0.2, 1.2])\n",
        "\n",
        "loss_ax.set_xlabel('epoch')\n",
        "loss_ax.set_ylabel('loss')\n",
        "acc_ax.set_ylabel('accuray')\n",
        "\n",
        "loss_ax.legend(loc='upper left')\n",
        "acc_ax.legend(loc='lower left')\n",
        "\n",
        "plt.show()"
      ],
      "execution_count": 8,
      "outputs": [
        {
          "output_type": "display_data",
          "data": {
            "image/png": "[encoded data removed]",
            "text/plain": [
              "<Figure size 432x288 with 2 Axes>"
            ]
          },
          "metadata": {
            "tags": []
          }
        }
      ]
    },
    {
      "cell_type": "code",
      "metadata": {
        "id": "Q8a8lCAnqaZC",
        "colab_type": "code",
        "colab": {
          "base_uri": "https://localhost:8080/",
          "height": 70
        },
        "outputId": "e9280c57-0d32-46a8-b8d7-16b4df1d5007"
      },
      "source": [
        "# 모델 평가\n",
        "loss_and_metrics = model.evaluate(x_test, y_test, batch_size=64)\n",
        "print('## evaluation loss and_metrics ##')\n",
        "print(loss_and_metrics)"
      ],
      "execution_count": 9,
      "outputs": [
        {
          "output_type": "stream",
          "text": [
            "25000/25000 [==============================] - 22s 863us/step\n",
            "## evaluation loss and_metrics ##\n",
            "[0.5942585745334625, 0.884120000038147]\n"
          ],
          "name": "stdout"
        }
      ]
    }
  ]
}